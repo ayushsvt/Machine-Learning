{
  "nbformat": 4,
  "nbformat_minor": 0,
  "metadata": {
    "colab": {
      "name": "ann.ipynb",
      "provenance": [],
      "collapsed_sections": [],
      "authorship_tag": "ABX9TyO/kGlOuWUGnYm4ClgIZgax",
      "include_colab_link": true
    },
    "kernelspec": {
      "name": "python3",
      "display_name": "Python 3"
    },
    "language_info": {
      "name": "python"
    }
  },
  "cells": [
    {
      "cell_type": "markdown",
      "metadata": {
        "id": "view-in-github",
        "colab_type": "text"
      },
      "source": [
        "<a href=\"https://colab.research.google.com/github/ayushsvt/Machine-Learning/blob/main/ann.ipynb\" target=\"_parent\"><img src=\"https://colab.research.google.com/assets/colab-badge.svg\" alt=\"Open In Colab\"/></a>"
      ]
    },
    {
      "cell_type": "code",
      "execution_count": 24,
      "metadata": {
        "id": "wxaUVqMgVUH3"
      },
      "outputs": [],
      "source": [
        "import tensorflow as tf\n",
        "import pandas as pd\n",
        "import numpy as np\n",
        "import matplotlib.pyplot as plt"
      ]
    },
    {
      "cell_type": "code",
      "source": [
        "df = pd.read_csv(\"https://raw.githubusercontent.com/digipodium/Datasets/main/classfication/diabetes.csv\")\n"
      ],
      "metadata": {
        "id": "eoFBkMyTVkwX"
      },
      "execution_count": 25,
      "outputs": []
    },
    {
      "cell_type": "code",
      "source": [
        "df.head()"
      ],
      "metadata": {
        "colab": {
          "base_uri": "https://localhost:8080/",
          "height": 206
        },
        "id": "rhTZYwlbVxzX",
        "outputId": "4f193eea-5d37-45db-ee9c-7d794fa23ec9"
      },
      "execution_count": 26,
      "outputs": [
        {
          "output_type": "execute_result",
          "data": {
            "text/plain": [
              "   Pregnancies  Glucose  BloodPressure  SkinThickness  Insulin   BMI  \\\n",
              "0            6      148             72             35        0  33.6   \n",
              "1            1       85             66             29        0  26.6   \n",
              "2            8      183             64              0        0  23.3   \n",
              "3            1       89             66             23       94  28.1   \n",
              "4            0      137             40             35      168  43.1   \n",
              "\n",
              "   DiabetesPedigreeFunction  Age  Outcome  \n",
              "0                     0.627   50        1  \n",
              "1                     0.351   31        0  \n",
              "2                     0.672   32        1  \n",
              "3                     0.167   21        0  \n",
              "4                     2.288   33        1  "
            ],
            "text/html": [
              "\n",
              "  <div id=\"df-7f178f20-d4d6-4fd6-bd12-152e1ef2da94\">\n",
              "    <div class=\"colab-df-container\">\n",
              "      <div>\n",
              "<style scoped>\n",
              "    .dataframe tbody tr th:only-of-type {\n",
              "        vertical-align: middle;\n",
              "    }\n",
              "\n",
              "    .dataframe tbody tr th {\n",
              "        vertical-align: top;\n",
              "    }\n",
              "\n",
              "    .dataframe thead th {\n",
              "        text-align: right;\n",
              "    }\n",
              "</style>\n",
              "<table border=\"1\" class=\"dataframe\">\n",
              "  <thead>\n",
              "    <tr style=\"text-align: right;\">\n",
              "      <th></th>\n",
              "      <th>Pregnancies</th>\n",
              "      <th>Glucose</th>\n",
              "      <th>BloodPressure</th>\n",
              "      <th>SkinThickness</th>\n",
              "      <th>Insulin</th>\n",
              "      <th>BMI</th>\n",
              "      <th>DiabetesPedigreeFunction</th>\n",
              "      <th>Age</th>\n",
              "      <th>Outcome</th>\n",
              "    </tr>\n",
              "  </thead>\n",
              "  <tbody>\n",
              "    <tr>\n",
              "      <th>0</th>\n",
              "      <td>6</td>\n",
              "      <td>148</td>\n",
              "      <td>72</td>\n",
              "      <td>35</td>\n",
              "      <td>0</td>\n",
              "      <td>33.6</td>\n",
              "      <td>0.627</td>\n",
              "      <td>50</td>\n",
              "      <td>1</td>\n",
              "    </tr>\n",
              "    <tr>\n",
              "      <th>1</th>\n",
              "      <td>1</td>\n",
              "      <td>85</td>\n",
              "      <td>66</td>\n",
              "      <td>29</td>\n",
              "      <td>0</td>\n",
              "      <td>26.6</td>\n",
              "      <td>0.351</td>\n",
              "      <td>31</td>\n",
              "      <td>0</td>\n",
              "    </tr>\n",
              "    <tr>\n",
              "      <th>2</th>\n",
              "      <td>8</td>\n",
              "      <td>183</td>\n",
              "      <td>64</td>\n",
              "      <td>0</td>\n",
              "      <td>0</td>\n",
              "      <td>23.3</td>\n",
              "      <td>0.672</td>\n",
              "      <td>32</td>\n",
              "      <td>1</td>\n",
              "    </tr>\n",
              "    <tr>\n",
              "      <th>3</th>\n",
              "      <td>1</td>\n",
              "      <td>89</td>\n",
              "      <td>66</td>\n",
              "      <td>23</td>\n",
              "      <td>94</td>\n",
              "      <td>28.1</td>\n",
              "      <td>0.167</td>\n",
              "      <td>21</td>\n",
              "      <td>0</td>\n",
              "    </tr>\n",
              "    <tr>\n",
              "      <th>4</th>\n",
              "      <td>0</td>\n",
              "      <td>137</td>\n",
              "      <td>40</td>\n",
              "      <td>35</td>\n",
              "      <td>168</td>\n",
              "      <td>43.1</td>\n",
              "      <td>2.288</td>\n",
              "      <td>33</td>\n",
              "      <td>1</td>\n",
              "    </tr>\n",
              "  </tbody>\n",
              "</table>\n",
              "</div>\n",
              "      <button class=\"colab-df-convert\" onclick=\"convertToInteractive('df-7f178f20-d4d6-4fd6-bd12-152e1ef2da94')\"\n",
              "              title=\"Convert this dataframe to an interactive table.\"\n",
              "              style=\"display:none;\">\n",
              "        \n",
              "  <svg xmlns=\"http://www.w3.org/2000/svg\" height=\"24px\"viewBox=\"0 0 24 24\"\n",
              "       width=\"24px\">\n",
              "    <path d=\"M0 0h24v24H0V0z\" fill=\"none\"/>\n",
              "    <path d=\"M18.56 5.44l.94 2.06.94-2.06 2.06-.94-2.06-.94-.94-2.06-.94 2.06-2.06.94zm-11 1L8.5 8.5l.94-2.06 2.06-.94-2.06-.94L8.5 2.5l-.94 2.06-2.06.94zm10 10l.94 2.06.94-2.06 2.06-.94-2.06-.94-.94-2.06-.94 2.06-2.06.94z\"/><path d=\"M17.41 7.96l-1.37-1.37c-.4-.4-.92-.59-1.43-.59-.52 0-1.04.2-1.43.59L10.3 9.45l-7.72 7.72c-.78.78-.78 2.05 0 2.83L4 21.41c.39.39.9.59 1.41.59.51 0 1.02-.2 1.41-.59l7.78-7.78 2.81-2.81c.8-.78.8-2.07 0-2.86zM5.41 20L4 18.59l7.72-7.72 1.47 1.35L5.41 20z\"/>\n",
              "  </svg>\n",
              "      </button>\n",
              "      \n",
              "  <style>\n",
              "    .colab-df-container {\n",
              "      display:flex;\n",
              "      flex-wrap:wrap;\n",
              "      gap: 12px;\n",
              "    }\n",
              "\n",
              "    .colab-df-convert {\n",
              "      background-color: #E8F0FE;\n",
              "      border: none;\n",
              "      border-radius: 50%;\n",
              "      cursor: pointer;\n",
              "      display: none;\n",
              "      fill: #1967D2;\n",
              "      height: 32px;\n",
              "      padding: 0 0 0 0;\n",
              "      width: 32px;\n",
              "    }\n",
              "\n",
              "    .colab-df-convert:hover {\n",
              "      background-color: #E2EBFA;\n",
              "      box-shadow: 0px 1px 2px rgba(60, 64, 67, 0.3), 0px 1px 3px 1px rgba(60, 64, 67, 0.15);\n",
              "      fill: #174EA6;\n",
              "    }\n",
              "\n",
              "    [theme=dark] .colab-df-convert {\n",
              "      background-color: #3B4455;\n",
              "      fill: #D2E3FC;\n",
              "    }\n",
              "\n",
              "    [theme=dark] .colab-df-convert:hover {\n",
              "      background-color: #434B5C;\n",
              "      box-shadow: 0px 1px 3px 1px rgba(0, 0, 0, 0.15);\n",
              "      filter: drop-shadow(0px 1px 2px rgba(0, 0, 0, 0.3));\n",
              "      fill: #FFFFFF;\n",
              "    }\n",
              "  </style>\n",
              "\n",
              "      <script>\n",
              "        const buttonEl =\n",
              "          document.querySelector('#df-7f178f20-d4d6-4fd6-bd12-152e1ef2da94 button.colab-df-convert');\n",
              "        buttonEl.style.display =\n",
              "          google.colab.kernel.accessAllowed ? 'block' : 'none';\n",
              "\n",
              "        async function convertToInteractive(key) {\n",
              "          const element = document.querySelector('#df-7f178f20-d4d6-4fd6-bd12-152e1ef2da94');\n",
              "          const dataTable =\n",
              "            await google.colab.kernel.invokeFunction('convertToInteractive',\n",
              "                                                     [key], {});\n",
              "          if (!dataTable) return;\n",
              "\n",
              "          const docLinkHtml = 'Like what you see? Visit the ' +\n",
              "            '<a target=\"_blank\" href=https://colab.research.google.com/notebooks/data_table.ipynb>data table notebook</a>'\n",
              "            + ' to learn more about interactive tables.';\n",
              "          element.innerHTML = '';\n",
              "          dataTable['output_type'] = 'display_data';\n",
              "          await google.colab.output.renderOutput(dataTable, element);\n",
              "          const docLink = document.createElement('div');\n",
              "          docLink.innerHTML = docLinkHtml;\n",
              "          element.appendChild(docLink);\n",
              "        }\n",
              "      </script>\n",
              "    </div>\n",
              "  </div>\n",
              "  "
            ]
          },
          "metadata": {},
          "execution_count": 26
        }
      ]
    },
    {
      "cell_type": "code",
      "source": [
        "df.info()"
      ],
      "metadata": {
        "colab": {
          "base_uri": "https://localhost:8080/"
        },
        "id": "4YJM6WiKV0Lm",
        "outputId": "f4d448d6-1032-4548-bd16-2298fd67ad5d"
      },
      "execution_count": 27,
      "outputs": [
        {
          "output_type": "stream",
          "name": "stdout",
          "text": [
            "<class 'pandas.core.frame.DataFrame'>\n",
            "RangeIndex: 768 entries, 0 to 767\n",
            "Data columns (total 9 columns):\n",
            " #   Column                    Non-Null Count  Dtype  \n",
            "---  ------                    --------------  -----  \n",
            " 0   Pregnancies               768 non-null    int64  \n",
            " 1   Glucose                   768 non-null    int64  \n",
            " 2   BloodPressure             768 non-null    int64  \n",
            " 3   SkinThickness             768 non-null    int64  \n",
            " 4   Insulin                   768 non-null    int64  \n",
            " 5   BMI                       768 non-null    float64\n",
            " 6   DiabetesPedigreeFunction  768 non-null    float64\n",
            " 7   Age                       768 non-null    int64  \n",
            " 8   Outcome                   768 non-null    int64  \n",
            "dtypes: float64(2), int64(7)\n",
            "memory usage: 54.1 KB\n"
          ]
        }
      ]
    },
    {
      "cell_type": "code",
      "source": [
        "df.isnull().sum()"
      ],
      "metadata": {
        "colab": {
          "base_uri": "https://localhost:8080/"
        },
        "id": "CGgeppi-V11e",
        "outputId": "901b5195-44a9-4a6b-e43d-58bb96ed42a2"
      },
      "execution_count": 28,
      "outputs": [
        {
          "output_type": "execute_result",
          "data": {
            "text/plain": [
              "Pregnancies                 0\n",
              "Glucose                     0\n",
              "BloodPressure               0\n",
              "SkinThickness               0\n",
              "Insulin                     0\n",
              "BMI                         0\n",
              "DiabetesPedigreeFunction    0\n",
              "Age                         0\n",
              "Outcome                     0\n",
              "dtype: int64"
            ]
          },
          "metadata": {},
          "execution_count": 28
        }
      ]
    },
    {
      "cell_type": "code",
      "source": [
        "X = df.drop('Outcome',axis=1)\n",
        "X.shape"
      ],
      "metadata": {
        "colab": {
          "base_uri": "https://localhost:8080/"
        },
        "id": "XsuiSzi0V6uO",
        "outputId": "d99d6ac6-cecd-4cb1-adbd-331523cf9ad0"
      },
      "execution_count": 29,
      "outputs": [
        {
          "output_type": "execute_result",
          "data": {
            "text/plain": [
              "(768, 8)"
            ]
          },
          "metadata": {},
          "execution_count": 29
        }
      ]
    },
    {
      "cell_type": "code",
      "source": [
        "y = df['Outcome']"
      ],
      "metadata": {
        "id": "Tw_5BxZdWMRZ"
      },
      "execution_count": 30,
      "outputs": []
    },
    {
      "cell_type": "code",
      "source": [
        "tf.__version__  # not a necessary step"
      ],
      "metadata": {
        "colab": {
          "base_uri": "https://localhost:8080/",
          "height": 36
        },
        "id": "qWjMwCzCWPmv",
        "outputId": "26636834-c09e-47c2-b4b2-64332fbc2133"
      },
      "execution_count": 31,
      "outputs": [
        {
          "output_type": "execute_result",
          "data": {
            "text/plain": [
              "'2.8.2'"
            ],
            "application/vnd.google.colaboratory.intrinsic+json": {
              "type": "string"
            }
          },
          "metadata": {},
          "execution_count": 31
        }
      ]
    },
    {
      "cell_type": "code",
      "source": [
        "model = tf.keras.models.Sequential()"
      ],
      "metadata": {
        "id": "nvI--dycWqAJ"
      },
      "execution_count": 32,
      "outputs": []
    },
    {
      "cell_type": "code",
      "source": [
        "model.add(tf.keras.layers.Dense(12, activation='relu', input_shape=(8,)))   # first layer will have input_shape"
      ],
      "metadata": {
        "id": "ub55UgmWXd29"
      },
      "execution_count": 33,
      "outputs": []
    },
    {
      "cell_type": "code",
      "source": [
        "model.add(tf.keras.layers.Dense(8, activation='relu'))"
      ],
      "metadata": {
        "id": "ww6CD6eoX8AC"
      },
      "execution_count": 34,
      "outputs": []
    },
    {
      "cell_type": "code",
      "source": [
        "model.add(tf.keras.layers.Dense(1, activation= 'sigmoid'))"
      ],
      "metadata": {
        "id": "hD3lVGeCZyyi"
      },
      "execution_count": 35,
      "outputs": []
    },
    {
      "cell_type": "code",
      "source": [
        "model.compile(\n",
        "    optimizer = 'adam',\n",
        "    loss = 'binary_crossentropy',\n",
        "    metrics = ['accuracy']\n",
        ")"
      ],
      "metadata": {
        "id": "oAZpydmZaB-6"
      },
      "execution_count": 36,
      "outputs": []
    },
    {
      "cell_type": "code",
      "source": [
        "model.summary()"
      ],
      "metadata": {
        "colab": {
          "base_uri": "https://localhost:8080/"
        },
        "id": "7SqqKJAjaodm",
        "outputId": "9b2fefa8-32e6-4900-dad5-b5e736dce05b"
      },
      "execution_count": 37,
      "outputs": [
        {
          "output_type": "stream",
          "name": "stdout",
          "text": [
            "Model: \"sequential_1\"\n",
            "_________________________________________________________________\n",
            " Layer (type)                Output Shape              Param #   \n",
            "=================================================================\n",
            " dense_3 (Dense)             (None, 12)                108       \n",
            "                                                                 \n",
            " dense_4 (Dense)             (None, 8)                 104       \n",
            "                                                                 \n",
            " dense_5 (Dense)             (None, 1)                 9         \n",
            "                                                                 \n",
            "=================================================================\n",
            "Total params: 221\n",
            "Trainable params: 221\n",
            "Non-trainable params: 0\n",
            "_________________________________________________________________\n"
          ]
        }
      ]
    },
    {
      "cell_type": "code",
      "source": [
        "history = model.fit(x = X, y = y, batch_size = 8, epochs = 100)"
      ],
      "metadata": {
        "colab": {
          "base_uri": "https://localhost:8080/"
        },
        "id": "t2m2Wug3bLNs",
        "outputId": "79366a0e-e885-41ee-ed0c-643d63b8ca30"
      },
      "execution_count": 38,
      "outputs": [
        {
          "output_type": "stream",
          "name": "stdout",
          "text": [
            "Epoch 1/100\n",
            "96/96 [==============================] - 1s 2ms/step - loss: 2.3261 - accuracy: 0.5534\n",
            "Epoch 2/100\n",
            "96/96 [==============================] - 0s 2ms/step - loss: 1.6156 - accuracy: 0.5703\n",
            "Epoch 3/100\n",
            "96/96 [==============================] - 0s 2ms/step - loss: 1.2685 - accuracy: 0.5664\n",
            "Epoch 4/100\n",
            "96/96 [==============================] - 0s 2ms/step - loss: 1.0866 - accuracy: 0.5911\n",
            "Epoch 5/100\n",
            "96/96 [==============================] - 0s 2ms/step - loss: 0.9415 - accuracy: 0.5872\n",
            "Epoch 6/100\n",
            "96/96 [==============================] - 0s 2ms/step - loss: 0.8327 - accuracy: 0.5977\n",
            "Epoch 7/100\n",
            "96/96 [==============================] - 0s 2ms/step - loss: 0.8367 - accuracy: 0.6159\n",
            "Epoch 8/100\n",
            "96/96 [==============================] - 0s 2ms/step - loss: 0.7850 - accuracy: 0.6133\n",
            "Epoch 9/100\n",
            "96/96 [==============================] - 0s 2ms/step - loss: 0.7365 - accuracy: 0.6510\n",
            "Epoch 10/100\n",
            "96/96 [==============================] - 0s 2ms/step - loss: 0.7051 - accuracy: 0.6536\n",
            "Epoch 11/100\n",
            "96/96 [==============================] - 0s 2ms/step - loss: 0.7064 - accuracy: 0.6432\n",
            "Epoch 12/100\n",
            "96/96 [==============================] - 0s 2ms/step - loss: 0.6909 - accuracy: 0.6380\n",
            "Epoch 13/100\n",
            "96/96 [==============================] - 0s 2ms/step - loss: 0.6850 - accuracy: 0.6497\n",
            "Epoch 14/100\n",
            "96/96 [==============================] - 0s 2ms/step - loss: 0.6572 - accuracy: 0.6693\n",
            "Epoch 15/100\n",
            "96/96 [==============================] - 0s 2ms/step - loss: 0.6416 - accuracy: 0.6862\n",
            "Epoch 16/100\n",
            "96/96 [==============================] - 0s 2ms/step - loss: 0.6446 - accuracy: 0.6836\n",
            "Epoch 17/100\n",
            "96/96 [==============================] - 0s 2ms/step - loss: 0.6122 - accuracy: 0.6875\n",
            "Epoch 18/100\n",
            "96/96 [==============================] - 0s 2ms/step - loss: 0.6257 - accuracy: 0.6953\n",
            "Epoch 19/100\n",
            "96/96 [==============================] - 0s 2ms/step - loss: 0.5910 - accuracy: 0.7018\n",
            "Epoch 20/100\n",
            "96/96 [==============================] - 0s 2ms/step - loss: 0.5976 - accuracy: 0.6940\n",
            "Epoch 21/100\n",
            "96/96 [==============================] - 0s 2ms/step - loss: 0.6112 - accuracy: 0.7031\n",
            "Epoch 22/100\n",
            "96/96 [==============================] - 0s 2ms/step - loss: 0.6022 - accuracy: 0.7070\n",
            "Epoch 23/100\n",
            "96/96 [==============================] - 0s 2ms/step - loss: 0.5984 - accuracy: 0.7057\n",
            "Epoch 24/100\n",
            "96/96 [==============================] - 0s 2ms/step - loss: 0.5932 - accuracy: 0.7031\n",
            "Epoch 25/100\n",
            "96/96 [==============================] - 0s 2ms/step - loss: 0.6060 - accuracy: 0.6992\n",
            "Epoch 26/100\n",
            "96/96 [==============================] - 0s 2ms/step - loss: 0.6134 - accuracy: 0.6745\n",
            "Epoch 27/100\n",
            "96/96 [==============================] - 0s 2ms/step - loss: 0.5868 - accuracy: 0.7018\n",
            "Epoch 28/100\n",
            "96/96 [==============================] - 0s 2ms/step - loss: 0.5679 - accuracy: 0.7161\n",
            "Epoch 29/100\n",
            "96/96 [==============================] - 0s 2ms/step - loss: 0.5488 - accuracy: 0.7448\n",
            "Epoch 30/100\n",
            "96/96 [==============================] - 0s 2ms/step - loss: 0.5595 - accuracy: 0.7292\n",
            "Epoch 31/100\n",
            "96/96 [==============================] - 0s 2ms/step - loss: 0.5660 - accuracy: 0.7201\n",
            "Epoch 32/100\n",
            "96/96 [==============================] - 0s 2ms/step - loss: 0.5596 - accuracy: 0.7148\n",
            "Epoch 33/100\n",
            "96/96 [==============================] - 0s 2ms/step - loss: 0.5754 - accuracy: 0.7214\n",
            "Epoch 34/100\n",
            "96/96 [==============================] - 0s 2ms/step - loss: 0.5694 - accuracy: 0.7161\n",
            "Epoch 35/100\n",
            "96/96 [==============================] - 0s 2ms/step - loss: 0.5554 - accuracy: 0.7331\n",
            "Epoch 36/100\n",
            "96/96 [==============================] - 0s 2ms/step - loss: 0.5479 - accuracy: 0.7370\n",
            "Epoch 37/100\n",
            "96/96 [==============================] - 0s 2ms/step - loss: 0.5620 - accuracy: 0.7266\n",
            "Epoch 38/100\n",
            "96/96 [==============================] - 0s 2ms/step - loss: 0.6225 - accuracy: 0.7057\n",
            "Epoch 39/100\n",
            "96/96 [==============================] - 0s 2ms/step - loss: 0.5879 - accuracy: 0.7135\n",
            "Epoch 40/100\n",
            "96/96 [==============================] - 0s 2ms/step - loss: 0.5368 - accuracy: 0.7201\n",
            "Epoch 41/100\n",
            "96/96 [==============================] - 0s 2ms/step - loss: 0.5550 - accuracy: 0.7279\n",
            "Epoch 42/100\n",
            "96/96 [==============================] - 0s 2ms/step - loss: 0.5425 - accuracy: 0.7331\n",
            "Epoch 43/100\n",
            "96/96 [==============================] - 0s 2ms/step - loss: 0.5421 - accuracy: 0.7422\n",
            "Epoch 44/100\n",
            "96/96 [==============================] - 0s 2ms/step - loss: 0.5649 - accuracy: 0.7279\n",
            "Epoch 45/100\n",
            "96/96 [==============================] - 0s 2ms/step - loss: 0.5471 - accuracy: 0.7161\n",
            "Epoch 46/100\n",
            "96/96 [==============================] - 0s 2ms/step - loss: 0.5530 - accuracy: 0.7305\n",
            "Epoch 47/100\n",
            "96/96 [==============================] - 0s 2ms/step - loss: 0.5539 - accuracy: 0.7188\n",
            "Epoch 48/100\n",
            "96/96 [==============================] - 0s 2ms/step - loss: 0.5381 - accuracy: 0.7357\n",
            "Epoch 49/100\n",
            "96/96 [==============================] - 0s 2ms/step - loss: 0.5229 - accuracy: 0.7448\n",
            "Epoch 50/100\n",
            "96/96 [==============================] - 0s 2ms/step - loss: 0.5218 - accuracy: 0.7370\n",
            "Epoch 51/100\n",
            "96/96 [==============================] - 0s 2ms/step - loss: 0.5361 - accuracy: 0.7331\n",
            "Epoch 52/100\n",
            "96/96 [==============================] - 0s 2ms/step - loss: 0.5355 - accuracy: 0.7396\n",
            "Epoch 53/100\n",
            "96/96 [==============================] - 0s 2ms/step - loss: 0.5222 - accuracy: 0.7383\n",
            "Epoch 54/100\n",
            "96/96 [==============================] - 0s 2ms/step - loss: 0.5563 - accuracy: 0.7161\n",
            "Epoch 55/100\n",
            "96/96 [==============================] - 0s 2ms/step - loss: 0.5220 - accuracy: 0.7422\n",
            "Epoch 56/100\n",
            "96/96 [==============================] - 0s 2ms/step - loss: 0.5269 - accuracy: 0.7448\n",
            "Epoch 57/100\n",
            "96/96 [==============================] - 0s 2ms/step - loss: 0.5113 - accuracy: 0.7487\n",
            "Epoch 58/100\n",
            "96/96 [==============================] - 0s 2ms/step - loss: 0.5433 - accuracy: 0.7161\n",
            "Epoch 59/100\n",
            "96/96 [==============================] - 0s 2ms/step - loss: 0.5074 - accuracy: 0.7643\n",
            "Epoch 60/100\n",
            "96/96 [==============================] - 0s 2ms/step - loss: 0.5257 - accuracy: 0.7305\n",
            "Epoch 61/100\n",
            "96/96 [==============================] - 0s 2ms/step - loss: 0.5259 - accuracy: 0.7435\n",
            "Epoch 62/100\n",
            "96/96 [==============================] - 0s 2ms/step - loss: 0.5414 - accuracy: 0.7396\n",
            "Epoch 63/100\n",
            "96/96 [==============================] - 0s 2ms/step - loss: 0.5109 - accuracy: 0.7513\n",
            "Epoch 64/100\n",
            "96/96 [==============================] - 0s 2ms/step - loss: 0.5269 - accuracy: 0.7409\n",
            "Epoch 65/100\n",
            "96/96 [==============================] - 0s 2ms/step - loss: 0.5166 - accuracy: 0.7500\n",
            "Epoch 66/100\n",
            "96/96 [==============================] - 0s 2ms/step - loss: 0.5508 - accuracy: 0.7396\n",
            "Epoch 67/100\n",
            "96/96 [==============================] - 0s 2ms/step - loss: 0.5179 - accuracy: 0.7448\n",
            "Epoch 68/100\n",
            "96/96 [==============================] - 0s 2ms/step - loss: 0.5155 - accuracy: 0.7539\n",
            "Epoch 69/100\n",
            "96/96 [==============================] - 0s 2ms/step - loss: 0.5181 - accuracy: 0.7526\n",
            "Epoch 70/100\n",
            "96/96 [==============================] - 0s 2ms/step - loss: 0.5077 - accuracy: 0.7643\n",
            "Epoch 71/100\n",
            "96/96 [==============================] - 0s 2ms/step - loss: 0.4980 - accuracy: 0.7643\n",
            "Epoch 72/100\n",
            "96/96 [==============================] - 0s 2ms/step - loss: 0.5030 - accuracy: 0.7617\n",
            "Epoch 73/100\n",
            "96/96 [==============================] - 0s 2ms/step - loss: 0.5076 - accuracy: 0.7526\n",
            "Epoch 74/100\n",
            "96/96 [==============================] - 0s 2ms/step - loss: 0.4944 - accuracy: 0.7669\n",
            "Epoch 75/100\n",
            "96/96 [==============================] - 0s 2ms/step - loss: 0.5255 - accuracy: 0.7357\n",
            "Epoch 76/100\n",
            "96/96 [==============================] - 0s 2ms/step - loss: 0.5030 - accuracy: 0.7539\n",
            "Epoch 77/100\n",
            "96/96 [==============================] - 0s 2ms/step - loss: 0.5043 - accuracy: 0.7669\n",
            "Epoch 78/100\n",
            "96/96 [==============================] - 0s 2ms/step - loss: 0.5160 - accuracy: 0.7422\n",
            "Epoch 79/100\n",
            "96/96 [==============================] - 0s 2ms/step - loss: 0.5219 - accuracy: 0.7435\n",
            "Epoch 80/100\n",
            "96/96 [==============================] - 0s 2ms/step - loss: 0.4924 - accuracy: 0.7656\n",
            "Epoch 81/100\n",
            "96/96 [==============================] - 0s 2ms/step - loss: 0.5182 - accuracy: 0.7448\n",
            "Epoch 82/100\n",
            "96/96 [==============================] - 0s 2ms/step - loss: 0.5275 - accuracy: 0.7357\n",
            "Epoch 83/100\n",
            "96/96 [==============================] - 0s 2ms/step - loss: 0.4958 - accuracy: 0.7552\n",
            "Epoch 84/100\n",
            "96/96 [==============================] - 0s 2ms/step - loss: 0.5051 - accuracy: 0.7461\n",
            "Epoch 85/100\n",
            "96/96 [==============================] - 0s 2ms/step - loss: 0.4774 - accuracy: 0.7852\n",
            "Epoch 86/100\n",
            "96/96 [==============================] - 0s 2ms/step - loss: 0.5154 - accuracy: 0.7552\n",
            "Epoch 87/100\n",
            "96/96 [==============================] - 0s 2ms/step - loss: 0.5700 - accuracy: 0.7122\n",
            "Epoch 88/100\n",
            "96/96 [==============================] - 0s 2ms/step - loss: 0.4931 - accuracy: 0.7526\n",
            "Epoch 89/100\n",
            "96/96 [==============================] - 0s 2ms/step - loss: 0.4835 - accuracy: 0.7695\n",
            "Epoch 90/100\n",
            "96/96 [==============================] - 0s 2ms/step - loss: 0.4995 - accuracy: 0.7643\n",
            "Epoch 91/100\n",
            "96/96 [==============================] - 0s 2ms/step - loss: 0.4912 - accuracy: 0.7578\n",
            "Epoch 92/100\n",
            "96/96 [==============================] - 0s 2ms/step - loss: 0.4838 - accuracy: 0.7513\n",
            "Epoch 93/100\n",
            "96/96 [==============================] - 0s 2ms/step - loss: 0.4773 - accuracy: 0.7799\n",
            "Epoch 94/100\n",
            "96/96 [==============================] - 0s 2ms/step - loss: 0.4779 - accuracy: 0.7578\n",
            "Epoch 95/100\n",
            "96/96 [==============================] - 0s 2ms/step - loss: 0.4787 - accuracy: 0.7656\n",
            "Epoch 96/100\n",
            "96/96 [==============================] - 0s 2ms/step - loss: 0.4799 - accuracy: 0.7669\n",
            "Epoch 97/100\n",
            "96/96 [==============================] - 0s 2ms/step - loss: 0.4779 - accuracy: 0.7630\n",
            "Epoch 98/100\n",
            "96/96 [==============================] - 0s 2ms/step - loss: 0.5035 - accuracy: 0.7500\n",
            "Epoch 99/100\n",
            "96/96 [==============================] - 0s 3ms/step - loss: 0.4843 - accuracy: 0.7617\n",
            "Epoch 100/100\n",
            "96/96 [==============================] - 0s 3ms/step - loss: 0.4792 - accuracy: 0.7604\n"
          ]
        }
      ]
    },
    {
      "cell_type": "code",
      "source": [
        "pd.DataFrame(history.history).plot(subplots=True,layout=(1,2),figsize=(20,6))\n",
        "plt.show()"
      ],
      "metadata": {
        "id": "mkPvg_ZUbvka"
      },
      "execution_count": null,
      "outputs": []
    },
    {
      "cell_type": "code",
      "source": [
        "df['Pred'] = model.predict(X)"
      ],
      "metadata": {
        "id": "bD2tHbdocaT6"
      },
      "execution_count": 40,
      "outputs": []
    },
    {
      "cell_type": "code",
      "source": [
        "df['Predclass'] = (df['Pred'] > 0.5).astype(int)"
      ],
      "metadata": {
        "id": "PaFtLh3AdrBc"
      },
      "execution_count": 46,
      "outputs": []
    },
    {
      "cell_type": "code",
      "source": [
        "df"
      ],
      "metadata": {
        "id": "xpIbcVsRdsiV"
      },
      "execution_count": null,
      "outputs": []
    },
    {
      "cell_type": "code",
      "source": [
        "from sklearn.metrics import confusion_matrix , classification_report"
      ],
      "metadata": {
        "id": "A3Auo4jXd8iB"
      },
      "execution_count": 48,
      "outputs": []
    },
    {
      "cell_type": "code",
      "source": [
        "print(confusion_matrix(y,df['Predclass'].values))"
      ],
      "metadata": {
        "colab": {
          "base_uri": "https://localhost:8080/"
        },
        "id": "hWW2yNTPemmr",
        "outputId": "b4c3cf35-ce1e-4761-d564-98bee2db3b20"
      },
      "execution_count": 51,
      "outputs": [
        {
          "output_type": "stream",
          "name": "stdout",
          "text": [
            "[[373 127]\n",
            " [ 45 223]]\n"
          ]
        }
      ]
    },
    {
      "cell_type": "code",
      "source": [
        "print(classification_report(y,df['Predclass'].values))"
      ],
      "metadata": {
        "colab": {
          "base_uri": "https://localhost:8080/"
        },
        "id": "qDmDwOwBexE6",
        "outputId": "69093cde-5546-445e-d7ce-cff9300beec6"
      },
      "execution_count": 52,
      "outputs": [
        {
          "output_type": "stream",
          "name": "stdout",
          "text": [
            "              precision    recall  f1-score   support\n",
            "\n",
            "           0       0.89      0.75      0.81       500\n",
            "           1       0.64      0.83      0.72       268\n",
            "\n",
            "    accuracy                           0.78       768\n",
            "   macro avg       0.76      0.79      0.77       768\n",
            "weighted avg       0.80      0.78      0.78       768\n",
            "\n"
          ]
        }
      ]
    },
    {
      "cell_type": "code",
      "source": [
        ""
      ],
      "metadata": {
        "id": "Vhr1X5cCfEVc"
      },
      "execution_count": null,
      "outputs": []
    }
  ]
}