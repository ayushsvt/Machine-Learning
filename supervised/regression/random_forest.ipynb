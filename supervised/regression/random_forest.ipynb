{
 "cells": [
  {
   "cell_type": "code",
   "execution_count": 69,
   "metadata": {},
   "outputs": [],
   "source": [
    "import pandas as pd\n",
    "import numpy as np\n",
    "import matplotlib.pyplot as plt\n",
    "import plotly_express as px\n",
    "\n",
    "from sklearn.model_selection import train_test_split\n",
    "from sklearn.preprocessing import OneHotEncoder, StandardScaler\n",
    "from sklearn.ensemble import RandomForestRegressor\n",
    "from sklearn.tree import DecisionTreeRegressor\n",
    "from joblib import dump\n",
    "from sklearn.metrics import mean_absolute_error, mean_squared_error, r2_score\n",
    "from sklearn.model_selection import cross_validate"
   ]
  },
  {
   "cell_type": "code",
   "execution_count": 70,
   "metadata": {},
   "outputs": [
    {
     "data": {
      "text/html": [
       "<div>\n",
       "<style scoped>\n",
       "    .dataframe tbody tr th:only-of-type {\n",
       "        vertical-align: middle;\n",
       "    }\n",
       "\n",
       "    .dataframe tbody tr th {\n",
       "        vertical-align: top;\n",
       "    }\n",
       "\n",
       "    .dataframe thead th {\n",
       "        text-align: right;\n",
       "    }\n",
       "</style>\n",
       "<table border=\"1\" class=\"dataframe\">\n",
       "  <thead>\n",
       "    <tr style=\"text-align: right;\">\n",
       "      <th></th>\n",
       "      <th>City</th>\n",
       "      <th>Type</th>\n",
       "      <th>Beds</th>\n",
       "      <th>Baths</th>\n",
       "      <th>SquareFeet</th>\n",
       "      <th>Price</th>\n",
       "    </tr>\n",
       "  </thead>\n",
       "  <tbody>\n",
       "    <tr>\n",
       "      <th>0</th>\n",
       "      <td>SACRAMENTO</td>\n",
       "      <td>Residential</td>\n",
       "      <td>2</td>\n",
       "      <td>1</td>\n",
       "      <td>836</td>\n",
       "      <td>138159.85</td>\n",
       "    </tr>\n",
       "    <tr>\n",
       "      <th>1</th>\n",
       "      <td>SACRAMENTO</td>\n",
       "      <td>Residential</td>\n",
       "      <td>3</td>\n",
       "      <td>1</td>\n",
       "      <td>1167</td>\n",
       "      <td>167541.46</td>\n",
       "    </tr>\n",
       "    <tr>\n",
       "      <th>2</th>\n",
       "      <td>SACRAMENTO</td>\n",
       "      <td>Residential</td>\n",
       "      <td>2</td>\n",
       "      <td>1</td>\n",
       "      <td>796</td>\n",
       "      <td>119095.12</td>\n",
       "    </tr>\n",
       "    <tr>\n",
       "      <th>3</th>\n",
       "      <td>SACRAMENTO</td>\n",
       "      <td>Residential</td>\n",
       "      <td>2</td>\n",
       "      <td>1</td>\n",
       "      <td>852</td>\n",
       "      <td>130904.95</td>\n",
       "    </tr>\n",
       "    <tr>\n",
       "      <th>4</th>\n",
       "      <td>SACRAMENTO</td>\n",
       "      <td>Residential</td>\n",
       "      <td>2</td>\n",
       "      <td>1</td>\n",
       "      <td>797</td>\n",
       "      <td>120266.19</td>\n",
       "    </tr>\n",
       "  </tbody>\n",
       "</table>\n",
       "</div>"
      ],
      "text/plain": [
       "         City         Type  Beds  Baths  SquareFeet      Price\n",
       "0  SACRAMENTO  Residential     2      1         836  138159.85\n",
       "1  SACRAMENTO  Residential     3      1        1167  167541.46\n",
       "2  SACRAMENTO  Residential     2      1         796  119095.12\n",
       "3  SACRAMENTO  Residential     2      1         852  130904.95\n",
       "4  SACRAMENTO  Residential     2      1         797  120266.19"
      ]
     },
     "execution_count": 70,
     "metadata": {},
     "output_type": "execute_result"
    }
   ],
   "source": [
    "url = \"https://raw.githubusercontent.com/digipodium/Datasets/main/house_pricing.csv\"\n",
    "df = pd.read_csv(url)\n",
    "df.head()"
   ]
  },
  {
   "cell_type": "code",
   "execution_count": null,
   "metadata": {},
   "outputs": [],
   "source": [
    "df.SquareFeet.describe()"
   ]
  },
  {
   "cell_type": "code",
   "execution_count": null,
   "metadata": {},
   "outputs": [],
   "source": [
    "cities = df.City.unique().tolist()"
   ]
  },
  {
   "cell_type": "code",
   "execution_count": null,
   "metadata": {},
   "outputs": [],
   "source": [
    "resident_types = df.Type.unique().tolist()"
   ]
  },
  {
   "cell_type": "code",
   "execution_count": 71,
   "metadata": {},
   "outputs": [
    {
     "data": {
      "text/html": [
       "<div>\n",
       "<style scoped>\n",
       "    .dataframe tbody tr th:only-of-type {\n",
       "        vertical-align: middle;\n",
       "    }\n",
       "\n",
       "    .dataframe tbody tr th {\n",
       "        vertical-align: top;\n",
       "    }\n",
       "\n",
       "    .dataframe thead th {\n",
       "        text-align: right;\n",
       "    }\n",
       "</style>\n",
       "<table border=\"1\" class=\"dataframe\">\n",
       "  <thead>\n",
       "    <tr style=\"text-align: right;\">\n",
       "      <th></th>\n",
       "      <th>City</th>\n",
       "      <th>Type</th>\n",
       "    </tr>\n",
       "  </thead>\n",
       "  <tbody>\n",
       "    <tr>\n",
       "      <th>count</th>\n",
       "      <td>814</td>\n",
       "      <td>814</td>\n",
       "    </tr>\n",
       "    <tr>\n",
       "      <th>unique</th>\n",
       "      <td>36</td>\n",
       "      <td>3</td>\n",
       "    </tr>\n",
       "    <tr>\n",
       "      <th>top</th>\n",
       "      <td>SACRAMENTO</td>\n",
       "      <td>Residential</td>\n",
       "    </tr>\n",
       "    <tr>\n",
       "      <th>freq</th>\n",
       "      <td>424</td>\n",
       "      <td>759</td>\n",
       "    </tr>\n",
       "  </tbody>\n",
       "</table>\n",
       "</div>"
      ],
      "text/plain": [
       "              City         Type\n",
       "count          814          814\n",
       "unique          36            3\n",
       "top     SACRAMENTO  Residential\n",
       "freq           424          759"
      ]
     },
     "execution_count": 71,
     "metadata": {},
     "output_type": "execute_result"
    }
   ],
   "source": [
    "df.describe(include='object')"
   ]
  },
  {
   "cell_type": "code",
   "execution_count": 72,
   "metadata": {},
   "outputs": [
    {
     "data": {
      "text/plain": [
       "City          0\n",
       "Type          0\n",
       "Beds          0\n",
       "Baths         0\n",
       "SquareFeet    0\n",
       "Price         0\n",
       "dtype: int64"
      ]
     },
     "execution_count": 72,
     "metadata": {},
     "output_type": "execute_result"
    }
   ],
   "source": [
    "df.isna().sum()   # to find missing values"
   ]
  },
  {
   "cell_type": "code",
   "execution_count": 73,
   "metadata": {},
   "outputs": [],
   "source": [
    "cityenc = OneHotEncoder(drop='first')\n",
    "city_dummies = cityenc.fit_transform(df[['City']]).toarray()\n",
    "\n",
    "res_type = OneHotEncoder(drop='first')\n",
    "res_dummies = res_type.fit_transform(df[['Type']]).toarray()"
   ]
  },
  {
   "cell_type": "code",
   "execution_count": 74,
   "metadata": {},
   "outputs": [
    {
     "data": {
      "text/html": [
       "<div>\n",
       "<style scoped>\n",
       "    .dataframe tbody tr th:only-of-type {\n",
       "        vertical-align: middle;\n",
       "    }\n",
       "\n",
       "    .dataframe tbody tr th {\n",
       "        vertical-align: top;\n",
       "    }\n",
       "\n",
       "    .dataframe thead th {\n",
       "        text-align: right;\n",
       "    }\n",
       "</style>\n",
       "<table border=\"1\" class=\"dataframe\">\n",
       "  <thead>\n",
       "    <tr style=\"text-align: right;\">\n",
       "      <th></th>\n",
       "      <th>Beds</th>\n",
       "      <th>Baths</th>\n",
       "      <th>SquareFeet</th>\n",
       "      <th>Price</th>\n",
       "      <th>0</th>\n",
       "      <th>1</th>\n",
       "      <th>2</th>\n",
       "      <th>3</th>\n",
       "      <th>4</th>\n",
       "      <th>5</th>\n",
       "      <th>...</th>\n",
       "      <th>27</th>\n",
       "      <th>28</th>\n",
       "      <th>29</th>\n",
       "      <th>30</th>\n",
       "      <th>31</th>\n",
       "      <th>32</th>\n",
       "      <th>33</th>\n",
       "      <th>34</th>\n",
       "      <th>0</th>\n",
       "      <th>1</th>\n",
       "    </tr>\n",
       "  </thead>\n",
       "  <tbody>\n",
       "    <tr>\n",
       "      <th>0</th>\n",
       "      <td>2</td>\n",
       "      <td>1</td>\n",
       "      <td>836</td>\n",
       "      <td>138159.85</td>\n",
       "      <td>0.0</td>\n",
       "      <td>0.0</td>\n",
       "      <td>0.0</td>\n",
       "      <td>0.0</td>\n",
       "      <td>0.0</td>\n",
       "      <td>0.0</td>\n",
       "      <td>...</td>\n",
       "      <td>0.0</td>\n",
       "      <td>0.0</td>\n",
       "      <td>0.0</td>\n",
       "      <td>1.0</td>\n",
       "      <td>0.0</td>\n",
       "      <td>0.0</td>\n",
       "      <td>0.0</td>\n",
       "      <td>0.0</td>\n",
       "      <td>0.0</td>\n",
       "      <td>1.0</td>\n",
       "    </tr>\n",
       "    <tr>\n",
       "      <th>1</th>\n",
       "      <td>3</td>\n",
       "      <td>1</td>\n",
       "      <td>1167</td>\n",
       "      <td>167541.46</td>\n",
       "      <td>0.0</td>\n",
       "      <td>0.0</td>\n",
       "      <td>0.0</td>\n",
       "      <td>0.0</td>\n",
       "      <td>0.0</td>\n",
       "      <td>0.0</td>\n",
       "      <td>...</td>\n",
       "      <td>0.0</td>\n",
       "      <td>0.0</td>\n",
       "      <td>0.0</td>\n",
       "      <td>1.0</td>\n",
       "      <td>0.0</td>\n",
       "      <td>0.0</td>\n",
       "      <td>0.0</td>\n",
       "      <td>0.0</td>\n",
       "      <td>0.0</td>\n",
       "      <td>1.0</td>\n",
       "    </tr>\n",
       "    <tr>\n",
       "      <th>2</th>\n",
       "      <td>2</td>\n",
       "      <td>1</td>\n",
       "      <td>796</td>\n",
       "      <td>119095.12</td>\n",
       "      <td>0.0</td>\n",
       "      <td>0.0</td>\n",
       "      <td>0.0</td>\n",
       "      <td>0.0</td>\n",
       "      <td>0.0</td>\n",
       "      <td>0.0</td>\n",
       "      <td>...</td>\n",
       "      <td>0.0</td>\n",
       "      <td>0.0</td>\n",
       "      <td>0.0</td>\n",
       "      <td>1.0</td>\n",
       "      <td>0.0</td>\n",
       "      <td>0.0</td>\n",
       "      <td>0.0</td>\n",
       "      <td>0.0</td>\n",
       "      <td>0.0</td>\n",
       "      <td>1.0</td>\n",
       "    </tr>\n",
       "    <tr>\n",
       "      <th>3</th>\n",
       "      <td>2</td>\n",
       "      <td>1</td>\n",
       "      <td>852</td>\n",
       "      <td>130904.95</td>\n",
       "      <td>0.0</td>\n",
       "      <td>0.0</td>\n",
       "      <td>0.0</td>\n",
       "      <td>0.0</td>\n",
       "      <td>0.0</td>\n",
       "      <td>0.0</td>\n",
       "      <td>...</td>\n",
       "      <td>0.0</td>\n",
       "      <td>0.0</td>\n",
       "      <td>0.0</td>\n",
       "      <td>1.0</td>\n",
       "      <td>0.0</td>\n",
       "      <td>0.0</td>\n",
       "      <td>0.0</td>\n",
       "      <td>0.0</td>\n",
       "      <td>0.0</td>\n",
       "      <td>1.0</td>\n",
       "    </tr>\n",
       "    <tr>\n",
       "      <th>4</th>\n",
       "      <td>2</td>\n",
       "      <td>1</td>\n",
       "      <td>797</td>\n",
       "      <td>120266.19</td>\n",
       "      <td>0.0</td>\n",
       "      <td>0.0</td>\n",
       "      <td>0.0</td>\n",
       "      <td>0.0</td>\n",
       "      <td>0.0</td>\n",
       "      <td>0.0</td>\n",
       "      <td>...</td>\n",
       "      <td>0.0</td>\n",
       "      <td>0.0</td>\n",
       "      <td>0.0</td>\n",
       "      <td>1.0</td>\n",
       "      <td>0.0</td>\n",
       "      <td>0.0</td>\n",
       "      <td>0.0</td>\n",
       "      <td>0.0</td>\n",
       "      <td>0.0</td>\n",
       "      <td>1.0</td>\n",
       "    </tr>\n",
       "  </tbody>\n",
       "</table>\n",
       "<p>5 rows × 41 columns</p>\n",
       "</div>"
      ],
      "text/plain": [
       "   Beds  Baths  SquareFeet      Price    0    1    2    3    4    5  ...   27  \\\n",
       "0     2      1         836  138159.85  0.0  0.0  0.0  0.0  0.0  0.0  ...  0.0   \n",
       "1     3      1        1167  167541.46  0.0  0.0  0.0  0.0  0.0  0.0  ...  0.0   \n",
       "2     2      1         796  119095.12  0.0  0.0  0.0  0.0  0.0  0.0  ...  0.0   \n",
       "3     2      1         852  130904.95  0.0  0.0  0.0  0.0  0.0  0.0  ...  0.0   \n",
       "4     2      1         797  120266.19  0.0  0.0  0.0  0.0  0.0  0.0  ...  0.0   \n",
       "\n",
       "    28   29   30   31   32   33   34    0    1  \n",
       "0  0.0  0.0  1.0  0.0  0.0  0.0  0.0  0.0  1.0  \n",
       "1  0.0  0.0  1.0  0.0  0.0  0.0  0.0  0.0  1.0  \n",
       "2  0.0  0.0  1.0  0.0  0.0  0.0  0.0  0.0  1.0  \n",
       "3  0.0  0.0  1.0  0.0  0.0  0.0  0.0  0.0  1.0  \n",
       "4  0.0  0.0  1.0  0.0  0.0  0.0  0.0  0.0  1.0  \n",
       "\n",
       "[5 rows x 41 columns]"
      ]
     },
     "execution_count": 74,
     "metadata": {},
     "output_type": "execute_result"
    }
   ],
   "source": [
    "df.drop(columns=['City','Type'], inplace=True)\n",
    "df = pd.concat([df, pd.DataFrame(city_dummies), pd.DataFrame(res_dummies)], axis=1)\n",
    "df.head()"
   ]
  },
  {
   "cell_type": "code",
   "execution_count": 75,
   "metadata": {},
   "outputs": [],
   "source": [
    "X = df.drop(columns=['Price'])\n",
    "y = df['Price']"
   ]
  },
  {
   "cell_type": "code",
   "execution_count": 76,
   "metadata": {},
   "outputs": [],
   "source": [
    "X.columns = X.columns.astype(str)"
   ]
  },
  {
   "cell_type": "code",
   "execution_count": 77,
   "metadata": {},
   "outputs": [],
   "source": [
    "scaler = StandardScaler()\n",
    "x = scaler.fit_transform(X)\n",
    "X_train, X_test, y_train, y_test = train_test_split(X,y, test_size=0.2, random_state=42)"
   ]
  },
  {
   "cell_type": "markdown",
   "metadata": {},
   "source": [
    "Training"
   ]
  },
  {
   "cell_type": "code",
   "execution_count": 78,
   "metadata": {},
   "outputs": [
    {
     "name": "stdout",
     "output_type": "stream",
     "text": [
      "Decision Tree Regression:\n",
      "MSE 1381077044.0749595\n",
      "MAE 15795.767137014313\n",
      "R2 0.835140477352338\n"
     ]
    }
   ],
   "source": [
    "model1 = DecisionTreeRegressor()\n",
    "model1.fit(X_train, y_train)\n",
    "y_pred = model1.predict(X_test)\n",
    "print(\"Decision Tree Regression:\")\n",
    "print('MSE',mean_squared_error(y_test,y_pred))\n",
    "print('MAE',mean_absolute_error(y_test,y_pred))\n",
    "print('R2', r2_score(y_test,y_pred))"
   ]
  },
  {
   "cell_type": "code",
   "execution_count": 79,
   "metadata": {},
   "outputs": [
    {
     "name": "stdout",
     "output_type": "stream",
     "text": [
      "Decision Tree Regression:\n",
      "MSE 1381077044.0749595\n",
      "MAE 15795.767137014313\n",
      "R2 0.835140477352338\n"
     ]
    }
   ],
   "source": [
    "model2 = RandomForestRegressor()\n",
    "model2.fit(X_train, y_train)\n",
    "y_pred = model1.predict(X_test)\n",
    "print(\"Decision Tree Regression:\")\n",
    "print('MSE',mean_squared_error(y_test,y_pred))\n",
    "print('MAE',mean_absolute_error(y_test,y_pred))\n",
    "print('R2', r2_score(y_test,y_pred))"
   ]
  },
  {
   "cell_type": "code",
   "execution_count": 80,
   "metadata": {},
   "outputs": [
    {
     "name": "stdout",
     "output_type": "stream",
     "text": [
      "Random Forest Regression with max_depth:5\n",
      "MSE: 1264098807.655385\n",
      "MAE: 19769.366922390986\n",
      "R2: 0.849104199578431\n",
      "-------------------------\n",
      "Random Forest Regression with max_depth:10\n",
      "MSE: 1172907083.0059826\n",
      "MAE: 15130.087235928953\n",
      "R2: 0.8599897792494675\n",
      "-------------------------\n",
      "Random Forest Regression with max_depth:15\n",
      "MSE: 1124307246.895158\n",
      "MAE: 14570.555447808092\n",
      "R2: 0.8657911542099438\n",
      "-------------------------\n",
      "Random Forest Regression with max_depth:20\n",
      "MSE: 1099103867.3461285\n",
      "MAE: 14661.149708581466\n",
      "R2: 0.8687996881214924\n",
      "-------------------------\n",
      "Random Forest Regression with max_depth:25\n",
      "MSE: 1175117931.7051997\n",
      "MAE: 14622.397988601608\n",
      "R2: 0.8597258696705177\n",
      "-------------------------\n",
      "Random Forest Regression with max_depth:30\n",
      "MSE: 1155501928.0952811\n",
      "MAE: 14537.129624413717\n",
      "R2: 0.8620674370763766\n",
      "-------------------------\n",
      "Random Forest Regression with max_depth:35\n",
      "MSE: 1051155946.3733352\n",
      "MAE: 14264.706277259436\n",
      "R2: 0.8745232438039469\n",
      "-------------------------\n",
      "Random Forest Regression with max_depth:40\n",
      "MSE: 1126476036.1307096\n",
      "MAE: 14930.820002249473\n",
      "R2: 0.8655322652800103\n",
      "-------------------------\n",
      "Random Forest Regression with max_depth:45\n",
      "MSE: 1031253652.3684886\n",
      "MAE: 14263.462918843112\n",
      "R2: 0.8768989857680239\n",
      "-------------------------\n"
     ]
    }
   ],
   "source": [
    "for i in range(5,50,5):\n",
    "    model2 = RandomForestRegressor(max_depth=i)\n",
    "    model2.fit(X_train, y_train)\n",
    "    y_pred = model2.predict(X_test)\n",
    "    print(f'Random Forest Regression with max_depth:{i}')\n",
    "    print('MSE:', mean_squared_error(y_test, y_pred))\n",
    "    print('MAE:', mean_absolute_error(y_test, y_pred))\n",
    "    print('R2:', r2_score(y_test, y_pred))\n",
    "    print('-'*25)"
   ]
  },
  {
   "cell_type": "markdown",
   "metadata": {},
   "source": [
    "Cross Validation"
   ]
  },
  {
   "cell_type": "code",
   "execution_count": 81,
   "metadata": {},
   "outputs": [],
   "source": [
    "from sklearn.model_selection import ShuffleSplit\n",
    "from sklearn.model_selection import cross_validate"
   ]
  },
  {
   "cell_type": "code",
   "execution_count": 82,
   "metadata": {},
   "outputs": [],
   "source": [
    "model1 = DecisionTreeRegressor()\n",
    "cv = ShuffleSplit(n_splits=10,test_size=0.2,random_state=0)\n",
    "cv_result = cross_validate(model1,X,y ,cv=cv, scoring=('r2','neg_mean_absolute_error'))"
   ]
  },
  {
   "cell_type": "code",
   "execution_count": 83,
   "metadata": {},
   "outputs": [
    {
     "data": {
      "text/html": [
       "<div>\n",
       "<style scoped>\n",
       "    .dataframe tbody tr th:only-of-type {\n",
       "        vertical-align: middle;\n",
       "    }\n",
       "\n",
       "    .dataframe tbody tr th {\n",
       "        vertical-align: top;\n",
       "    }\n",
       "\n",
       "    .dataframe thead th {\n",
       "        text-align: right;\n",
       "    }\n",
       "</style>\n",
       "<table border=\"1\" class=\"dataframe\">\n",
       "  <thead>\n",
       "    <tr style=\"text-align: right;\">\n",
       "      <th></th>\n",
       "      <th>fit_time</th>\n",
       "      <th>score_time</th>\n",
       "      <th>test_r2</th>\n",
       "      <th>test_neg_mean_absolute_error</th>\n",
       "    </tr>\n",
       "  </thead>\n",
       "  <tbody>\n",
       "    <tr>\n",
       "      <th>0</th>\n",
       "      <td>0.083878</td>\n",
       "      <td>0.050951</td>\n",
       "      <td>0.947123</td>\n",
       "      <td>-11682.757055</td>\n",
       "    </tr>\n",
       "    <tr>\n",
       "      <th>1</th>\n",
       "      <td>0.083134</td>\n",
       "      <td>0.050406</td>\n",
       "      <td>0.874966</td>\n",
       "      <td>-15611.457464</td>\n",
       "    </tr>\n",
       "    <tr>\n",
       "      <th>2</th>\n",
       "      <td>0.093781</td>\n",
       "      <td>0.029301</td>\n",
       "      <td>0.817775</td>\n",
       "      <td>-14571.271329</td>\n",
       "    </tr>\n",
       "    <tr>\n",
       "      <th>3</th>\n",
       "      <td>0.112927</td>\n",
       "      <td>0.089597</td>\n",
       "      <td>0.868620</td>\n",
       "      <td>-15715.607853</td>\n",
       "    </tr>\n",
       "    <tr>\n",
       "      <th>4</th>\n",
       "      <td>0.126896</td>\n",
       "      <td>0.076426</td>\n",
       "      <td>0.833936</td>\n",
       "      <td>-17765.784785</td>\n",
       "    </tr>\n",
       "    <tr>\n",
       "      <th>5</th>\n",
       "      <td>0.167667</td>\n",
       "      <td>0.091498</td>\n",
       "      <td>0.858030</td>\n",
       "      <td>-16733.896626</td>\n",
       "    </tr>\n",
       "    <tr>\n",
       "      <th>6</th>\n",
       "      <td>0.152992</td>\n",
       "      <td>0.088974</td>\n",
       "      <td>0.921047</td>\n",
       "      <td>-14937.660777</td>\n",
       "    </tr>\n",
       "    <tr>\n",
       "      <th>7</th>\n",
       "      <td>0.185896</td>\n",
       "      <td>0.070702</td>\n",
       "      <td>0.835921</td>\n",
       "      <td>-14874.303354</td>\n",
       "    </tr>\n",
       "    <tr>\n",
       "      <th>8</th>\n",
       "      <td>0.250582</td>\n",
       "      <td>0.124752</td>\n",
       "      <td>0.870738</td>\n",
       "      <td>-17105.725399</td>\n",
       "    </tr>\n",
       "    <tr>\n",
       "      <th>9</th>\n",
       "      <td>0.166397</td>\n",
       "      <td>0.039938</td>\n",
       "      <td>0.923090</td>\n",
       "      <td>-13244.727526</td>\n",
       "    </tr>\n",
       "  </tbody>\n",
       "</table>\n",
       "</div>"
      ],
      "text/plain": [
       "   fit_time  score_time   test_r2  test_neg_mean_absolute_error\n",
       "0  0.083878    0.050951  0.947123                 -11682.757055\n",
       "1  0.083134    0.050406  0.874966                 -15611.457464\n",
       "2  0.093781    0.029301  0.817775                 -14571.271329\n",
       "3  0.112927    0.089597  0.868620                 -15715.607853\n",
       "4  0.126896    0.076426  0.833936                 -17765.784785\n",
       "5  0.167667    0.091498  0.858030                 -16733.896626\n",
       "6  0.152992    0.088974  0.921047                 -14937.660777\n",
       "7  0.185896    0.070702  0.835921                 -14874.303354\n",
       "8  0.250582    0.124752  0.870738                 -17105.725399\n",
       "9  0.166397    0.039938  0.923090                 -13244.727526"
      ]
     },
     "execution_count": 83,
     "metadata": {},
     "output_type": "execute_result"
    }
   ],
   "source": [
    "results_df = pd.DataFrame(cv_result)\n",
    "results_df"
   ]
  },
  {
   "cell_type": "code",
   "execution_count": 84,
   "metadata": {},
   "outputs": [
    {
     "data": {
      "text/plain": [
       "count    10.000000\n",
       "mean      0.875125\n",
       "std       0.042778\n",
       "min       0.817775\n",
       "25%       0.841448\n",
       "50%       0.869679\n",
       "75%       0.909527\n",
       "max       0.947123\n",
       "Name: test_r2, dtype: float64"
      ]
     },
     "execution_count": 84,
     "metadata": {},
     "output_type": "execute_result"
    }
   ],
   "source": [
    "results_df['test_r2'].describe()"
   ]
  },
  {
   "cell_type": "code",
   "execution_count": null,
   "metadata": {},
   "outputs": [],
   "source": [
    "from sklearn.model_selection import learning_curve\n",
    "\n",
    "lc_results = learning_curve(model2, X, y, cv=5, train_sizes=np.linspace(0.1,1.0,10))"
   ]
  },
  {
   "cell_type": "code",
   "execution_count": null,
   "metadata": {},
   "outputs": [
    {
     "data": {
      "text/html": [
       "<div>\n",
       "<style scoped>\n",
       "    .dataframe tbody tr th:only-of-type {\n",
       "        vertical-align: middle;\n",
       "    }\n",
       "\n",
       "    .dataframe tbody tr th {\n",
       "        vertical-align: top;\n",
       "    }\n",
       "\n",
       "    .dataframe thead th {\n",
       "        text-align: right;\n",
       "    }\n",
       "</style>\n",
       "<table border=\"1\" class=\"dataframe\">\n",
       "  <thead>\n",
       "    <tr style=\"text-align: right;\">\n",
       "      <th></th>\n",
       "      <th>0</th>\n",
       "      <th>1</th>\n",
       "      <th>2</th>\n",
       "      <th>3</th>\n",
       "      <th>4</th>\n",
       "      <th>train_record</th>\n",
       "      <th>mean_test_score</th>\n",
       "    </tr>\n",
       "  </thead>\n",
       "  <tbody>\n",
       "    <tr>\n",
       "      <th>0</th>\n",
       "      <td>0.595492</td>\n",
       "      <td>0.420352</td>\n",
       "      <td>0.220233</td>\n",
       "      <td>0.539924</td>\n",
       "      <td>0.358554</td>\n",
       "      <td>65</td>\n",
       "      <td>0.426911</td>\n",
       "    </tr>\n",
       "    <tr>\n",
       "      <th>1</th>\n",
       "      <td>0.919419</td>\n",
       "      <td>0.750454</td>\n",
       "      <td>0.690402</td>\n",
       "      <td>0.635770</td>\n",
       "      <td>0.692496</td>\n",
       "      <td>130</td>\n",
       "      <td>0.737708</td>\n",
       "    </tr>\n",
       "    <tr>\n",
       "      <th>2</th>\n",
       "      <td>0.916011</td>\n",
       "      <td>0.768865</td>\n",
       "      <td>0.716532</td>\n",
       "      <td>0.641567</td>\n",
       "      <td>0.707135</td>\n",
       "      <td>195</td>\n",
       "      <td>0.750022</td>\n",
       "    </tr>\n",
       "    <tr>\n",
       "      <th>3</th>\n",
       "      <td>0.920723</td>\n",
       "      <td>0.778110</td>\n",
       "      <td>0.731018</td>\n",
       "      <td>0.679455</td>\n",
       "      <td>0.717885</td>\n",
       "      <td>260</td>\n",
       "      <td>0.765438</td>\n",
       "    </tr>\n",
       "    <tr>\n",
       "      <th>4</th>\n",
       "      <td>0.936313</td>\n",
       "      <td>0.807821</td>\n",
       "      <td>0.780027</td>\n",
       "      <td>0.738197</td>\n",
       "      <td>0.722201</td>\n",
       "      <td>325</td>\n",
       "      <td>0.796912</td>\n",
       "    </tr>\n",
       "    <tr>\n",
       "      <th>5</th>\n",
       "      <td>0.930493</td>\n",
       "      <td>0.766496</td>\n",
       "      <td>0.774506</td>\n",
       "      <td>0.739033</td>\n",
       "      <td>0.723926</td>\n",
       "      <td>390</td>\n",
       "      <td>0.786891</td>\n",
       "    </tr>\n",
       "    <tr>\n",
       "      <th>6</th>\n",
       "      <td>0.934089</td>\n",
       "      <td>0.780319</td>\n",
       "      <td>0.779954</td>\n",
       "      <td>0.749975</td>\n",
       "      <td>0.720267</td>\n",
       "      <td>455</td>\n",
       "      <td>0.792921</td>\n",
       "    </tr>\n",
       "    <tr>\n",
       "      <th>7</th>\n",
       "      <td>0.930688</td>\n",
       "      <td>0.833574</td>\n",
       "      <td>0.790301</td>\n",
       "      <td>0.821156</td>\n",
       "      <td>0.732943</td>\n",
       "      <td>520</td>\n",
       "      <td>0.821732</td>\n",
       "    </tr>\n",
       "    <tr>\n",
       "      <th>8</th>\n",
       "      <td>0.941738</td>\n",
       "      <td>0.855997</td>\n",
       "      <td>0.831564</td>\n",
       "      <td>0.824189</td>\n",
       "      <td>0.735807</td>\n",
       "      <td>585</td>\n",
       "      <td>0.837859</td>\n",
       "    </tr>\n",
       "    <tr>\n",
       "      <th>9</th>\n",
       "      <td>0.949567</td>\n",
       "      <td>0.873002</td>\n",
       "      <td>0.831914</td>\n",
       "      <td>0.825576</td>\n",
       "      <td>0.729356</td>\n",
       "      <td>651</td>\n",
       "      <td>0.841883</td>\n",
       "    </tr>\n",
       "  </tbody>\n",
       "</table>\n",
       "</div>"
      ],
      "text/plain": [
       "          0         1         2         3         4  train_record  \\\n",
       "0  0.595492  0.420352  0.220233  0.539924  0.358554            65   \n",
       "1  0.919419  0.750454  0.690402  0.635770  0.692496           130   \n",
       "2  0.916011  0.768865  0.716532  0.641567  0.707135           195   \n",
       "3  0.920723  0.778110  0.731018  0.679455  0.717885           260   \n",
       "4  0.936313  0.807821  0.780027  0.738197  0.722201           325   \n",
       "5  0.930493  0.766496  0.774506  0.739033  0.723926           390   \n",
       "6  0.934089  0.780319  0.779954  0.749975  0.720267           455   \n",
       "7  0.930688  0.833574  0.790301  0.821156  0.732943           520   \n",
       "8  0.941738  0.855997  0.831564  0.824189  0.735807           585   \n",
       "9  0.949567  0.873002  0.831914  0.825576  0.729356           651   \n",
       "\n",
       "   mean_test_score  \n",
       "0         0.426911  \n",
       "1         0.737708  \n",
       "2         0.750022  \n",
       "3         0.765438  \n",
       "4         0.796912  \n",
       "5         0.786891  \n",
       "6         0.792921  \n",
       "7         0.821732  \n",
       "8         0.837859  \n",
       "9         0.841883  "
      ]
     },
     "execution_count": 57,
     "metadata": {},
     "output_type": "execute_result"
    }
   ],
   "source": [
    "test_scores_df = pd.DataFrame(lc_results[2])\n",
    "test_scores_df['train_record'] = lc_results[0]\n",
    "test_scores_df['mean_test_score'] = test_scores_df.loc[:,[0,1,2,3,4]].mean(axis=1)\n",
    "test_scores_df"
   ]
  },
  {
   "cell_type": "code",
   "execution_count": null,
   "metadata": {},
   "outputs": [
    {
     "data": {
      "application/vnd.plotly.v1+json": {
       "config": {
        "plotlyServerURL": "https://plot.ly"
       },
       "data": [
        {
         "hovertemplate": "variable=0<br>train_record=%{x}<br>value=%{y}<extra></extra>",
         "legendgroup": "0",
         "line": {
          "color": "#636efa",
          "dash": "solid"
         },
         "marker": {
          "symbol": "circle"
         },
         "mode": "lines",
         "name": "0",
         "orientation": "v",
         "showlegend": true,
         "type": "scatter",
         "x": [
          65,
          130,
          195,
          260,
          325,
          390,
          455,
          520,
          585,
          651
         ],
         "xaxis": "x",
         "y": [
          0.5954916172242308,
          0.9194194440758159,
          0.916011216886792,
          0.9207229001956676,
          0.9363129879641405,
          0.9304929360600623,
          0.93408874413028,
          0.9306883929107524,
          0.9417383508584279,
          0.9495674946638362
         ],
         "yaxis": "y"
        },
        {
         "hovertemplate": "variable=1<br>train_record=%{x}<br>value=%{y}<extra></extra>",
         "legendgroup": "1",
         "line": {
          "color": "#EF553B",
          "dash": "solid"
         },
         "marker": {
          "symbol": "circle"
         },
         "mode": "lines",
         "name": "1",
         "orientation": "v",
         "showlegend": true,
         "type": "scatter",
         "x": [
          65,
          130,
          195,
          260,
          325,
          390,
          455,
          520,
          585,
          651
         ],
         "xaxis": "x",
         "y": [
          0.4203515301242189,
          0.7504537362961236,
          0.7688646720341248,
          0.7781100857498814,
          0.8078212275818575,
          0.7664962446373469,
          0.7803189972013136,
          0.8335738088206661,
          0.8559971661721519,
          0.8730018750053649
         ],
         "yaxis": "y"
        },
        {
         "hovertemplate": "variable=2<br>train_record=%{x}<br>value=%{y}<extra></extra>",
         "legendgroup": "2",
         "line": {
          "color": "#00cc96",
          "dash": "solid"
         },
         "marker": {
          "symbol": "circle"
         },
         "mode": "lines",
         "name": "2",
         "orientation": "v",
         "showlegend": true,
         "type": "scatter",
         "x": [
          65,
          130,
          195,
          260,
          325,
          390,
          455,
          520,
          585,
          651
         ],
         "xaxis": "x",
         "y": [
          0.22023254668034953,
          0.690401766859442,
          0.7165318967207177,
          0.7310180914046407,
          0.7800270097300849,
          0.7745057934392817,
          0.7799544700555343,
          0.7903009535241687,
          0.8315639207247318,
          0.8319143840708341
         ],
         "yaxis": "y"
        },
        {
         "hovertemplate": "variable=3<br>train_record=%{x}<br>value=%{y}<extra></extra>",
         "legendgroup": "3",
         "line": {
          "color": "#ab63fa",
          "dash": "solid"
         },
         "marker": {
          "symbol": "circle"
         },
         "mode": "lines",
         "name": "3",
         "orientation": "v",
         "showlegend": true,
         "type": "scatter",
         "x": [
          65,
          130,
          195,
          260,
          325,
          390,
          455,
          520,
          585,
          651
         ],
         "xaxis": "x",
         "y": [
          0.5399244183727455,
          0.6357702668516072,
          0.6415671193312855,
          0.6794549349388578,
          0.7381972297267446,
          0.7390328197126874,
          0.7499753925261663,
          0.8211563230666261,
          0.8241889418058836,
          0.825575956986882
         ],
         "yaxis": "y"
        },
        {
         "hovertemplate": "variable=4<br>train_record=%{x}<br>value=%{y}<extra></extra>",
         "legendgroup": "4",
         "line": {
          "color": "#FFA15A",
          "dash": "solid"
         },
         "marker": {
          "symbol": "circle"
         },
         "mode": "lines",
         "name": "4",
         "orientation": "v",
         "showlegend": true,
         "type": "scatter",
         "x": [
          65,
          130,
          195,
          260,
          325,
          390,
          455,
          520,
          585,
          651
         ],
         "xaxis": "x",
         "y": [
          0.3585540903653911,
          0.6924961716451421,
          0.7071346136438044,
          0.7178852900338708,
          0.7222008071900861,
          0.7239264612364338,
          0.720267067620058,
          0.732942715980859,
          0.7358074896803245,
          0.7293559877443614
         ],
         "yaxis": "y"
        }
       ],
       "layout": {
        "legend": {
         "title": {
          "text": "variable"
         },
         "tracegroupgap": 0
        },
        "template": {
         "data": {
          "bar": [
           {
            "error_x": {
             "color": "#2a3f5f"
            },
            "error_y": {
             "color": "#2a3f5f"
            },
            "marker": {
             "line": {
              "color": "#E5ECF6",
              "width": 0.5
             },
             "pattern": {
              "fillmode": "overlay",
              "size": 10,
              "solidity": 0.2
             }
            },
            "type": "bar"
           }
          ],
          "barpolar": [
           {
            "marker": {
             "line": {
              "color": "#E5ECF6",
              "width": 0.5
             },
             "pattern": {
              "fillmode": "overlay",
              "size": 10,
              "solidity": 0.2
             }
            },
            "type": "barpolar"
           }
          ],
          "carpet": [
           {
            "aaxis": {
             "endlinecolor": "#2a3f5f",
             "gridcolor": "white",
             "linecolor": "white",
             "minorgridcolor": "white",
             "startlinecolor": "#2a3f5f"
            },
            "baxis": {
             "endlinecolor": "#2a3f5f",
             "gridcolor": "white",
             "linecolor": "white",
             "minorgridcolor": "white",
             "startlinecolor": "#2a3f5f"
            },
            "type": "carpet"
           }
          ],
          "choropleth": [
           {
            "colorbar": {
             "outlinewidth": 0,
             "ticks": ""
            },
            "type": "choropleth"
           }
          ],
          "contour": [
           {
            "colorbar": {
             "outlinewidth": 0,
             "ticks": ""
            },
            "colorscale": [
             [
              0,
              "#0d0887"
             ],
             [
              0.1111111111111111,
              "#46039f"
             ],
             [
              0.2222222222222222,
              "#7201a8"
             ],
             [
              0.3333333333333333,
              "#9c179e"
             ],
             [
              0.4444444444444444,
              "#bd3786"
             ],
             [
              0.5555555555555556,
              "#d8576b"
             ],
             [
              0.6666666666666666,
              "#ed7953"
             ],
             [
              0.7777777777777778,
              "#fb9f3a"
             ],
             [
              0.8888888888888888,
              "#fdca26"
             ],
             [
              1,
              "#f0f921"
             ]
            ],
            "type": "contour"
           }
          ],
          "contourcarpet": [
           {
            "colorbar": {
             "outlinewidth": 0,
             "ticks": ""
            },
            "type": "contourcarpet"
           }
          ],
          "heatmap": [
           {
            "colorbar": {
             "outlinewidth": 0,
             "ticks": ""
            },
            "colorscale": [
             [
              0,
              "#0d0887"
             ],
             [
              0.1111111111111111,
              "#46039f"
             ],
             [
              0.2222222222222222,
              "#7201a8"
             ],
             [
              0.3333333333333333,
              "#9c179e"
             ],
             [
              0.4444444444444444,
              "#bd3786"
             ],
             [
              0.5555555555555556,
              "#d8576b"
             ],
             [
              0.6666666666666666,
              "#ed7953"
             ],
             [
              0.7777777777777778,
              "#fb9f3a"
             ],
             [
              0.8888888888888888,
              "#fdca26"
             ],
             [
              1,
              "#f0f921"
             ]
            ],
            "type": "heatmap"
           }
          ],
          "heatmapgl": [
           {
            "colorbar": {
             "outlinewidth": 0,
             "ticks": ""
            },
            "colorscale": [
             [
              0,
              "#0d0887"
             ],
             [
              0.1111111111111111,
              "#46039f"
             ],
             [
              0.2222222222222222,
              "#7201a8"
             ],
             [
              0.3333333333333333,
              "#9c179e"
             ],
             [
              0.4444444444444444,
              "#bd3786"
             ],
             [
              0.5555555555555556,
              "#d8576b"
             ],
             [
              0.6666666666666666,
              "#ed7953"
             ],
             [
              0.7777777777777778,
              "#fb9f3a"
             ],
             [
              0.8888888888888888,
              "#fdca26"
             ],
             [
              1,
              "#f0f921"
             ]
            ],
            "type": "heatmapgl"
           }
          ],
          "histogram": [
           {
            "marker": {
             "pattern": {
              "fillmode": "overlay",
              "size": 10,
              "solidity": 0.2
             }
            },
            "type": "histogram"
           }
          ],
          "histogram2d": [
           {
            "colorbar": {
             "outlinewidth": 0,
             "ticks": ""
            },
            "colorscale": [
             [
              0,
              "#0d0887"
             ],
             [
              0.1111111111111111,
              "#46039f"
             ],
             [
              0.2222222222222222,
              "#7201a8"
             ],
             [
              0.3333333333333333,
              "#9c179e"
             ],
             [
              0.4444444444444444,
              "#bd3786"
             ],
             [
              0.5555555555555556,
              "#d8576b"
             ],
             [
              0.6666666666666666,
              "#ed7953"
             ],
             [
              0.7777777777777778,
              "#fb9f3a"
             ],
             [
              0.8888888888888888,
              "#fdca26"
             ],
             [
              1,
              "#f0f921"
             ]
            ],
            "type": "histogram2d"
           }
          ],
          "histogram2dcontour": [
           {
            "colorbar": {
             "outlinewidth": 0,
             "ticks": ""
            },
            "colorscale": [
             [
              0,
              "#0d0887"
             ],
             [
              0.1111111111111111,
              "#46039f"
             ],
             [
              0.2222222222222222,
              "#7201a8"
             ],
             [
              0.3333333333333333,
              "#9c179e"
             ],
             [
              0.4444444444444444,
              "#bd3786"
             ],
             [
              0.5555555555555556,
              "#d8576b"
             ],
             [
              0.6666666666666666,
              "#ed7953"
             ],
             [
              0.7777777777777778,
              "#fb9f3a"
             ],
             [
              0.8888888888888888,
              "#fdca26"
             ],
             [
              1,
              "#f0f921"
             ]
            ],
            "type": "histogram2dcontour"
           }
          ],
          "mesh3d": [
           {
            "colorbar": {
             "outlinewidth": 0,
             "ticks": ""
            },
            "type": "mesh3d"
           }
          ],
          "parcoords": [
           {
            "line": {
             "colorbar": {
              "outlinewidth": 0,
              "ticks": ""
             }
            },
            "type": "parcoords"
           }
          ],
          "pie": [
           {
            "automargin": true,
            "type": "pie"
           }
          ],
          "scatter": [
           {
            "fillpattern": {
             "fillmode": "overlay",
             "size": 10,
             "solidity": 0.2
            },
            "type": "scatter"
           }
          ],
          "scatter3d": [
           {
            "line": {
             "colorbar": {
              "outlinewidth": 0,
              "ticks": ""
             }
            },
            "marker": {
             "colorbar": {
              "outlinewidth": 0,
              "ticks": ""
             }
            },
            "type": "scatter3d"
           }
          ],
          "scattercarpet": [
           {
            "marker": {
             "colorbar": {
              "outlinewidth": 0,
              "ticks": ""
             }
            },
            "type": "scattercarpet"
           }
          ],
          "scattergeo": [
           {
            "marker": {
             "colorbar": {
              "outlinewidth": 0,
              "ticks": ""
             }
            },
            "type": "scattergeo"
           }
          ],
          "scattergl": [
           {
            "marker": {
             "colorbar": {
              "outlinewidth": 0,
              "ticks": ""
             }
            },
            "type": "scattergl"
           }
          ],
          "scattermapbox": [
           {
            "marker": {
             "colorbar": {
              "outlinewidth": 0,
              "ticks": ""
             }
            },
            "type": "scattermapbox"
           }
          ],
          "scatterpolar": [
           {
            "marker": {
             "colorbar": {
              "outlinewidth": 0,
              "ticks": ""
             }
            },
            "type": "scatterpolar"
           }
          ],
          "scatterpolargl": [
           {
            "marker": {
             "colorbar": {
              "outlinewidth": 0,
              "ticks": ""
             }
            },
            "type": "scatterpolargl"
           }
          ],
          "scatterternary": [
           {
            "marker": {
             "colorbar": {
              "outlinewidth": 0,
              "ticks": ""
             }
            },
            "type": "scatterternary"
           }
          ],
          "surface": [
           {
            "colorbar": {
             "outlinewidth": 0,
             "ticks": ""
            },
            "colorscale": [
             [
              0,
              "#0d0887"
             ],
             [
              0.1111111111111111,
              "#46039f"
             ],
             [
              0.2222222222222222,
              "#7201a8"
             ],
             [
              0.3333333333333333,
              "#9c179e"
             ],
             [
              0.4444444444444444,
              "#bd3786"
             ],
             [
              0.5555555555555556,
              "#d8576b"
             ],
             [
              0.6666666666666666,
              "#ed7953"
             ],
             [
              0.7777777777777778,
              "#fb9f3a"
             ],
             [
              0.8888888888888888,
              "#fdca26"
             ],
             [
              1,
              "#f0f921"
             ]
            ],
            "type": "surface"
           }
          ],
          "table": [
           {
            "cells": {
             "fill": {
              "color": "#EBF0F8"
             },
             "line": {
              "color": "white"
             }
            },
            "header": {
             "fill": {
              "color": "#C8D4E3"
             },
             "line": {
              "color": "white"
             }
            },
            "type": "table"
           }
          ]
         },
         "layout": {
          "annotationdefaults": {
           "arrowcolor": "#2a3f5f",
           "arrowhead": 0,
           "arrowwidth": 1
          },
          "autotypenumbers": "strict",
          "coloraxis": {
           "colorbar": {
            "outlinewidth": 0,
            "ticks": ""
           }
          },
          "colorscale": {
           "diverging": [
            [
             0,
             "#8e0152"
            ],
            [
             0.1,
             "#c51b7d"
            ],
            [
             0.2,
             "#de77ae"
            ],
            [
             0.3,
             "#f1b6da"
            ],
            [
             0.4,
             "#fde0ef"
            ],
            [
             0.5,
             "#f7f7f7"
            ],
            [
             0.6,
             "#e6f5d0"
            ],
            [
             0.7,
             "#b8e186"
            ],
            [
             0.8,
             "#7fbc41"
            ],
            [
             0.9,
             "#4d9221"
            ],
            [
             1,
             "#276419"
            ]
           ],
           "sequential": [
            [
             0,
             "#0d0887"
            ],
            [
             0.1111111111111111,
             "#46039f"
            ],
            [
             0.2222222222222222,
             "#7201a8"
            ],
            [
             0.3333333333333333,
             "#9c179e"
            ],
            [
             0.4444444444444444,
             "#bd3786"
            ],
            [
             0.5555555555555556,
             "#d8576b"
            ],
            [
             0.6666666666666666,
             "#ed7953"
            ],
            [
             0.7777777777777778,
             "#fb9f3a"
            ],
            [
             0.8888888888888888,
             "#fdca26"
            ],
            [
             1,
             "#f0f921"
            ]
           ],
           "sequentialminus": [
            [
             0,
             "#0d0887"
            ],
            [
             0.1111111111111111,
             "#46039f"
            ],
            [
             0.2222222222222222,
             "#7201a8"
            ],
            [
             0.3333333333333333,
             "#9c179e"
            ],
            [
             0.4444444444444444,
             "#bd3786"
            ],
            [
             0.5555555555555556,
             "#d8576b"
            ],
            [
             0.6666666666666666,
             "#ed7953"
            ],
            [
             0.7777777777777778,
             "#fb9f3a"
            ],
            [
             0.8888888888888888,
             "#fdca26"
            ],
            [
             1,
             "#f0f921"
            ]
           ]
          },
          "colorway": [
           "#636efa",
           "#EF553B",
           "#00cc96",
           "#ab63fa",
           "#FFA15A",
           "#19d3f3",
           "#FF6692",
           "#B6E880",
           "#FF97FF",
           "#FECB52"
          ],
          "font": {
           "color": "#2a3f5f"
          },
          "geo": {
           "bgcolor": "white",
           "lakecolor": "white",
           "landcolor": "#E5ECF6",
           "showlakes": true,
           "showland": true,
           "subunitcolor": "white"
          },
          "hoverlabel": {
           "align": "left"
          },
          "hovermode": "closest",
          "mapbox": {
           "style": "light"
          },
          "paper_bgcolor": "white",
          "plot_bgcolor": "#E5ECF6",
          "polar": {
           "angularaxis": {
            "gridcolor": "white",
            "linecolor": "white",
            "ticks": ""
           },
           "bgcolor": "#E5ECF6",
           "radialaxis": {
            "gridcolor": "white",
            "linecolor": "white",
            "ticks": ""
           }
          },
          "scene": {
           "xaxis": {
            "backgroundcolor": "#E5ECF6",
            "gridcolor": "white",
            "gridwidth": 2,
            "linecolor": "white",
            "showbackground": true,
            "ticks": "",
            "zerolinecolor": "white"
           },
           "yaxis": {
            "backgroundcolor": "#E5ECF6",
            "gridcolor": "white",
            "gridwidth": 2,
            "linecolor": "white",
            "showbackground": true,
            "ticks": "",
            "zerolinecolor": "white"
           },
           "zaxis": {
            "backgroundcolor": "#E5ECF6",
            "gridcolor": "white",
            "gridwidth": 2,
            "linecolor": "white",
            "showbackground": true,
            "ticks": "",
            "zerolinecolor": "white"
           }
          },
          "shapedefaults": {
           "line": {
            "color": "#2a3f5f"
           }
          },
          "ternary": {
           "aaxis": {
            "gridcolor": "white",
            "linecolor": "white",
            "ticks": ""
           },
           "baxis": {
            "gridcolor": "white",
            "linecolor": "white",
            "ticks": ""
           },
           "bgcolor": "#E5ECF6",
           "caxis": {
            "gridcolor": "white",
            "linecolor": "white",
            "ticks": ""
           }
          },
          "title": {
           "x": 0.05
          },
          "xaxis": {
           "automargin": true,
           "gridcolor": "white",
           "linecolor": "white",
           "ticks": "",
           "title": {
            "standoff": 15
           },
           "zerolinecolor": "white",
           "zerolinewidth": 2
          },
          "yaxis": {
           "automargin": true,
           "gridcolor": "white",
           "linecolor": "white",
           "ticks": "",
           "title": {
            "standoff": 15
           },
           "zerolinecolor": "white",
           "zerolinewidth": 2
          }
         }
        },
        "title": {
         "text": "Learning Curve"
        },
        "xaxis": {
         "anchor": "y",
         "domain": [
          0,
          1
         ],
         "title": {
          "text": "train_record"
         }
        },
        "yaxis": {
         "anchor": "x",
         "domain": [
          0,
          1
         ],
         "title": {
          "text": "value"
         }
        }
       }
      }
     },
     "metadata": {},
     "output_type": "display_data"
    }
   ],
   "source": [
    "px.line(test_scores_df, x='train_record', y=[0,1,2,3,4], title='Learning Curve')"
   ]
  },
  {
   "cell_type": "code",
   "execution_count": null,
   "metadata": {},
   "outputs": [
    {
     "ename": "NameError",
     "evalue": "name 'cities' is not defined",
     "output_type": "error",
     "traceback": [
      "\u001b[1;31m---------------------------------------------------------------------------\u001b[0m",
      "\u001b[1;31mNameError\u001b[0m                                 Traceback (most recent call last)",
      "\u001b[1;32mc:\\Users\\Ayush Srivastava\\Documents\\Machine Learning\\supervised\\regression\\random_forest.ipynb Cell 22'\u001b[0m in \u001b[0;36m<module>\u001b[1;34m\u001b[0m\n\u001b[0;32m      <a href='vscode-notebook-cell:/c%3A/Users/Ayush%20Srivastava/Documents/Machine%20Learning/supervised/regression/random_forest.ipynb#ch0000022?line=0'>1</a>\u001b[0m model_dict\u001b[39m=\u001b[39m {\n\u001b[0;32m      <a href='vscode-notebook-cell:/c%3A/Users/Ayush%20Srivastava/Documents/Machine%20Learning/supervised/regression/random_forest.ipynb#ch0000022?line=1'>2</a>\u001b[0m     \u001b[39m'\u001b[39m\u001b[39mcity_encoder\u001b[39m\u001b[39m'\u001b[39m: cityenc,\n\u001b[0;32m      <a href='vscode-notebook-cell:/c%3A/Users/Ayush%20Srivastava/Documents/Machine%20Learning/supervised/regression/random_forest.ipynb#ch0000022?line=2'>3</a>\u001b[0m     \u001b[39m'\u001b[39m\u001b[39mresident_type_encoder\u001b[39m\u001b[39m'\u001b[39m: res_type,\n\u001b[0;32m      <a href='vscode-notebook-cell:/c%3A/Users/Ayush%20Srivastava/Documents/Machine%20Learning/supervised/regression/random_forest.ipynb#ch0000022?line=3'>4</a>\u001b[0m     \u001b[39m'\u001b[39m\u001b[39mscaler\u001b[39m\u001b[39m'\u001b[39m: scaler,\n\u001b[0;32m      <a href='vscode-notebook-cell:/c%3A/Users/Ayush%20Srivastava/Documents/Machine%20Learning/supervised/regression/random_forest.ipynb#ch0000022?line=4'>5</a>\u001b[0m     \u001b[39m'\u001b[39m\u001b[39mmodel\u001b[39m\u001b[39m'\u001b[39m: model2,\n\u001b[1;32m----> <a href='vscode-notebook-cell:/c%3A/Users/Ayush%20Srivastava/Documents/Machine%20Learning/supervised/regression/random_forest.ipynb#ch0000022?line=5'>6</a>\u001b[0m     \u001b[39m'\u001b[39m\u001b[39mcities\u001b[39m\u001b[39m'\u001b[39m: cities,\n\u001b[0;32m      <a href='vscode-notebook-cell:/c%3A/Users/Ayush%20Srivastava/Documents/Machine%20Learning/supervised/regression/random_forest.ipynb#ch0000022?line=6'>7</a>\u001b[0m     \u001b[39m'\u001b[39m\u001b[39mresident_types\u001b[39m\u001b[39m'\u001b[39m: resident_types,\n\u001b[0;32m      <a href='vscode-notebook-cell:/c%3A/Users/Ayush%20Srivastava/Documents/Machine%20Learning/supervised/regression/random_forest.ipynb#ch0000022?line=7'>8</a>\u001b[0m     \u001b[39m'\u001b[39m\u001b[39mdescription\u001b[39m\u001b[39m'\u001b[39m:\u001b[39m'''\u001b[39m\n\u001b[0;32m      <a href='vscode-notebook-cell:/c%3A/Users/Ayush%20Srivastava/Documents/Machine%20Learning/supervised/regression/random_forest.ipynb#ch0000022?line=8'>9</a>\u001b[0m \u001b[39m    Model trained on the house_pricing dataset.\u001b[39m\n\u001b[0;32m     <a href='vscode-notebook-cell:/c%3A/Users/Ayush%20Srivastava/Documents/Machine%20Learning/supervised/regression/random_forest.ipynb#ch0000022?line=9'>10</a>\u001b[0m \u001b[39m    cities = get from cities list\u001b[39m\n\u001b[0;32m     <a href='vscode-notebook-cell:/c%3A/Users/Ayush%20Srivastava/Documents/Machine%20Learning/supervised/regression/random_forest.ipynb#ch0000022?line=10'>11</a>\u001b[0m \u001b[39m    resident_types = get from resident_types list\u001b[39m\n\u001b[0;32m     <a href='vscode-notebook-cell:/c%3A/Users/Ayush%20Srivastava/Documents/Machine%20Learning/supervised/regression/random_forest.ipynb#ch0000022?line=11'>12</a>\u001b[0m \u001b[39m    \u001b[39m\u001b[39m'''\u001b[39m,\n\u001b[0;32m     <a href='vscode-notebook-cell:/c%3A/Users/Ayush%20Srivastava/Documents/Machine%20Learning/supervised/regression/random_forest.ipynb#ch0000022?line=12'>13</a>\u001b[0m     \u001b[39m'\u001b[39m\u001b[39mauthor\u001b[39m\u001b[39m'\u001b[39m: \u001b[39m'\u001b[39m\u001b[39mDigipodium\u001b[39m\u001b[39m'\u001b[39m,\n\u001b[0;32m     <a href='vscode-notebook-cell:/c%3A/Users/Ayush%20Srivastava/Documents/Machine%20Learning/supervised/regression/random_forest.ipynb#ch0000022?line=13'>14</a>\u001b[0m }\n\u001b[0;32m     <a href='vscode-notebook-cell:/c%3A/Users/Ayush%20Srivastava/Documents/Machine%20Learning/supervised/regression/random_forest.ipynb#ch0000022?line=14'>15</a>\u001b[0m dump(model_dict,\u001b[39m'\u001b[39m\u001b[39m../../models/house_pricing_model.pk\u001b[39m\u001b[39m'\u001b[39m)\n",
      "\u001b[1;31mNameError\u001b[0m: name 'cities' is not defined"
     ]
    }
   ],
   "source": [
    "model_dict= {\n",
    "    'city_encoder': cityenc,\n",
    "    'resident_type_encoder': res_type,\n",
    "    'scaler': scaler,\n",
    "    'model': model2,\n",
    "    'cities': cities,\n",
    "    'resident_types': resident_types,\n",
    "    'description':'''\n",
    "    Model trained on the house_pricing dataset.\n",
    "    cities = get from cities list\n",
    "    resident_types = get from resident_types list\n",
    "    ''',\n",
    "    'author': 'Digipodium',\n",
    "}\n",
    "dump(model_dict,'../../models/house_pricing_model.pk') "
   ]
  },
  {
   "cell_type": "code",
   "execution_count": null,
   "metadata": {},
   "outputs": [],
   "source": []
  }
 ],
 "metadata": {
  "kernelspec": {
   "display_name": "Python 3.9.5 ('base')",
   "language": "python",
   "name": "python3"
  },
  "language_info": {
   "codemirror_mode": {
    "name": "ipython",
    "version": 3
   },
   "file_extension": ".py",
   "mimetype": "text/x-python",
   "name": "python",
   "nbconvert_exporter": "python",
   "pygments_lexer": "ipython3",
   "version": "3.9.5"
  },
  "orig_nbformat": 4,
  "vscode": {
   "interpreter": {
    "hash": "f02d14c92777b6146aa15550b7943a4c822d03a7b687e2ab3034dfd70b13a3a1"
   }
  }
 },
 "nbformat": 4,
 "nbformat_minor": 2
}
