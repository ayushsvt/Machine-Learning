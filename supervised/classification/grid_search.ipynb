{
 "cells": [
  {
   "cell_type": "code",
   "execution_count": 1,
   "metadata": {},
   "outputs": [],
   "source": [
    "import pandas as pd\n",
    "import numpy as np \n",
    "import matplotlib.pyplot as plt\n",
    "import plotly.express as px \n",
    "from sklearn.model_selection import train_test_split\n",
    "from sklearn.tree import DecisionTreeClassifier\n",
    "from sklearn.neighbors import KNeighborsClassifier\n",
    "from sklearn.preprocessing import StandardScaler\n",
    "from sklearn.metrics import classification_report, confusion_matrix\n",
    "from sklearn.model_selection import GridSearchCV"
   ]
  },
  {
   "cell_type": "code",
   "execution_count": 2,
   "metadata": {},
   "outputs": [
    {
     "data": {
      "text/html": [
       "<div>\n",
       "<style scoped>\n",
       "    .dataframe tbody tr th:only-of-type {\n",
       "        vertical-align: middle;\n",
       "    }\n",
       "\n",
       "    .dataframe tbody tr th {\n",
       "        vertical-align: top;\n",
       "    }\n",
       "\n",
       "    .dataframe thead th {\n",
       "        text-align: right;\n",
       "    }\n",
       "</style>\n",
       "<table border=\"1\" class=\"dataframe\">\n",
       "  <thead>\n",
       "    <tr style=\"text-align: right;\">\n",
       "      <th></th>\n",
       "      <th>age</th>\n",
       "      <th>sex</th>\n",
       "      <th>cp</th>\n",
       "      <th>trestbps</th>\n",
       "      <th>chol</th>\n",
       "      <th>fbs</th>\n",
       "      <th>restecg</th>\n",
       "      <th>thalach</th>\n",
       "      <th>exang</th>\n",
       "      <th>oldpeak</th>\n",
       "      <th>slope</th>\n",
       "      <th>ca</th>\n",
       "      <th>thal</th>\n",
       "      <th>target</th>\n",
       "    </tr>\n",
       "  </thead>\n",
       "  <tbody>\n",
       "    <tr>\n",
       "      <th>0</th>\n",
       "      <td>63</td>\n",
       "      <td>1</td>\n",
       "      <td>3</td>\n",
       "      <td>145</td>\n",
       "      <td>233</td>\n",
       "      <td>1</td>\n",
       "      <td>0</td>\n",
       "      <td>150</td>\n",
       "      <td>0</td>\n",
       "      <td>2.3</td>\n",
       "      <td>0</td>\n",
       "      <td>0</td>\n",
       "      <td>1</td>\n",
       "      <td>1</td>\n",
       "    </tr>\n",
       "    <tr>\n",
       "      <th>1</th>\n",
       "      <td>37</td>\n",
       "      <td>1</td>\n",
       "      <td>2</td>\n",
       "      <td>130</td>\n",
       "      <td>250</td>\n",
       "      <td>0</td>\n",
       "      <td>1</td>\n",
       "      <td>187</td>\n",
       "      <td>0</td>\n",
       "      <td>3.5</td>\n",
       "      <td>0</td>\n",
       "      <td>0</td>\n",
       "      <td>2</td>\n",
       "      <td>1</td>\n",
       "    </tr>\n",
       "    <tr>\n",
       "      <th>2</th>\n",
       "      <td>41</td>\n",
       "      <td>0</td>\n",
       "      <td>1</td>\n",
       "      <td>130</td>\n",
       "      <td>204</td>\n",
       "      <td>0</td>\n",
       "      <td>0</td>\n",
       "      <td>172</td>\n",
       "      <td>0</td>\n",
       "      <td>1.4</td>\n",
       "      <td>2</td>\n",
       "      <td>0</td>\n",
       "      <td>2</td>\n",
       "      <td>1</td>\n",
       "    </tr>\n",
       "    <tr>\n",
       "      <th>3</th>\n",
       "      <td>56</td>\n",
       "      <td>1</td>\n",
       "      <td>1</td>\n",
       "      <td>120</td>\n",
       "      <td>236</td>\n",
       "      <td>0</td>\n",
       "      <td>1</td>\n",
       "      <td>178</td>\n",
       "      <td>0</td>\n",
       "      <td>0.8</td>\n",
       "      <td>2</td>\n",
       "      <td>0</td>\n",
       "      <td>2</td>\n",
       "      <td>1</td>\n",
       "    </tr>\n",
       "    <tr>\n",
       "      <th>4</th>\n",
       "      <td>57</td>\n",
       "      <td>0</td>\n",
       "      <td>0</td>\n",
       "      <td>120</td>\n",
       "      <td>354</td>\n",
       "      <td>0</td>\n",
       "      <td>1</td>\n",
       "      <td>163</td>\n",
       "      <td>1</td>\n",
       "      <td>0.6</td>\n",
       "      <td>2</td>\n",
       "      <td>0</td>\n",
       "      <td>2</td>\n",
       "      <td>1</td>\n",
       "    </tr>\n",
       "  </tbody>\n",
       "</table>\n",
       "</div>"
      ],
      "text/plain": [
       "   age  sex  cp  trestbps  chol  fbs  restecg  thalach  exang  oldpeak  slope  \\\n",
       "0   63    1   3       145   233    1        0      150      0      2.3      0   \n",
       "1   37    1   2       130   250    0        1      187      0      3.5      0   \n",
       "2   41    0   1       130   204    0        0      172      0      1.4      2   \n",
       "3   56    1   1       120   236    0        1      178      0      0.8      2   \n",
       "4   57    0   0       120   354    0        1      163      1      0.6      2   \n",
       "\n",
       "   ca  thal  target  \n",
       "0   0     1       1  \n",
       "1   0     2       1  \n",
       "2   0     2       1  \n",
       "3   0     2       1  \n",
       "4   0     2       1  "
      ]
     },
     "execution_count": 2,
     "metadata": {},
     "output_type": "execute_result"
    }
   ],
   "source": [
    "url =\"https://raw.githubusercontent.com/digipodium/Datasets/main/classfication/heart.csv\"\n",
    "df = pd.read_csv(url)\n",
    "df.head()"
   ]
  },
  {
   "cell_type": "code",
   "execution_count": 3,
   "metadata": {},
   "outputs": [],
   "source": [
    "scaler = StandardScaler() \n",
    "X = df.drop(columns=[\"target\"])\n",
    "X = scaler.fit_transform(X)\n",
    "y = df[\"target\"]"
   ]
  },
  {
   "cell_type": "code",
   "execution_count": 4,
   "metadata": {},
   "outputs": [],
   "source": [
    "clf = DecisionTreeClassifier()\n",
    "params = {\n",
    "    'criterion' : [\"gini\", \"entropy\", \"log_loss\"],\n",
    "    'splitter' : [\"best\", \"random\"],\n",
    "    'max_depth' : [5,10,15,20,50,100,150,200,250,300,350,400,450,500],\n",
    "}"
   ]
  },
  {
   "cell_type": "code",
   "execution_count": 5,
   "metadata": {},
   "outputs": [],
   "source": [
    "grid = GridSearchCV(\n",
    "    estimator=clf,\n",
    "    param_grid= params,\n",
    "    cv = 3,\n",
    "    n_jobs= -1,\n",
    "    verbose= 2,\n",
    "    return_train_score=True\n",
    ")"
   ]
  },
  {
   "cell_type": "code",
   "execution_count": 6,
   "metadata": {},
   "outputs": [
    {
     "name": "stdout",
     "output_type": "stream",
     "text": [
      "Fitting 3 folds for each of 84 candidates, totalling 252 fits\n"
     ]
    },
    {
     "data": {
      "text/html": [
       "<style>#sk-container-id-1 {color: black;background-color: white;}#sk-container-id-1 pre{padding: 0;}#sk-container-id-1 div.sk-toggleable {background-color: white;}#sk-container-id-1 label.sk-toggleable__label {cursor: pointer;display: block;width: 100%;margin-bottom: 0;padding: 0.3em;box-sizing: border-box;text-align: center;}#sk-container-id-1 label.sk-toggleable__label-arrow:before {content: \"▸\";float: left;margin-right: 0.25em;color: #696969;}#sk-container-id-1 label.sk-toggleable__label-arrow:hover:before {color: black;}#sk-container-id-1 div.sk-estimator:hover label.sk-toggleable__label-arrow:before {color: black;}#sk-container-id-1 div.sk-toggleable__content {max-height: 0;max-width: 0;overflow: hidden;text-align: left;background-color: #f0f8ff;}#sk-container-id-1 div.sk-toggleable__content pre {margin: 0.2em;color: black;border-radius: 0.25em;background-color: #f0f8ff;}#sk-container-id-1 input.sk-toggleable__control:checked~div.sk-toggleable__content {max-height: 200px;max-width: 100%;overflow: auto;}#sk-container-id-1 input.sk-toggleable__control:checked~label.sk-toggleable__label-arrow:before {content: \"▾\";}#sk-container-id-1 div.sk-estimator input.sk-toggleable__control:checked~label.sk-toggleable__label {background-color: #d4ebff;}#sk-container-id-1 div.sk-label input.sk-toggleable__control:checked~label.sk-toggleable__label {background-color: #d4ebff;}#sk-container-id-1 input.sk-hidden--visually {border: 0;clip: rect(1px 1px 1px 1px);clip: rect(1px, 1px, 1px, 1px);height: 1px;margin: -1px;overflow: hidden;padding: 0;position: absolute;width: 1px;}#sk-container-id-1 div.sk-estimator {font-family: monospace;background-color: #f0f8ff;border: 1px dotted black;border-radius: 0.25em;box-sizing: border-box;margin-bottom: 0.5em;}#sk-container-id-1 div.sk-estimator:hover {background-color: #d4ebff;}#sk-container-id-1 div.sk-parallel-item::after {content: \"\";width: 100%;border-bottom: 1px solid gray;flex-grow: 1;}#sk-container-id-1 div.sk-label:hover label.sk-toggleable__label {background-color: #d4ebff;}#sk-container-id-1 div.sk-serial::before {content: \"\";position: absolute;border-left: 1px solid gray;box-sizing: border-box;top: 0;bottom: 0;left: 50%;z-index: 0;}#sk-container-id-1 div.sk-serial {display: flex;flex-direction: column;align-items: center;background-color: white;padding-right: 0.2em;padding-left: 0.2em;position: relative;}#sk-container-id-1 div.sk-item {position: relative;z-index: 1;}#sk-container-id-1 div.sk-parallel {display: flex;align-items: stretch;justify-content: center;background-color: white;position: relative;}#sk-container-id-1 div.sk-item::before, #sk-container-id-1 div.sk-parallel-item::before {content: \"\";position: absolute;border-left: 1px solid gray;box-sizing: border-box;top: 0;bottom: 0;left: 50%;z-index: -1;}#sk-container-id-1 div.sk-parallel-item {display: flex;flex-direction: column;z-index: 1;position: relative;background-color: white;}#sk-container-id-1 div.sk-parallel-item:first-child::after {align-self: flex-end;width: 50%;}#sk-container-id-1 div.sk-parallel-item:last-child::after {align-self: flex-start;width: 50%;}#sk-container-id-1 div.sk-parallel-item:only-child::after {width: 0;}#sk-container-id-1 div.sk-dashed-wrapped {border: 1px dashed gray;margin: 0 0.4em 0.5em 0.4em;box-sizing: border-box;padding-bottom: 0.4em;background-color: white;}#sk-container-id-1 div.sk-label label {font-family: monospace;font-weight: bold;display: inline-block;line-height: 1.2em;}#sk-container-id-1 div.sk-label-container {text-align: center;}#sk-container-id-1 div.sk-container {/* jupyter's `normalize.less` sets `[hidden] { display: none; }` but bootstrap.min.css set `[hidden] { display: none !important; }` so we also need the `!important` here to be able to override the default hidden behavior on the sphinx rendered scikit-learn.org. See: https://github.com/scikit-learn/scikit-learn/issues/21755 */display: inline-block !important;position: relative;}#sk-container-id-1 div.sk-text-repr-fallback {display: none;}</style><div id=\"sk-container-id-1\" class=\"sk-top-container\"><div class=\"sk-text-repr-fallback\"><pre>GridSearchCV(cv=3, estimator=DecisionTreeClassifier(), n_jobs=-1,\n",
       "             param_grid={&#x27;criterion&#x27;: [&#x27;gini&#x27;, &#x27;entropy&#x27;, &#x27;log_loss&#x27;],\n",
       "                         &#x27;max_depth&#x27;: [5, 10, 15, 20, 50, 100, 150, 200, 250,\n",
       "                                       300, 350, 400, 450, 500],\n",
       "                         &#x27;splitter&#x27;: [&#x27;best&#x27;, &#x27;random&#x27;]},\n",
       "             return_train_score=True, verbose=2)</pre><b>In a Jupyter environment, please rerun this cell to show the HTML representation or trust the notebook. <br />On GitHub, the HTML representation is unable to render, please try loading this page with nbviewer.org.</b></div><div class=\"sk-container\" hidden><div class=\"sk-item sk-dashed-wrapped\"><div class=\"sk-label-container\"><div class=\"sk-label sk-toggleable\"><input class=\"sk-toggleable__control sk-hidden--visually\" id=\"sk-estimator-id-1\" type=\"checkbox\" ><label for=\"sk-estimator-id-1\" class=\"sk-toggleable__label sk-toggleable__label-arrow\">GridSearchCV</label><div class=\"sk-toggleable__content\"><pre>GridSearchCV(cv=3, estimator=DecisionTreeClassifier(), n_jobs=-1,\n",
       "             param_grid={&#x27;criterion&#x27;: [&#x27;gini&#x27;, &#x27;entropy&#x27;, &#x27;log_loss&#x27;],\n",
       "                         &#x27;max_depth&#x27;: [5, 10, 15, 20, 50, 100, 150, 200, 250,\n",
       "                                       300, 350, 400, 450, 500],\n",
       "                         &#x27;splitter&#x27;: [&#x27;best&#x27;, &#x27;random&#x27;]},\n",
       "             return_train_score=True, verbose=2)</pre></div></div></div><div class=\"sk-parallel\"><div class=\"sk-parallel-item\"><div class=\"sk-item\"><div class=\"sk-label-container\"><div class=\"sk-label sk-toggleable\"><input class=\"sk-toggleable__control sk-hidden--visually\" id=\"sk-estimator-id-2\" type=\"checkbox\" ><label for=\"sk-estimator-id-2\" class=\"sk-toggleable__label sk-toggleable__label-arrow\">estimator: DecisionTreeClassifier</label><div class=\"sk-toggleable__content\"><pre>DecisionTreeClassifier()</pre></div></div></div><div class=\"sk-serial\"><div class=\"sk-item\"><div class=\"sk-estimator sk-toggleable\"><input class=\"sk-toggleable__control sk-hidden--visually\" id=\"sk-estimator-id-3\" type=\"checkbox\" ><label for=\"sk-estimator-id-3\" class=\"sk-toggleable__label sk-toggleable__label-arrow\">DecisionTreeClassifier</label><div class=\"sk-toggleable__content\"><pre>DecisionTreeClassifier()</pre></div></div></div></div></div></div></div></div></div></div>"
      ],
      "text/plain": [
       "GridSearchCV(cv=3, estimator=DecisionTreeClassifier(), n_jobs=-1,\n",
       "             param_grid={'criterion': ['gini', 'entropy', 'log_loss'],\n",
       "                         'max_depth': [5, 10, 15, 20, 50, 100, 150, 200, 250,\n",
       "                                       300, 350, 400, 450, 500],\n",
       "                         'splitter': ['best', 'random']},\n",
       "             return_train_score=True, verbose=2)"
      ]
     },
     "execution_count": 6,
     "metadata": {},
     "output_type": "execute_result"
    }
   ],
   "source": [
    "grid.fit(X,y)"
   ]
  },
  {
   "cell_type": "code",
   "execution_count": 7,
   "metadata": {},
   "outputs": [
    {
     "data": {
      "text/html": [
       "<style>#sk-container-id-2 {color: black;background-color: white;}#sk-container-id-2 pre{padding: 0;}#sk-container-id-2 div.sk-toggleable {background-color: white;}#sk-container-id-2 label.sk-toggleable__label {cursor: pointer;display: block;width: 100%;margin-bottom: 0;padding: 0.3em;box-sizing: border-box;text-align: center;}#sk-container-id-2 label.sk-toggleable__label-arrow:before {content: \"▸\";float: left;margin-right: 0.25em;color: #696969;}#sk-container-id-2 label.sk-toggleable__label-arrow:hover:before {color: black;}#sk-container-id-2 div.sk-estimator:hover label.sk-toggleable__label-arrow:before {color: black;}#sk-container-id-2 div.sk-toggleable__content {max-height: 0;max-width: 0;overflow: hidden;text-align: left;background-color: #f0f8ff;}#sk-container-id-2 div.sk-toggleable__content pre {margin: 0.2em;color: black;border-radius: 0.25em;background-color: #f0f8ff;}#sk-container-id-2 input.sk-toggleable__control:checked~div.sk-toggleable__content {max-height: 200px;max-width: 100%;overflow: auto;}#sk-container-id-2 input.sk-toggleable__control:checked~label.sk-toggleable__label-arrow:before {content: \"▾\";}#sk-container-id-2 div.sk-estimator input.sk-toggleable__control:checked~label.sk-toggleable__label {background-color: #d4ebff;}#sk-container-id-2 div.sk-label input.sk-toggleable__control:checked~label.sk-toggleable__label {background-color: #d4ebff;}#sk-container-id-2 input.sk-hidden--visually {border: 0;clip: rect(1px 1px 1px 1px);clip: rect(1px, 1px, 1px, 1px);height: 1px;margin: -1px;overflow: hidden;padding: 0;position: absolute;width: 1px;}#sk-container-id-2 div.sk-estimator {font-family: monospace;background-color: #f0f8ff;border: 1px dotted black;border-radius: 0.25em;box-sizing: border-box;margin-bottom: 0.5em;}#sk-container-id-2 div.sk-estimator:hover {background-color: #d4ebff;}#sk-container-id-2 div.sk-parallel-item::after {content: \"\";width: 100%;border-bottom: 1px solid gray;flex-grow: 1;}#sk-container-id-2 div.sk-label:hover label.sk-toggleable__label {background-color: #d4ebff;}#sk-container-id-2 div.sk-serial::before {content: \"\";position: absolute;border-left: 1px solid gray;box-sizing: border-box;top: 0;bottom: 0;left: 50%;z-index: 0;}#sk-container-id-2 div.sk-serial {display: flex;flex-direction: column;align-items: center;background-color: white;padding-right: 0.2em;padding-left: 0.2em;position: relative;}#sk-container-id-2 div.sk-item {position: relative;z-index: 1;}#sk-container-id-2 div.sk-parallel {display: flex;align-items: stretch;justify-content: center;background-color: white;position: relative;}#sk-container-id-2 div.sk-item::before, #sk-container-id-2 div.sk-parallel-item::before {content: \"\";position: absolute;border-left: 1px solid gray;box-sizing: border-box;top: 0;bottom: 0;left: 50%;z-index: -1;}#sk-container-id-2 div.sk-parallel-item {display: flex;flex-direction: column;z-index: 1;position: relative;background-color: white;}#sk-container-id-2 div.sk-parallel-item:first-child::after {align-self: flex-end;width: 50%;}#sk-container-id-2 div.sk-parallel-item:last-child::after {align-self: flex-start;width: 50%;}#sk-container-id-2 div.sk-parallel-item:only-child::after {width: 0;}#sk-container-id-2 div.sk-dashed-wrapped {border: 1px dashed gray;margin: 0 0.4em 0.5em 0.4em;box-sizing: border-box;padding-bottom: 0.4em;background-color: white;}#sk-container-id-2 div.sk-label label {font-family: monospace;font-weight: bold;display: inline-block;line-height: 1.2em;}#sk-container-id-2 div.sk-label-container {text-align: center;}#sk-container-id-2 div.sk-container {/* jupyter's `normalize.less` sets `[hidden] { display: none; }` but bootstrap.min.css set `[hidden] { display: none !important; }` so we also need the `!important` here to be able to override the default hidden behavior on the sphinx rendered scikit-learn.org. See: https://github.com/scikit-learn/scikit-learn/issues/21755 */display: inline-block !important;position: relative;}#sk-container-id-2 div.sk-text-repr-fallback {display: none;}</style><div id=\"sk-container-id-2\" class=\"sk-top-container\"><div class=\"sk-text-repr-fallback\"><pre>DecisionTreeClassifier(max_depth=15, splitter=&#x27;random&#x27;)</pre><b>In a Jupyter environment, please rerun this cell to show the HTML representation or trust the notebook. <br />On GitHub, the HTML representation is unable to render, please try loading this page with nbviewer.org.</b></div><div class=\"sk-container\" hidden><div class=\"sk-item\"><div class=\"sk-estimator sk-toggleable\"><input class=\"sk-toggleable__control sk-hidden--visually\" id=\"sk-estimator-id-4\" type=\"checkbox\" checked><label for=\"sk-estimator-id-4\" class=\"sk-toggleable__label sk-toggleable__label-arrow\">DecisionTreeClassifier</label><div class=\"sk-toggleable__content\"><pre>DecisionTreeClassifier(max_depth=15, splitter=&#x27;random&#x27;)</pre></div></div></div></div></div>"
      ],
      "text/plain": [
       "DecisionTreeClassifier(max_depth=15, splitter='random')"
      ]
     },
     "execution_count": 7,
     "metadata": {},
     "output_type": "execute_result"
    }
   ],
   "source": [
    "grid.best_estimator_"
   ]
  },
  {
   "cell_type": "code",
   "execution_count": 8,
   "metadata": {},
   "outputs": [
    {
     "data": {
      "text/html": [
       "<div>\n",
       "<style scoped>\n",
       "    .dataframe tbody tr th:only-of-type {\n",
       "        vertical-align: middle;\n",
       "    }\n",
       "\n",
       "    .dataframe tbody tr th {\n",
       "        vertical-align: top;\n",
       "    }\n",
       "\n",
       "    .dataframe thead th {\n",
       "        text-align: right;\n",
       "    }\n",
       "</style>\n",
       "<table border=\"1\" class=\"dataframe\">\n",
       "  <thead>\n",
       "    <tr style=\"text-align: right;\">\n",
       "      <th></th>\n",
       "      <th>mean_fit_time</th>\n",
       "      <th>std_fit_time</th>\n",
       "      <th>mean_score_time</th>\n",
       "      <th>std_score_time</th>\n",
       "      <th>param_criterion</th>\n",
       "      <th>param_max_depth</th>\n",
       "      <th>param_splitter</th>\n",
       "      <th>params</th>\n",
       "      <th>split0_test_score</th>\n",
       "      <th>split1_test_score</th>\n",
       "      <th>split2_test_score</th>\n",
       "      <th>mean_test_score</th>\n",
       "      <th>std_test_score</th>\n",
       "      <th>rank_test_score</th>\n",
       "      <th>split0_train_score</th>\n",
       "      <th>split1_train_score</th>\n",
       "      <th>split2_train_score</th>\n",
       "      <th>mean_train_score</th>\n",
       "      <th>std_train_score</th>\n",
       "    </tr>\n",
       "  </thead>\n",
       "  <tbody>\n",
       "    <tr>\n",
       "      <th>0</th>\n",
       "      <td>0.012106</td>\n",
       "      <td>0.006576</td>\n",
       "      <td>0.005096</td>\n",
       "      <td>0.002994</td>\n",
       "      <td>gini</td>\n",
       "      <td>5</td>\n",
       "      <td>best</td>\n",
       "      <td>{'criterion': 'gini', 'max_depth': 5, 'splitte...</td>\n",
       "      <td>0.792079</td>\n",
       "      <td>0.712871</td>\n",
       "      <td>0.673267</td>\n",
       "      <td>0.726073</td>\n",
       "      <td>0.049395</td>\n",
       "      <td>64</td>\n",
       "      <td>0.965347</td>\n",
       "      <td>0.920792</td>\n",
       "      <td>0.940594</td>\n",
       "      <td>0.942244</td>\n",
       "      <td>0.018227</td>\n",
       "    </tr>\n",
       "    <tr>\n",
       "      <th>1</th>\n",
       "      <td>0.018021</td>\n",
       "      <td>0.007755</td>\n",
       "      <td>0.004962</td>\n",
       "      <td>0.002604</td>\n",
       "      <td>gini</td>\n",
       "      <td>5</td>\n",
       "      <td>random</td>\n",
       "      <td>{'criterion': 'gini', 'max_depth': 5, 'splitte...</td>\n",
       "      <td>0.782178</td>\n",
       "      <td>0.742574</td>\n",
       "      <td>0.772277</td>\n",
       "      <td>0.765677</td>\n",
       "      <td>0.016828</td>\n",
       "      <td>17</td>\n",
       "      <td>0.871287</td>\n",
       "      <td>0.920792</td>\n",
       "      <td>0.920792</td>\n",
       "      <td>0.904290</td>\n",
       "      <td>0.023337</td>\n",
       "    </tr>\n",
       "    <tr>\n",
       "      <th>2</th>\n",
       "      <td>0.038878</td>\n",
       "      <td>0.035185</td>\n",
       "      <td>0.006987</td>\n",
       "      <td>0.003938</td>\n",
       "      <td>gini</td>\n",
       "      <td>10</td>\n",
       "      <td>best</td>\n",
       "      <td>{'criterion': 'gini', 'max_depth': 10, 'splitt...</td>\n",
       "      <td>0.752475</td>\n",
       "      <td>0.742574</td>\n",
       "      <td>0.683168</td>\n",
       "      <td>0.726073</td>\n",
       "      <td>0.030606</td>\n",
       "      <td>64</td>\n",
       "      <td>1.000000</td>\n",
       "      <td>1.000000</td>\n",
       "      <td>1.000000</td>\n",
       "      <td>1.000000</td>\n",
       "      <td>0.000000</td>\n",
       "    </tr>\n",
       "    <tr>\n",
       "      <th>3</th>\n",
       "      <td>0.017923</td>\n",
       "      <td>0.013208</td>\n",
       "      <td>0.003655</td>\n",
       "      <td>0.002303</td>\n",
       "      <td>gini</td>\n",
       "      <td>10</td>\n",
       "      <td>random</td>\n",
       "      <td>{'criterion': 'gini', 'max_depth': 10, 'splitt...</td>\n",
       "      <td>0.712871</td>\n",
       "      <td>0.752475</td>\n",
       "      <td>0.752475</td>\n",
       "      <td>0.739274</td>\n",
       "      <td>0.018669</td>\n",
       "      <td>44</td>\n",
       "      <td>0.985149</td>\n",
       "      <td>0.995050</td>\n",
       "      <td>0.995050</td>\n",
       "      <td>0.991749</td>\n",
       "      <td>0.004667</td>\n",
       "    </tr>\n",
       "    <tr>\n",
       "      <th>4</th>\n",
       "      <td>0.013657</td>\n",
       "      <td>0.003849</td>\n",
       "      <td>0.006468</td>\n",
       "      <td>0.006660</td>\n",
       "      <td>gini</td>\n",
       "      <td>15</td>\n",
       "      <td>best</td>\n",
       "      <td>{'criterion': 'gini', 'max_depth': 15, 'splitt...</td>\n",
       "      <td>0.732673</td>\n",
       "      <td>0.742574</td>\n",
       "      <td>0.673267</td>\n",
       "      <td>0.716172</td>\n",
       "      <td>0.030606</td>\n",
       "      <td>78</td>\n",
       "      <td>1.000000</td>\n",
       "      <td>1.000000</td>\n",
       "      <td>1.000000</td>\n",
       "      <td>1.000000</td>\n",
       "      <td>0.000000</td>\n",
       "    </tr>\n",
       "    <tr>\n",
       "      <th>...</th>\n",
       "      <td>...</td>\n",
       "      <td>...</td>\n",
       "      <td>...</td>\n",
       "      <td>...</td>\n",
       "      <td>...</td>\n",
       "      <td>...</td>\n",
       "      <td>...</td>\n",
       "      <td>...</td>\n",
       "      <td>...</td>\n",
       "      <td>...</td>\n",
       "      <td>...</td>\n",
       "      <td>...</td>\n",
       "      <td>...</td>\n",
       "      <td>...</td>\n",
       "      <td>...</td>\n",
       "      <td>...</td>\n",
       "      <td>...</td>\n",
       "      <td>...</td>\n",
       "      <td>...</td>\n",
       "    </tr>\n",
       "    <tr>\n",
       "      <th>79</th>\n",
       "      <td>0.010229</td>\n",
       "      <td>0.004927</td>\n",
       "      <td>0.005171</td>\n",
       "      <td>0.003663</td>\n",
       "      <td>log_loss</td>\n",
       "      <td>400</td>\n",
       "      <td>random</td>\n",
       "      <td>{'criterion': 'log_loss', 'max_depth': 400, 's...</td>\n",
       "      <td>0.772277</td>\n",
       "      <td>0.782178</td>\n",
       "      <td>0.742574</td>\n",
       "      <td>0.765677</td>\n",
       "      <td>0.016828</td>\n",
       "      <td>17</td>\n",
       "      <td>1.000000</td>\n",
       "      <td>1.000000</td>\n",
       "      <td>1.000000</td>\n",
       "      <td>1.000000</td>\n",
       "      <td>0.000000</td>\n",
       "    </tr>\n",
       "    <tr>\n",
       "      <th>80</th>\n",
       "      <td>0.009940</td>\n",
       "      <td>0.003764</td>\n",
       "      <td>0.006802</td>\n",
       "      <td>0.001741</td>\n",
       "      <td>log_loss</td>\n",
       "      <td>450</td>\n",
       "      <td>best</td>\n",
       "      <td>{'criterion': 'log_loss', 'max_depth': 450, 's...</td>\n",
       "      <td>0.722772</td>\n",
       "      <td>0.752475</td>\n",
       "      <td>0.663366</td>\n",
       "      <td>0.712871</td>\n",
       "      <td>0.037046</td>\n",
       "      <td>80</td>\n",
       "      <td>1.000000</td>\n",
       "      <td>1.000000</td>\n",
       "      <td>1.000000</td>\n",
       "      <td>1.000000</td>\n",
       "      <td>0.000000</td>\n",
       "    </tr>\n",
       "    <tr>\n",
       "      <th>81</th>\n",
       "      <td>0.009620</td>\n",
       "      <td>0.002256</td>\n",
       "      <td>0.002667</td>\n",
       "      <td>0.003772</td>\n",
       "      <td>log_loss</td>\n",
       "      <td>450</td>\n",
       "      <td>random</td>\n",
       "      <td>{'criterion': 'log_loss', 'max_depth': 450, 's...</td>\n",
       "      <td>0.762376</td>\n",
       "      <td>0.762376</td>\n",
       "      <td>0.752475</td>\n",
       "      <td>0.759076</td>\n",
       "      <td>0.004667</td>\n",
       "      <td>21</td>\n",
       "      <td>1.000000</td>\n",
       "      <td>1.000000</td>\n",
       "      <td>1.000000</td>\n",
       "      <td>1.000000</td>\n",
       "      <td>0.000000</td>\n",
       "    </tr>\n",
       "    <tr>\n",
       "      <th>82</th>\n",
       "      <td>0.018584</td>\n",
       "      <td>0.007592</td>\n",
       "      <td>0.005539</td>\n",
       "      <td>0.004165</td>\n",
       "      <td>log_loss</td>\n",
       "      <td>500</td>\n",
       "      <td>best</td>\n",
       "      <td>{'criterion': 'log_loss', 'max_depth': 500, 's...</td>\n",
       "      <td>0.722772</td>\n",
       "      <td>0.792079</td>\n",
       "      <td>0.673267</td>\n",
       "      <td>0.729373</td>\n",
       "      <td>0.048729</td>\n",
       "      <td>59</td>\n",
       "      <td>1.000000</td>\n",
       "      <td>1.000000</td>\n",
       "      <td>1.000000</td>\n",
       "      <td>1.000000</td>\n",
       "      <td>0.000000</td>\n",
       "    </tr>\n",
       "    <tr>\n",
       "      <th>83</th>\n",
       "      <td>0.008499</td>\n",
       "      <td>0.002768</td>\n",
       "      <td>0.006190</td>\n",
       "      <td>0.004497</td>\n",
       "      <td>log_loss</td>\n",
       "      <td>500</td>\n",
       "      <td>random</td>\n",
       "      <td>{'criterion': 'log_loss', 'max_depth': 500, 's...</td>\n",
       "      <td>0.762376</td>\n",
       "      <td>0.851485</td>\n",
       "      <td>0.722772</td>\n",
       "      <td>0.778878</td>\n",
       "      <td>0.053827</td>\n",
       "      <td>2</td>\n",
       "      <td>1.000000</td>\n",
       "      <td>1.000000</td>\n",
       "      <td>1.000000</td>\n",
       "      <td>1.000000</td>\n",
       "      <td>0.000000</td>\n",
       "    </tr>\n",
       "  </tbody>\n",
       "</table>\n",
       "<p>84 rows × 19 columns</p>\n",
       "</div>"
      ],
      "text/plain": [
       "    mean_fit_time  std_fit_time  mean_score_time  std_score_time  \\\n",
       "0        0.012106      0.006576         0.005096        0.002994   \n",
       "1        0.018021      0.007755         0.004962        0.002604   \n",
       "2        0.038878      0.035185         0.006987        0.003938   \n",
       "3        0.017923      0.013208         0.003655        0.002303   \n",
       "4        0.013657      0.003849         0.006468        0.006660   \n",
       "..            ...           ...              ...             ...   \n",
       "79       0.010229      0.004927         0.005171        0.003663   \n",
       "80       0.009940      0.003764         0.006802        0.001741   \n",
       "81       0.009620      0.002256         0.002667        0.003772   \n",
       "82       0.018584      0.007592         0.005539        0.004165   \n",
       "83       0.008499      0.002768         0.006190        0.004497   \n",
       "\n",
       "   param_criterion param_max_depth param_splitter  \\\n",
       "0             gini               5           best   \n",
       "1             gini               5         random   \n",
       "2             gini              10           best   \n",
       "3             gini              10         random   \n",
       "4             gini              15           best   \n",
       "..             ...             ...            ...   \n",
       "79        log_loss             400         random   \n",
       "80        log_loss             450           best   \n",
       "81        log_loss             450         random   \n",
       "82        log_loss             500           best   \n",
       "83        log_loss             500         random   \n",
       "\n",
       "                                               params  split0_test_score  \\\n",
       "0   {'criterion': 'gini', 'max_depth': 5, 'splitte...           0.792079   \n",
       "1   {'criterion': 'gini', 'max_depth': 5, 'splitte...           0.782178   \n",
       "2   {'criterion': 'gini', 'max_depth': 10, 'splitt...           0.752475   \n",
       "3   {'criterion': 'gini', 'max_depth': 10, 'splitt...           0.712871   \n",
       "4   {'criterion': 'gini', 'max_depth': 15, 'splitt...           0.732673   \n",
       "..                                                ...                ...   \n",
       "79  {'criterion': 'log_loss', 'max_depth': 400, 's...           0.772277   \n",
       "80  {'criterion': 'log_loss', 'max_depth': 450, 's...           0.722772   \n",
       "81  {'criterion': 'log_loss', 'max_depth': 450, 's...           0.762376   \n",
       "82  {'criterion': 'log_loss', 'max_depth': 500, 's...           0.722772   \n",
       "83  {'criterion': 'log_loss', 'max_depth': 500, 's...           0.762376   \n",
       "\n",
       "    split1_test_score  split2_test_score  mean_test_score  std_test_score  \\\n",
       "0            0.712871           0.673267         0.726073        0.049395   \n",
       "1            0.742574           0.772277         0.765677        0.016828   \n",
       "2            0.742574           0.683168         0.726073        0.030606   \n",
       "3            0.752475           0.752475         0.739274        0.018669   \n",
       "4            0.742574           0.673267         0.716172        0.030606   \n",
       "..                ...                ...              ...             ...   \n",
       "79           0.782178           0.742574         0.765677        0.016828   \n",
       "80           0.752475           0.663366         0.712871        0.037046   \n",
       "81           0.762376           0.752475         0.759076        0.004667   \n",
       "82           0.792079           0.673267         0.729373        0.048729   \n",
       "83           0.851485           0.722772         0.778878        0.053827   \n",
       "\n",
       "    rank_test_score  split0_train_score  split1_train_score  \\\n",
       "0                64            0.965347            0.920792   \n",
       "1                17            0.871287            0.920792   \n",
       "2                64            1.000000            1.000000   \n",
       "3                44            0.985149            0.995050   \n",
       "4                78            1.000000            1.000000   \n",
       "..              ...                 ...                 ...   \n",
       "79               17            1.000000            1.000000   \n",
       "80               80            1.000000            1.000000   \n",
       "81               21            1.000000            1.000000   \n",
       "82               59            1.000000            1.000000   \n",
       "83                2            1.000000            1.000000   \n",
       "\n",
       "    split2_train_score  mean_train_score  std_train_score  \n",
       "0             0.940594          0.942244         0.018227  \n",
       "1             0.920792          0.904290         0.023337  \n",
       "2             1.000000          1.000000         0.000000  \n",
       "3             0.995050          0.991749         0.004667  \n",
       "4             1.000000          1.000000         0.000000  \n",
       "..                 ...               ...              ...  \n",
       "79            1.000000          1.000000         0.000000  \n",
       "80            1.000000          1.000000         0.000000  \n",
       "81            1.000000          1.000000         0.000000  \n",
       "82            1.000000          1.000000         0.000000  \n",
       "83            1.000000          1.000000         0.000000  \n",
       "\n",
       "[84 rows x 19 columns]"
      ]
     },
     "execution_count": 8,
     "metadata": {},
     "output_type": "execute_result"
    }
   ],
   "source": [
    "grid_tree_results = pd.DataFrame(grid.cv_results_)\n",
    "grid_tree_results"
   ]
  },
  {
   "cell_type": "code",
   "execution_count": 9,
   "metadata": {},
   "outputs": [
    {
     "data": {
      "text/html": [
       "<div>\n",
       "<style scoped>\n",
       "    .dataframe tbody tr th:only-of-type {\n",
       "        vertical-align: middle;\n",
       "    }\n",
       "\n",
       "    .dataframe tbody tr th {\n",
       "        vertical-align: top;\n",
       "    }\n",
       "\n",
       "    .dataframe thead th {\n",
       "        text-align: right;\n",
       "    }\n",
       "</style>\n",
       "<table border=\"1\" class=\"dataframe\">\n",
       "  <thead>\n",
       "    <tr style=\"text-align: right;\">\n",
       "      <th></th>\n",
       "      <th>index</th>\n",
       "      <th>mean_fit_time</th>\n",
       "      <th>std_fit_time</th>\n",
       "      <th>mean_score_time</th>\n",
       "      <th>std_score_time</th>\n",
       "      <th>param_criterion</th>\n",
       "      <th>param_max_depth</th>\n",
       "      <th>param_splitter</th>\n",
       "      <th>params</th>\n",
       "      <th>split0_test_score</th>\n",
       "      <th>split1_test_score</th>\n",
       "      <th>split2_test_score</th>\n",
       "      <th>mean_test_score</th>\n",
       "      <th>std_test_score</th>\n",
       "      <th>rank_test_score</th>\n",
       "      <th>split0_train_score</th>\n",
       "      <th>split1_train_score</th>\n",
       "      <th>split2_train_score</th>\n",
       "      <th>mean_train_score</th>\n",
       "      <th>std_train_score</th>\n",
       "    </tr>\n",
       "  </thead>\n",
       "  <tbody>\n",
       "    <tr>\n",
       "      <th>0</th>\n",
       "      <td>5</td>\n",
       "      <td>0.024751</td>\n",
       "      <td>0.029853</td>\n",
       "      <td>0.003663</td>\n",
       "      <td>0.003185</td>\n",
       "      <td>gini</td>\n",
       "      <td>15</td>\n",
       "      <td>random</td>\n",
       "      <td>{'criterion': 'gini', 'max_depth': 15, 'splitt...</td>\n",
       "      <td>0.801980</td>\n",
       "      <td>0.792079</td>\n",
       "      <td>0.762376</td>\n",
       "      <td>0.785479</td>\n",
       "      <td>0.016828</td>\n",
       "      <td>1</td>\n",
       "      <td>1.0</td>\n",
       "      <td>1.0</td>\n",
       "      <td>1.0</td>\n",
       "      <td>1.0</td>\n",
       "      <td>0.0</td>\n",
       "    </tr>\n",
       "    <tr>\n",
       "      <th>1</th>\n",
       "      <td>83</td>\n",
       "      <td>0.008499</td>\n",
       "      <td>0.002768</td>\n",
       "      <td>0.006190</td>\n",
       "      <td>0.004497</td>\n",
       "      <td>log_loss</td>\n",
       "      <td>500</td>\n",
       "      <td>random</td>\n",
       "      <td>{'criterion': 'log_loss', 'max_depth': 500, 's...</td>\n",
       "      <td>0.762376</td>\n",
       "      <td>0.851485</td>\n",
       "      <td>0.722772</td>\n",
       "      <td>0.778878</td>\n",
       "      <td>0.053827</td>\n",
       "      <td>2</td>\n",
       "      <td>1.0</td>\n",
       "      <td>1.0</td>\n",
       "      <td>1.0</td>\n",
       "      <td>1.0</td>\n",
       "      <td>0.0</td>\n",
       "    </tr>\n",
       "    <tr>\n",
       "      <th>2</th>\n",
       "      <td>43</td>\n",
       "      <td>0.015370</td>\n",
       "      <td>0.000824</td>\n",
       "      <td>0.013698</td>\n",
       "      <td>0.015979</td>\n",
       "      <td>entropy</td>\n",
       "      <td>200</td>\n",
       "      <td>random</td>\n",
       "      <td>{'criterion': 'entropy', 'max_depth': 200, 'sp...</td>\n",
       "      <td>0.821782</td>\n",
       "      <td>0.772277</td>\n",
       "      <td>0.742574</td>\n",
       "      <td>0.778878</td>\n",
       "      <td>0.032672</td>\n",
       "      <td>2</td>\n",
       "      <td>1.0</td>\n",
       "      <td>1.0</td>\n",
       "      <td>1.0</td>\n",
       "      <td>1.0</td>\n",
       "      <td>0.0</td>\n",
       "    </tr>\n",
       "    <tr>\n",
       "      <th>3</th>\n",
       "      <td>45</td>\n",
       "      <td>0.007736</td>\n",
       "      <td>0.003317</td>\n",
       "      <td>0.009315</td>\n",
       "      <td>0.007211</td>\n",
       "      <td>entropy</td>\n",
       "      <td>250</td>\n",
       "      <td>random</td>\n",
       "      <td>{'criterion': 'entropy', 'max_depth': 250, 'sp...</td>\n",
       "      <td>0.841584</td>\n",
       "      <td>0.752475</td>\n",
       "      <td>0.742574</td>\n",
       "      <td>0.778878</td>\n",
       "      <td>0.044524</td>\n",
       "      <td>2</td>\n",
       "      <td>1.0</td>\n",
       "      <td>1.0</td>\n",
       "      <td>1.0</td>\n",
       "      <td>1.0</td>\n",
       "      <td>0.0</td>\n",
       "    </tr>\n",
       "    <tr>\n",
       "      <th>4</th>\n",
       "      <td>73</td>\n",
       "      <td>0.017119</td>\n",
       "      <td>0.007638</td>\n",
       "      <td>0.014258</td>\n",
       "      <td>0.002916</td>\n",
       "      <td>log_loss</td>\n",
       "      <td>250</td>\n",
       "      <td>random</td>\n",
       "      <td>{'criterion': 'log_loss', 'max_depth': 250, 's...</td>\n",
       "      <td>0.782178</td>\n",
       "      <td>0.801980</td>\n",
       "      <td>0.752475</td>\n",
       "      <td>0.778878</td>\n",
       "      <td>0.020345</td>\n",
       "      <td>2</td>\n",
       "      <td>1.0</td>\n",
       "      <td>1.0</td>\n",
       "      <td>1.0</td>\n",
       "      <td>1.0</td>\n",
       "      <td>0.0</td>\n",
       "    </tr>\n",
       "    <tr>\n",
       "      <th>...</th>\n",
       "      <td>...</td>\n",
       "      <td>...</td>\n",
       "      <td>...</td>\n",
       "      <td>...</td>\n",
       "      <td>...</td>\n",
       "      <td>...</td>\n",
       "      <td>...</td>\n",
       "      <td>...</td>\n",
       "      <td>...</td>\n",
       "      <td>...</td>\n",
       "      <td>...</td>\n",
       "      <td>...</td>\n",
       "      <td>...</td>\n",
       "      <td>...</td>\n",
       "      <td>...</td>\n",
       "      <td>...</td>\n",
       "      <td>...</td>\n",
       "      <td>...</td>\n",
       "      <td>...</td>\n",
       "      <td>...</td>\n",
       "    </tr>\n",
       "    <tr>\n",
       "      <th>79</th>\n",
       "      <td>15</td>\n",
       "      <td>0.018244</td>\n",
       "      <td>0.020825</td>\n",
       "      <td>0.006983</td>\n",
       "      <td>0.004938</td>\n",
       "      <td>gini</td>\n",
       "      <td>200</td>\n",
       "      <td>random</td>\n",
       "      <td>{'criterion': 'gini', 'max_depth': 200, 'split...</td>\n",
       "      <td>0.693069</td>\n",
       "      <td>0.702970</td>\n",
       "      <td>0.742574</td>\n",
       "      <td>0.712871</td>\n",
       "      <td>0.021389</td>\n",
       "      <td>80</td>\n",
       "      <td>1.0</td>\n",
       "      <td>1.0</td>\n",
       "      <td>1.0</td>\n",
       "      <td>1.0</td>\n",
       "      <td>0.0</td>\n",
       "    </tr>\n",
       "    <tr>\n",
       "      <th>80</th>\n",
       "      <td>42</td>\n",
       "      <td>0.021410</td>\n",
       "      <td>0.018413</td>\n",
       "      <td>0.007719</td>\n",
       "      <td>0.003255</td>\n",
       "      <td>entropy</td>\n",
       "      <td>200</td>\n",
       "      <td>best</td>\n",
       "      <td>{'criterion': 'entropy', 'max_depth': 200, 'sp...</td>\n",
       "      <td>0.712871</td>\n",
       "      <td>0.742574</td>\n",
       "      <td>0.683168</td>\n",
       "      <td>0.712871</td>\n",
       "      <td>0.024252</td>\n",
       "      <td>80</td>\n",
       "      <td>1.0</td>\n",
       "      <td>1.0</td>\n",
       "      <td>1.0</td>\n",
       "      <td>1.0</td>\n",
       "      <td>0.0</td>\n",
       "    </tr>\n",
       "    <tr>\n",
       "      <th>81</th>\n",
       "      <td>12</td>\n",
       "      <td>0.042710</td>\n",
       "      <td>0.020741</td>\n",
       "      <td>0.004335</td>\n",
       "      <td>0.001519</td>\n",
       "      <td>gini</td>\n",
       "      <td>150</td>\n",
       "      <td>best</td>\n",
       "      <td>{'criterion': 'gini', 'max_depth': 150, 'split...</td>\n",
       "      <td>0.742574</td>\n",
       "      <td>0.722772</td>\n",
       "      <td>0.673267</td>\n",
       "      <td>0.712871</td>\n",
       "      <td>0.029148</td>\n",
       "      <td>80</td>\n",
       "      <td>1.0</td>\n",
       "      <td>1.0</td>\n",
       "      <td>1.0</td>\n",
       "      <td>1.0</td>\n",
       "      <td>0.0</td>\n",
       "    </tr>\n",
       "    <tr>\n",
       "      <th>82</th>\n",
       "      <td>36</td>\n",
       "      <td>0.020678</td>\n",
       "      <td>0.003012</td>\n",
       "      <td>0.001526</td>\n",
       "      <td>0.002158</td>\n",
       "      <td>entropy</td>\n",
       "      <td>50</td>\n",
       "      <td>best</td>\n",
       "      <td>{'criterion': 'entropy', 'max_depth': 50, 'spl...</td>\n",
       "      <td>0.702970</td>\n",
       "      <td>0.772277</td>\n",
       "      <td>0.663366</td>\n",
       "      <td>0.712871</td>\n",
       "      <td>0.045011</td>\n",
       "      <td>80</td>\n",
       "      <td>1.0</td>\n",
       "      <td>1.0</td>\n",
       "      <td>1.0</td>\n",
       "      <td>1.0</td>\n",
       "      <td>0.0</td>\n",
       "    </tr>\n",
       "    <tr>\n",
       "      <th>83</th>\n",
       "      <td>80</td>\n",
       "      <td>0.009940</td>\n",
       "      <td>0.003764</td>\n",
       "      <td>0.006802</td>\n",
       "      <td>0.001741</td>\n",
       "      <td>log_loss</td>\n",
       "      <td>450</td>\n",
       "      <td>best</td>\n",
       "      <td>{'criterion': 'log_loss', 'max_depth': 450, 's...</td>\n",
       "      <td>0.722772</td>\n",
       "      <td>0.752475</td>\n",
       "      <td>0.663366</td>\n",
       "      <td>0.712871</td>\n",
       "      <td>0.037046</td>\n",
       "      <td>80</td>\n",
       "      <td>1.0</td>\n",
       "      <td>1.0</td>\n",
       "      <td>1.0</td>\n",
       "      <td>1.0</td>\n",
       "      <td>0.0</td>\n",
       "    </tr>\n",
       "  </tbody>\n",
       "</table>\n",
       "<p>84 rows × 20 columns</p>\n",
       "</div>"
      ],
      "text/plain": [
       "    index  mean_fit_time  std_fit_time  mean_score_time  std_score_time  \\\n",
       "0       5       0.024751      0.029853         0.003663        0.003185   \n",
       "1      83       0.008499      0.002768         0.006190        0.004497   \n",
       "2      43       0.015370      0.000824         0.013698        0.015979   \n",
       "3      45       0.007736      0.003317         0.009315        0.007211   \n",
       "4      73       0.017119      0.007638         0.014258        0.002916   \n",
       "..    ...            ...           ...              ...             ...   \n",
       "79     15       0.018244      0.020825         0.006983        0.004938   \n",
       "80     42       0.021410      0.018413         0.007719        0.003255   \n",
       "81     12       0.042710      0.020741         0.004335        0.001519   \n",
       "82     36       0.020678      0.003012         0.001526        0.002158   \n",
       "83     80       0.009940      0.003764         0.006802        0.001741   \n",
       "\n",
       "   param_criterion param_max_depth param_splitter  \\\n",
       "0             gini              15         random   \n",
       "1         log_loss             500         random   \n",
       "2          entropy             200         random   \n",
       "3          entropy             250         random   \n",
       "4         log_loss             250         random   \n",
       "..             ...             ...            ...   \n",
       "79            gini             200         random   \n",
       "80         entropy             200           best   \n",
       "81            gini             150           best   \n",
       "82         entropy              50           best   \n",
       "83        log_loss             450           best   \n",
       "\n",
       "                                               params  split0_test_score  \\\n",
       "0   {'criterion': 'gini', 'max_depth': 15, 'splitt...           0.801980   \n",
       "1   {'criterion': 'log_loss', 'max_depth': 500, 's...           0.762376   \n",
       "2   {'criterion': 'entropy', 'max_depth': 200, 'sp...           0.821782   \n",
       "3   {'criterion': 'entropy', 'max_depth': 250, 'sp...           0.841584   \n",
       "4   {'criterion': 'log_loss', 'max_depth': 250, 's...           0.782178   \n",
       "..                                                ...                ...   \n",
       "79  {'criterion': 'gini', 'max_depth': 200, 'split...           0.693069   \n",
       "80  {'criterion': 'entropy', 'max_depth': 200, 'sp...           0.712871   \n",
       "81  {'criterion': 'gini', 'max_depth': 150, 'split...           0.742574   \n",
       "82  {'criterion': 'entropy', 'max_depth': 50, 'spl...           0.702970   \n",
       "83  {'criterion': 'log_loss', 'max_depth': 450, 's...           0.722772   \n",
       "\n",
       "    split1_test_score  split2_test_score  mean_test_score  std_test_score  \\\n",
       "0            0.792079           0.762376         0.785479        0.016828   \n",
       "1            0.851485           0.722772         0.778878        0.053827   \n",
       "2            0.772277           0.742574         0.778878        0.032672   \n",
       "3            0.752475           0.742574         0.778878        0.044524   \n",
       "4            0.801980           0.752475         0.778878        0.020345   \n",
       "..                ...                ...              ...             ...   \n",
       "79           0.702970           0.742574         0.712871        0.021389   \n",
       "80           0.742574           0.683168         0.712871        0.024252   \n",
       "81           0.722772           0.673267         0.712871        0.029148   \n",
       "82           0.772277           0.663366         0.712871        0.045011   \n",
       "83           0.752475           0.663366         0.712871        0.037046   \n",
       "\n",
       "    rank_test_score  split0_train_score  split1_train_score  \\\n",
       "0                 1                 1.0                 1.0   \n",
       "1                 2                 1.0                 1.0   \n",
       "2                 2                 1.0                 1.0   \n",
       "3                 2                 1.0                 1.0   \n",
       "4                 2                 1.0                 1.0   \n",
       "..              ...                 ...                 ...   \n",
       "79               80                 1.0                 1.0   \n",
       "80               80                 1.0                 1.0   \n",
       "81               80                 1.0                 1.0   \n",
       "82               80                 1.0                 1.0   \n",
       "83               80                 1.0                 1.0   \n",
       "\n",
       "    split2_train_score  mean_train_score  std_train_score  \n",
       "0                  1.0               1.0              0.0  \n",
       "1                  1.0               1.0              0.0  \n",
       "2                  1.0               1.0              0.0  \n",
       "3                  1.0               1.0              0.0  \n",
       "4                  1.0               1.0              0.0  \n",
       "..                 ...               ...              ...  \n",
       "79                 1.0               1.0              0.0  \n",
       "80                 1.0               1.0              0.0  \n",
       "81                 1.0               1.0              0.0  \n",
       "82                 1.0               1.0              0.0  \n",
       "83                 1.0               1.0              0.0  \n",
       "\n",
       "[84 rows x 20 columns]"
      ]
     },
     "execution_count": 9,
     "metadata": {},
     "output_type": "execute_result"
    }
   ],
   "source": [
    "grid_tree_results.sort_values(by='rank_test_score', inplace=True)\n",
    "grid_tree_results.reset_index(inplace=True)\n",
    "grid_tree_results"
   ]
  },
  {
   "cell_type": "code",
   "execution_count": 10,
   "metadata": {},
   "outputs": [
    {
     "data": {
      "text/plain": [
       "Index(['index', 'mean_fit_time', 'std_fit_time', 'mean_score_time',\n",
       "       'std_score_time', 'param_criterion', 'param_max_depth',\n",
       "       'param_splitter', 'params', 'split0_test_score', 'split1_test_score',\n",
       "       'split2_test_score', 'mean_test_score', 'std_test_score',\n",
       "       'rank_test_score', 'split0_train_score', 'split1_train_score',\n",
       "       'split2_train_score', 'mean_train_score', 'std_train_score'],\n",
       "      dtype='object')"
      ]
     },
     "execution_count": 10,
     "metadata": {},
     "output_type": "execute_result"
    }
   ],
   "source": [
    "grid_tree_results.columns"
   ]
  },
  {
   "cell_type": "code",
   "execution_count": 11,
   "metadata": {},
   "outputs": [
    {
     "data": {
      "application/vnd.plotly.v1+json": {
       "config": {
        "plotlyServerURL": "https://plot.ly"
       },
       "data": [
        {
         "customdata": [
          [
           "gini",
           "random",
           15
          ],
          [
           "log_loss",
           "random",
           500
          ],
          [
           "entropy",
           "random",
           200
          ],
          [
           "entropy",
           "random",
           250
          ],
          [
           "log_loss",
           "random",
           250
          ],
          [
           "log_loss",
           "random",
           15
          ],
          [
           "entropy",
           "random",
           400
          ],
          [
           "log_loss",
           "random",
           50
          ],
          [
           "log_loss",
           "random",
           200
          ],
          [
           "gini",
           "random",
           20
          ],
          [
           "log_loss",
           "random",
           150
          ],
          [
           "entropy",
           "random",
           20
          ],
          [
           "gini",
           "random",
           100
          ],
          [
           "entropy",
           "random",
           350
          ],
          [
           "entropy",
           "random",
           300
          ],
          [
           "entropy",
           "random",
           100
          ],
          [
           "log_loss",
           "random",
           400
          ],
          [
           "gini",
           "random",
           5
          ],
          [
           "log_loss",
           "random",
           5
          ],
          [
           "entropy",
           "random",
           10
          ],
          [
           "log_loss",
           "random",
           100
          ],
          [
           "log_loss",
           "random",
           450
          ],
          [
           "entropy",
           "random",
           150
          ],
          [
           "gini",
           "random",
           250
          ],
          [
           "log_loss",
           "random",
           20
          ],
          [
           "log_loss",
           "random",
           300
          ],
          [
           "entropy",
           "random",
           50
          ],
          [
           "gini",
           "random",
           50
          ],
          [
           "entropy",
           "best",
           150
          ],
          [
           "entropy",
           "best",
           350
          ],
          [
           "gini",
           "random",
           500
          ],
          [
           "entropy",
           "best",
           5
          ],
          [
           "log_loss",
           "best",
           10
          ],
          [
           "gini",
           "random",
           400
          ],
          [
           "entropy",
           "random",
           5
          ],
          [
           "log_loss",
           "random",
           10
          ],
          [
           "gini",
           "best",
           250
          ],
          [
           "entropy",
           "best",
           250
          ],
          [
           "entropy",
           "best",
           400
          ],
          [
           "log_loss",
           "best",
           250
          ],
          [
           "gini",
           "random",
           350
          ],
          [
           "log_loss",
           "best",
           20
          ],
          [
           "entropy",
           "best",
           100
          ],
          [
           "log_loss",
           "best",
           350
          ],
          [
           "entropy",
           "best",
           500
          ],
          [
           "gini",
           "random",
           10
          ],
          [
           "entropy",
           "random",
           15
          ],
          [
           "gini",
           "best",
           400
          ],
          [
           "log_loss",
           "best",
           15
          ],
          [
           "entropy",
           "random",
           500
          ],
          [
           "gini",
           "best",
           50
          ],
          [
           "gini",
           "best",
           300
          ],
          [
           "gini",
           "best",
           200
          ],
          [
           "log_loss",
           "best",
           100
          ],
          [
           "log_loss",
           "best",
           400
          ],
          [
           "gini",
           "random",
           150
          ],
          [
           "gini",
           "random",
           450
          ],
          [
           "gini",
           "best",
           450
          ],
          [
           "log_loss",
           "best",
           200
          ],
          [
           "entropy",
           "best",
           300
          ],
          [
           "log_loss",
           "best",
           500
          ],
          [
           "entropy",
           "best",
           10
          ],
          [
           "gini",
           "best",
           500
          ],
          [
           "log_loss",
           "random",
           350
          ],
          [
           "gini",
           "best",
           10
          ],
          [
           "gini",
           "best",
           5
          ],
          [
           "entropy",
           "best",
           450
          ],
          [
           "log_loss",
           "best",
           5
          ],
          [
           "log_loss",
           "best",
           50
          ],
          [
           "gini",
           "random",
           300
          ],
          [
           "log_loss",
           "best",
           300
          ],
          [
           "log_loss",
           "best",
           150
          ],
          [
           "gini",
           "best",
           20
          ],
          [
           "gini",
           "best",
           100
          ],
          [
           "gini",
           "best",
           350
          ],
          [
           "entropy",
           "best",
           20
          ],
          [
           "entropy",
           "best",
           15
          ],
          [
           "gini",
           "best",
           15
          ],
          [
           "entropy",
           "random",
           450
          ],
          [
           "gini",
           "random",
           200
          ],
          [
           "entropy",
           "best",
           200
          ],
          [
           "gini",
           "best",
           150
          ],
          [
           "entropy",
           "best",
           50
          ],
          [
           "log_loss",
           "best",
           450
          ]
         ],
         "hovertemplate": "variable=mean_test_score<br>_index=%{x}<br>value=%{y}<br>param_criterion=%{customdata[0]}<br>param_splitter=%{customdata[1]}<br>param_max_depth=%{customdata[2]}<extra></extra>",
         "legendgroup": "mean_test_score",
         "line": {
          "color": "#636efa",
          "dash": "solid"
         },
         "marker": {
          "symbol": "circle"
         },
         "mode": "lines",
         "name": "mean_test_score",
         "orientation": "v",
         "showlegend": true,
         "type": "scatter",
         "x": [
          0,
          1,
          2,
          3,
          4,
          5,
          6,
          7,
          8,
          9,
          10,
          11,
          12,
          13,
          14,
          15,
          16,
          17,
          18,
          19,
          20,
          21,
          22,
          23,
          24,
          25,
          26,
          27,
          28,
          29,
          30,
          31,
          32,
          33,
          34,
          35,
          36,
          37,
          38,
          39,
          40,
          41,
          42,
          43,
          44,
          45,
          46,
          47,
          48,
          49,
          50,
          51,
          52,
          53,
          54,
          55,
          56,
          57,
          58,
          59,
          60,
          61,
          62,
          63,
          64,
          65,
          66,
          67,
          68,
          69,
          70,
          71,
          72,
          73,
          74,
          75,
          76,
          77,
          78,
          79,
          80,
          81,
          82,
          83
         ],
         "xaxis": "x",
         "y": [
          0.7854785478547855,
          0.778877887788779,
          0.778877887788779,
          0.778877887788779,
          0.778877887788779,
          0.778877887788779,
          0.7755775577557756,
          0.7722772277227724,
          0.7722772277227724,
          0.7722772277227724,
          0.7689768976897691,
          0.7689768976897691,
          0.7689768976897691,
          0.7689768976897691,
          0.7689768976897691,
          0.7689768976897691,
          0.7656765676567657,
          0.7656765676567657,
          0.7623762376237625,
          0.7623762376237625,
          0.7590759075907592,
          0.7590759075907592,
          0.7590759075907592,
          0.7590759075907592,
          0.7557755775577558,
          0.7557755775577558,
          0.7557755775577558,
          0.7524752475247526,
          0.7524752475247526,
          0.7491749174917492,
          0.7491749174917492,
          0.7491749174917492,
          0.7491749174917492,
          0.7458745874587459,
          0.7458745874587459,
          0.7458745874587459,
          0.7425742574257427,
          0.7425742574257427,
          0.7425742574257427,
          0.7425742574257427,
          0.7425742574257427,
          0.7425742574257427,
          0.7425742574257427,
          0.7392739273927393,
          0.7392739273927393,
          0.7392739273927393,
          0.7392739273927393,
          0.7392739273927393,
          0.7392739273927393,
          0.7392739273927393,
          0.735973597359736,
          0.735973597359736,
          0.735973597359736,
          0.735973597359736,
          0.7326732673267328,
          0.7326732673267328,
          0.7326732673267328,
          0.7326732673267328,
          0.7293729372937294,
          0.7293729372937294,
          0.7293729372937294,
          0.7293729372937294,
          0.7293729372937294,
          0.7260726072607261,
          0.7260726072607261,
          0.7260726072607261,
          0.7260726072607261,
          0.7260726072607261,
          0.7227722772277229,
          0.7227722772277229,
          0.7227722772277229,
          0.7227722772277229,
          0.7194719471947195,
          0.7194719471947195,
          0.7194719471947195,
          0.7194719471947195,
          0.7194719471947195,
          0.7161716171617162,
          0.7161716171617162,
          0.712871287128713,
          0.712871287128713,
          0.712871287128713,
          0.712871287128713,
          0.712871287128713
         ],
         "yaxis": "y"
        },
        {
         "customdata": [
          [
           "gini",
           "random",
           15
          ],
          [
           "log_loss",
           "random",
           500
          ],
          [
           "entropy",
           "random",
           200
          ],
          [
           "entropy",
           "random",
           250
          ],
          [
           "log_loss",
           "random",
           250
          ],
          [
           "log_loss",
           "random",
           15
          ],
          [
           "entropy",
           "random",
           400
          ],
          [
           "log_loss",
           "random",
           50
          ],
          [
           "log_loss",
           "random",
           200
          ],
          [
           "gini",
           "random",
           20
          ],
          [
           "log_loss",
           "random",
           150
          ],
          [
           "entropy",
           "random",
           20
          ],
          [
           "gini",
           "random",
           100
          ],
          [
           "entropy",
           "random",
           350
          ],
          [
           "entropy",
           "random",
           300
          ],
          [
           "entropy",
           "random",
           100
          ],
          [
           "log_loss",
           "random",
           400
          ],
          [
           "gini",
           "random",
           5
          ],
          [
           "log_loss",
           "random",
           5
          ],
          [
           "entropy",
           "random",
           10
          ],
          [
           "log_loss",
           "random",
           100
          ],
          [
           "log_loss",
           "random",
           450
          ],
          [
           "entropy",
           "random",
           150
          ],
          [
           "gini",
           "random",
           250
          ],
          [
           "log_loss",
           "random",
           20
          ],
          [
           "log_loss",
           "random",
           300
          ],
          [
           "entropy",
           "random",
           50
          ],
          [
           "gini",
           "random",
           50
          ],
          [
           "entropy",
           "best",
           150
          ],
          [
           "entropy",
           "best",
           350
          ],
          [
           "gini",
           "random",
           500
          ],
          [
           "entropy",
           "best",
           5
          ],
          [
           "log_loss",
           "best",
           10
          ],
          [
           "gini",
           "random",
           400
          ],
          [
           "entropy",
           "random",
           5
          ],
          [
           "log_loss",
           "random",
           10
          ],
          [
           "gini",
           "best",
           250
          ],
          [
           "entropy",
           "best",
           250
          ],
          [
           "entropy",
           "best",
           400
          ],
          [
           "log_loss",
           "best",
           250
          ],
          [
           "gini",
           "random",
           350
          ],
          [
           "log_loss",
           "best",
           20
          ],
          [
           "entropy",
           "best",
           100
          ],
          [
           "log_loss",
           "best",
           350
          ],
          [
           "entropy",
           "best",
           500
          ],
          [
           "gini",
           "random",
           10
          ],
          [
           "entropy",
           "random",
           15
          ],
          [
           "gini",
           "best",
           400
          ],
          [
           "log_loss",
           "best",
           15
          ],
          [
           "entropy",
           "random",
           500
          ],
          [
           "gini",
           "best",
           50
          ],
          [
           "gini",
           "best",
           300
          ],
          [
           "gini",
           "best",
           200
          ],
          [
           "log_loss",
           "best",
           100
          ],
          [
           "log_loss",
           "best",
           400
          ],
          [
           "gini",
           "random",
           150
          ],
          [
           "gini",
           "random",
           450
          ],
          [
           "gini",
           "best",
           450
          ],
          [
           "log_loss",
           "best",
           200
          ],
          [
           "entropy",
           "best",
           300
          ],
          [
           "log_loss",
           "best",
           500
          ],
          [
           "entropy",
           "best",
           10
          ],
          [
           "gini",
           "best",
           500
          ],
          [
           "log_loss",
           "random",
           350
          ],
          [
           "gini",
           "best",
           10
          ],
          [
           "gini",
           "best",
           5
          ],
          [
           "entropy",
           "best",
           450
          ],
          [
           "log_loss",
           "best",
           5
          ],
          [
           "log_loss",
           "best",
           50
          ],
          [
           "gini",
           "random",
           300
          ],
          [
           "log_loss",
           "best",
           300
          ],
          [
           "log_loss",
           "best",
           150
          ],
          [
           "gini",
           "best",
           20
          ],
          [
           "gini",
           "best",
           100
          ],
          [
           "gini",
           "best",
           350
          ],
          [
           "entropy",
           "best",
           20
          ],
          [
           "entropy",
           "best",
           15
          ],
          [
           "gini",
           "best",
           15
          ],
          [
           "entropy",
           "random",
           450
          ],
          [
           "gini",
           "random",
           200
          ],
          [
           "entropy",
           "best",
           200
          ],
          [
           "gini",
           "best",
           150
          ],
          [
           "entropy",
           "best",
           50
          ],
          [
           "log_loss",
           "best",
           450
          ]
         ],
         "hovertemplate": "variable=mean_train_score<br>_index=%{x}<br>value=%{y}<br>param_criterion=%{customdata[0]}<br>param_splitter=%{customdata[1]}<br>param_max_depth=%{customdata[2]}<extra></extra>",
         "legendgroup": "mean_train_score",
         "line": {
          "color": "#EF553B",
          "dash": "solid"
         },
         "marker": {
          "symbol": "circle"
         },
         "mode": "lines",
         "name": "mean_train_score",
         "orientation": "v",
         "showlegend": true,
         "type": "scatter",
         "x": [
          0,
          1,
          2,
          3,
          4,
          5,
          6,
          7,
          8,
          9,
          10,
          11,
          12,
          13,
          14,
          15,
          16,
          17,
          18,
          19,
          20,
          21,
          22,
          23,
          24,
          25,
          26,
          27,
          28,
          29,
          30,
          31,
          32,
          33,
          34,
          35,
          36,
          37,
          38,
          39,
          40,
          41,
          42,
          43,
          44,
          45,
          46,
          47,
          48,
          49,
          50,
          51,
          52,
          53,
          54,
          55,
          56,
          57,
          58,
          59,
          60,
          61,
          62,
          63,
          64,
          65,
          66,
          67,
          68,
          69,
          70,
          71,
          72,
          73,
          74,
          75,
          76,
          77,
          78,
          79,
          80,
          81,
          82,
          83
         ],
         "xaxis": "x",
         "y": [
          1,
          1,
          1,
          1,
          1,
          1,
          1,
          1,
          1,
          1,
          1,
          1,
          1,
          1,
          1,
          1,
          1,
          0.9042904290429044,
          0.8795379537953796,
          0.9966996699669967,
          1,
          1,
          1,
          1,
          1,
          1,
          1,
          1,
          1,
          1,
          1,
          0.9158415841584159,
          0.9966996699669967,
          1,
          0.8828382838283829,
          0.9900990099009901,
          1,
          1,
          1,
          1,
          1,
          1,
          1,
          1,
          1,
          0.9917491749174917,
          1,
          1,
          1,
          1,
          1,
          1,
          1,
          1,
          1,
          1,
          1,
          1,
          1,
          1,
          1,
          0.9966996699669967,
          1,
          1,
          1,
          0.9422442244224422,
          1,
          0.9141914191419142,
          1,
          1,
          1,
          1,
          1,
          1,
          1,
          1,
          1,
          1,
          1,
          1,
          1,
          1,
          1,
          1
         ],
         "yaxis": "y"
        }
       ],
       "layout": {
        "legend": {
         "title": {
          "text": "variable"
         },
         "tracegroupgap": 0
        },
        "template": {
         "data": {
          "bar": [
           {
            "error_x": {
             "color": "#2a3f5f"
            },
            "error_y": {
             "color": "#2a3f5f"
            },
            "marker": {
             "line": {
              "color": "#E5ECF6",
              "width": 0.5
             },
             "pattern": {
              "fillmode": "overlay",
              "size": 10,
              "solidity": 0.2
             }
            },
            "type": "bar"
           }
          ],
          "barpolar": [
           {
            "marker": {
             "line": {
              "color": "#E5ECF6",
              "width": 0.5
             },
             "pattern": {
              "fillmode": "overlay",
              "size": 10,
              "solidity": 0.2
             }
            },
            "type": "barpolar"
           }
          ],
          "carpet": [
           {
            "aaxis": {
             "endlinecolor": "#2a3f5f",
             "gridcolor": "white",
             "linecolor": "white",
             "minorgridcolor": "white",
             "startlinecolor": "#2a3f5f"
            },
            "baxis": {
             "endlinecolor": "#2a3f5f",
             "gridcolor": "white",
             "linecolor": "white",
             "minorgridcolor": "white",
             "startlinecolor": "#2a3f5f"
            },
            "type": "carpet"
           }
          ],
          "choropleth": [
           {
            "colorbar": {
             "outlinewidth": 0,
             "ticks": ""
            },
            "type": "choropleth"
           }
          ],
          "contour": [
           {
            "colorbar": {
             "outlinewidth": 0,
             "ticks": ""
            },
            "colorscale": [
             [
              0,
              "#0d0887"
             ],
             [
              0.1111111111111111,
              "#46039f"
             ],
             [
              0.2222222222222222,
              "#7201a8"
             ],
             [
              0.3333333333333333,
              "#9c179e"
             ],
             [
              0.4444444444444444,
              "#bd3786"
             ],
             [
              0.5555555555555556,
              "#d8576b"
             ],
             [
              0.6666666666666666,
              "#ed7953"
             ],
             [
              0.7777777777777778,
              "#fb9f3a"
             ],
             [
              0.8888888888888888,
              "#fdca26"
             ],
             [
              1,
              "#f0f921"
             ]
            ],
            "type": "contour"
           }
          ],
          "contourcarpet": [
           {
            "colorbar": {
             "outlinewidth": 0,
             "ticks": ""
            },
            "type": "contourcarpet"
           }
          ],
          "heatmap": [
           {
            "colorbar": {
             "outlinewidth": 0,
             "ticks": ""
            },
            "colorscale": [
             [
              0,
              "#0d0887"
             ],
             [
              0.1111111111111111,
              "#46039f"
             ],
             [
              0.2222222222222222,
              "#7201a8"
             ],
             [
              0.3333333333333333,
              "#9c179e"
             ],
             [
              0.4444444444444444,
              "#bd3786"
             ],
             [
              0.5555555555555556,
              "#d8576b"
             ],
             [
              0.6666666666666666,
              "#ed7953"
             ],
             [
              0.7777777777777778,
              "#fb9f3a"
             ],
             [
              0.8888888888888888,
              "#fdca26"
             ],
             [
              1,
              "#f0f921"
             ]
            ],
            "type": "heatmap"
           }
          ],
          "heatmapgl": [
           {
            "colorbar": {
             "outlinewidth": 0,
             "ticks": ""
            },
            "colorscale": [
             [
              0,
              "#0d0887"
             ],
             [
              0.1111111111111111,
              "#46039f"
             ],
             [
              0.2222222222222222,
              "#7201a8"
             ],
             [
              0.3333333333333333,
              "#9c179e"
             ],
             [
              0.4444444444444444,
              "#bd3786"
             ],
             [
              0.5555555555555556,
              "#d8576b"
             ],
             [
              0.6666666666666666,
              "#ed7953"
             ],
             [
              0.7777777777777778,
              "#fb9f3a"
             ],
             [
              0.8888888888888888,
              "#fdca26"
             ],
             [
              1,
              "#f0f921"
             ]
            ],
            "type": "heatmapgl"
           }
          ],
          "histogram": [
           {
            "marker": {
             "pattern": {
              "fillmode": "overlay",
              "size": 10,
              "solidity": 0.2
             }
            },
            "type": "histogram"
           }
          ],
          "histogram2d": [
           {
            "colorbar": {
             "outlinewidth": 0,
             "ticks": ""
            },
            "colorscale": [
             [
              0,
              "#0d0887"
             ],
             [
              0.1111111111111111,
              "#46039f"
             ],
             [
              0.2222222222222222,
              "#7201a8"
             ],
             [
              0.3333333333333333,
              "#9c179e"
             ],
             [
              0.4444444444444444,
              "#bd3786"
             ],
             [
              0.5555555555555556,
              "#d8576b"
             ],
             [
              0.6666666666666666,
              "#ed7953"
             ],
             [
              0.7777777777777778,
              "#fb9f3a"
             ],
             [
              0.8888888888888888,
              "#fdca26"
             ],
             [
              1,
              "#f0f921"
             ]
            ],
            "type": "histogram2d"
           }
          ],
          "histogram2dcontour": [
           {
            "colorbar": {
             "outlinewidth": 0,
             "ticks": ""
            },
            "colorscale": [
             [
              0,
              "#0d0887"
             ],
             [
              0.1111111111111111,
              "#46039f"
             ],
             [
              0.2222222222222222,
              "#7201a8"
             ],
             [
              0.3333333333333333,
              "#9c179e"
             ],
             [
              0.4444444444444444,
              "#bd3786"
             ],
             [
              0.5555555555555556,
              "#d8576b"
             ],
             [
              0.6666666666666666,
              "#ed7953"
             ],
             [
              0.7777777777777778,
              "#fb9f3a"
             ],
             [
              0.8888888888888888,
              "#fdca26"
             ],
             [
              1,
              "#f0f921"
             ]
            ],
            "type": "histogram2dcontour"
           }
          ],
          "mesh3d": [
           {
            "colorbar": {
             "outlinewidth": 0,
             "ticks": ""
            },
            "type": "mesh3d"
           }
          ],
          "parcoords": [
           {
            "line": {
             "colorbar": {
              "outlinewidth": 0,
              "ticks": ""
             }
            },
            "type": "parcoords"
           }
          ],
          "pie": [
           {
            "automargin": true,
            "type": "pie"
           }
          ],
          "scatter": [
           {
            "fillpattern": {
             "fillmode": "overlay",
             "size": 10,
             "solidity": 0.2
            },
            "type": "scatter"
           }
          ],
          "scatter3d": [
           {
            "line": {
             "colorbar": {
              "outlinewidth": 0,
              "ticks": ""
             }
            },
            "marker": {
             "colorbar": {
              "outlinewidth": 0,
              "ticks": ""
             }
            },
            "type": "scatter3d"
           }
          ],
          "scattercarpet": [
           {
            "marker": {
             "colorbar": {
              "outlinewidth": 0,
              "ticks": ""
             }
            },
            "type": "scattercarpet"
           }
          ],
          "scattergeo": [
           {
            "marker": {
             "colorbar": {
              "outlinewidth": 0,
              "ticks": ""
             }
            },
            "type": "scattergeo"
           }
          ],
          "scattergl": [
           {
            "marker": {
             "colorbar": {
              "outlinewidth": 0,
              "ticks": ""
             }
            },
            "type": "scattergl"
           }
          ],
          "scattermapbox": [
           {
            "marker": {
             "colorbar": {
              "outlinewidth": 0,
              "ticks": ""
             }
            },
            "type": "scattermapbox"
           }
          ],
          "scatterpolar": [
           {
            "marker": {
             "colorbar": {
              "outlinewidth": 0,
              "ticks": ""
             }
            },
            "type": "scatterpolar"
           }
          ],
          "scatterpolargl": [
           {
            "marker": {
             "colorbar": {
              "outlinewidth": 0,
              "ticks": ""
             }
            },
            "type": "scatterpolargl"
           }
          ],
          "scatterternary": [
           {
            "marker": {
             "colorbar": {
              "outlinewidth": 0,
              "ticks": ""
             }
            },
            "type": "scatterternary"
           }
          ],
          "surface": [
           {
            "colorbar": {
             "outlinewidth": 0,
             "ticks": ""
            },
            "colorscale": [
             [
              0,
              "#0d0887"
             ],
             [
              0.1111111111111111,
              "#46039f"
             ],
             [
              0.2222222222222222,
              "#7201a8"
             ],
             [
              0.3333333333333333,
              "#9c179e"
             ],
             [
              0.4444444444444444,
              "#bd3786"
             ],
             [
              0.5555555555555556,
              "#d8576b"
             ],
             [
              0.6666666666666666,
              "#ed7953"
             ],
             [
              0.7777777777777778,
              "#fb9f3a"
             ],
             [
              0.8888888888888888,
              "#fdca26"
             ],
             [
              1,
              "#f0f921"
             ]
            ],
            "type": "surface"
           }
          ],
          "table": [
           {
            "cells": {
             "fill": {
              "color": "#EBF0F8"
             },
             "line": {
              "color": "white"
             }
            },
            "header": {
             "fill": {
              "color": "#C8D4E3"
             },
             "line": {
              "color": "white"
             }
            },
            "type": "table"
           }
          ]
         },
         "layout": {
          "annotationdefaults": {
           "arrowcolor": "#2a3f5f",
           "arrowhead": 0,
           "arrowwidth": 1
          },
          "autotypenumbers": "strict",
          "coloraxis": {
           "colorbar": {
            "outlinewidth": 0,
            "ticks": ""
           }
          },
          "colorscale": {
           "diverging": [
            [
             0,
             "#8e0152"
            ],
            [
             0.1,
             "#c51b7d"
            ],
            [
             0.2,
             "#de77ae"
            ],
            [
             0.3,
             "#f1b6da"
            ],
            [
             0.4,
             "#fde0ef"
            ],
            [
             0.5,
             "#f7f7f7"
            ],
            [
             0.6,
             "#e6f5d0"
            ],
            [
             0.7,
             "#b8e186"
            ],
            [
             0.8,
             "#7fbc41"
            ],
            [
             0.9,
             "#4d9221"
            ],
            [
             1,
             "#276419"
            ]
           ],
           "sequential": [
            [
             0,
             "#0d0887"
            ],
            [
             0.1111111111111111,
             "#46039f"
            ],
            [
             0.2222222222222222,
             "#7201a8"
            ],
            [
             0.3333333333333333,
             "#9c179e"
            ],
            [
             0.4444444444444444,
             "#bd3786"
            ],
            [
             0.5555555555555556,
             "#d8576b"
            ],
            [
             0.6666666666666666,
             "#ed7953"
            ],
            [
             0.7777777777777778,
             "#fb9f3a"
            ],
            [
             0.8888888888888888,
             "#fdca26"
            ],
            [
             1,
             "#f0f921"
            ]
           ],
           "sequentialminus": [
            [
             0,
             "#0d0887"
            ],
            [
             0.1111111111111111,
             "#46039f"
            ],
            [
             0.2222222222222222,
             "#7201a8"
            ],
            [
             0.3333333333333333,
             "#9c179e"
            ],
            [
             0.4444444444444444,
             "#bd3786"
            ],
            [
             0.5555555555555556,
             "#d8576b"
            ],
            [
             0.6666666666666666,
             "#ed7953"
            ],
            [
             0.7777777777777778,
             "#fb9f3a"
            ],
            [
             0.8888888888888888,
             "#fdca26"
            ],
            [
             1,
             "#f0f921"
            ]
           ]
          },
          "colorway": [
           "#636efa",
           "#EF553B",
           "#00cc96",
           "#ab63fa",
           "#FFA15A",
           "#19d3f3",
           "#FF6692",
           "#B6E880",
           "#FF97FF",
           "#FECB52"
          ],
          "font": {
           "color": "#2a3f5f"
          },
          "geo": {
           "bgcolor": "white",
           "lakecolor": "white",
           "landcolor": "#E5ECF6",
           "showlakes": true,
           "showland": true,
           "subunitcolor": "white"
          },
          "hoverlabel": {
           "align": "left"
          },
          "hovermode": "closest",
          "mapbox": {
           "style": "light"
          },
          "paper_bgcolor": "white",
          "plot_bgcolor": "#E5ECF6",
          "polar": {
           "angularaxis": {
            "gridcolor": "white",
            "linecolor": "white",
            "ticks": ""
           },
           "bgcolor": "#E5ECF6",
           "radialaxis": {
            "gridcolor": "white",
            "linecolor": "white",
            "ticks": ""
           }
          },
          "scene": {
           "xaxis": {
            "backgroundcolor": "#E5ECF6",
            "gridcolor": "white",
            "gridwidth": 2,
            "linecolor": "white",
            "showbackground": true,
            "ticks": "",
            "zerolinecolor": "white"
           },
           "yaxis": {
            "backgroundcolor": "#E5ECF6",
            "gridcolor": "white",
            "gridwidth": 2,
            "linecolor": "white",
            "showbackground": true,
            "ticks": "",
            "zerolinecolor": "white"
           },
           "zaxis": {
            "backgroundcolor": "#E5ECF6",
            "gridcolor": "white",
            "gridwidth": 2,
            "linecolor": "white",
            "showbackground": true,
            "ticks": "",
            "zerolinecolor": "white"
           }
          },
          "shapedefaults": {
           "line": {
            "color": "#2a3f5f"
           }
          },
          "ternary": {
           "aaxis": {
            "gridcolor": "white",
            "linecolor": "white",
            "ticks": ""
           },
           "baxis": {
            "gridcolor": "white",
            "linecolor": "white",
            "ticks": ""
           },
           "bgcolor": "#E5ECF6",
           "caxis": {
            "gridcolor": "white",
            "linecolor": "white",
            "ticks": ""
           }
          },
          "title": {
           "x": 0.05
          },
          "xaxis": {
           "automargin": true,
           "gridcolor": "white",
           "linecolor": "white",
           "ticks": "",
           "title": {
            "standoff": 15
           },
           "zerolinecolor": "white",
           "zerolinewidth": 2
          },
          "yaxis": {
           "automargin": true,
           "gridcolor": "white",
           "linecolor": "white",
           "ticks": "",
           "title": {
            "standoff": 15
           },
           "zerolinecolor": "white",
           "zerolinewidth": 2
          }
         }
        },
        "title": {
         "text": "Decicion Tree Grid Search"
        },
        "xaxis": {
         "anchor": "y",
         "domain": [
          0,
          1
         ],
         "title": {
          "text": "_index"
         }
        },
        "yaxis": {
         "anchor": "x",
         "domain": [
          0,
          1
         ],
         "title": {
          "text": "value"
         }
        }
       }
      }
     },
     "metadata": {},
     "output_type": "display_data"
    }
   ],
   "source": [
    "px.line(grid_tree_results,\n",
    "        y=['mean_test_score','mean_train_score'],\n",
    "        title='Decicion Tree Grid Search', \n",
    "        hover_data=['param_criterion', 'param_splitter', 'param_max_depth'])"
   ]
  },
  {
   "cell_type": "markdown",
   "metadata": {},
   "source": [
    "Implementing KNeighborsClassifier"
   ]
  },
  {
   "cell_type": "code",
   "execution_count": 12,
   "metadata": {},
   "outputs": [],
   "source": [
    "clf2 = KNeighborsClassifier()\n",
    "params_knn= {\n",
    "    'n_neighbors': [3,5,7,9,10],\n",
    "    'weights': [\"uniform\",\"distance\"],\n",
    "    'algorithm': [\"auto\",\"ball_tree\",\"kd_tree\",\"brute\"],\n",
    "    'metric' : ['euclidean', 'manhattan','chebyshev','minkowski']\n",
    "}\n"
   ]
  },
  {
   "cell_type": "code",
   "execution_count": 13,
   "metadata": {},
   "outputs": [],
   "source": [
    "grid2 = GridSearchCV(\n",
    "    estimator=clf2,\n",
    "    param_grid=params_knn,\n",
    "    cv = 3,\n",
    "    n_jobs = -1,\n",
    "    verbose =3,\n",
    ")"
   ]
  },
  {
   "cell_type": "code",
   "execution_count": 14,
   "metadata": {},
   "outputs": [
    {
     "name": "stdout",
     "output_type": "stream",
     "text": [
      "Fitting 3 folds for each of 160 candidates, totalling 480 fits\n"
     ]
    },
    {
     "data": {
      "text/html": [
       "<style>#sk-container-id-3 {color: black;background-color: white;}#sk-container-id-3 pre{padding: 0;}#sk-container-id-3 div.sk-toggleable {background-color: white;}#sk-container-id-3 label.sk-toggleable__label {cursor: pointer;display: block;width: 100%;margin-bottom: 0;padding: 0.3em;box-sizing: border-box;text-align: center;}#sk-container-id-3 label.sk-toggleable__label-arrow:before {content: \"▸\";float: left;margin-right: 0.25em;color: #696969;}#sk-container-id-3 label.sk-toggleable__label-arrow:hover:before {color: black;}#sk-container-id-3 div.sk-estimator:hover label.sk-toggleable__label-arrow:before {color: black;}#sk-container-id-3 div.sk-toggleable__content {max-height: 0;max-width: 0;overflow: hidden;text-align: left;background-color: #f0f8ff;}#sk-container-id-3 div.sk-toggleable__content pre {margin: 0.2em;color: black;border-radius: 0.25em;background-color: #f0f8ff;}#sk-container-id-3 input.sk-toggleable__control:checked~div.sk-toggleable__content {max-height: 200px;max-width: 100%;overflow: auto;}#sk-container-id-3 input.sk-toggleable__control:checked~label.sk-toggleable__label-arrow:before {content: \"▾\";}#sk-container-id-3 div.sk-estimator input.sk-toggleable__control:checked~label.sk-toggleable__label {background-color: #d4ebff;}#sk-container-id-3 div.sk-label input.sk-toggleable__control:checked~label.sk-toggleable__label {background-color: #d4ebff;}#sk-container-id-3 input.sk-hidden--visually {border: 0;clip: rect(1px 1px 1px 1px);clip: rect(1px, 1px, 1px, 1px);height: 1px;margin: -1px;overflow: hidden;padding: 0;position: absolute;width: 1px;}#sk-container-id-3 div.sk-estimator {font-family: monospace;background-color: #f0f8ff;border: 1px dotted black;border-radius: 0.25em;box-sizing: border-box;margin-bottom: 0.5em;}#sk-container-id-3 div.sk-estimator:hover {background-color: #d4ebff;}#sk-container-id-3 div.sk-parallel-item::after {content: \"\";width: 100%;border-bottom: 1px solid gray;flex-grow: 1;}#sk-container-id-3 div.sk-label:hover label.sk-toggleable__label {background-color: #d4ebff;}#sk-container-id-3 div.sk-serial::before {content: \"\";position: absolute;border-left: 1px solid gray;box-sizing: border-box;top: 0;bottom: 0;left: 50%;z-index: 0;}#sk-container-id-3 div.sk-serial {display: flex;flex-direction: column;align-items: center;background-color: white;padding-right: 0.2em;padding-left: 0.2em;position: relative;}#sk-container-id-3 div.sk-item {position: relative;z-index: 1;}#sk-container-id-3 div.sk-parallel {display: flex;align-items: stretch;justify-content: center;background-color: white;position: relative;}#sk-container-id-3 div.sk-item::before, #sk-container-id-3 div.sk-parallel-item::before {content: \"\";position: absolute;border-left: 1px solid gray;box-sizing: border-box;top: 0;bottom: 0;left: 50%;z-index: -1;}#sk-container-id-3 div.sk-parallel-item {display: flex;flex-direction: column;z-index: 1;position: relative;background-color: white;}#sk-container-id-3 div.sk-parallel-item:first-child::after {align-self: flex-end;width: 50%;}#sk-container-id-3 div.sk-parallel-item:last-child::after {align-self: flex-start;width: 50%;}#sk-container-id-3 div.sk-parallel-item:only-child::after {width: 0;}#sk-container-id-3 div.sk-dashed-wrapped {border: 1px dashed gray;margin: 0 0.4em 0.5em 0.4em;box-sizing: border-box;padding-bottom: 0.4em;background-color: white;}#sk-container-id-3 div.sk-label label {font-family: monospace;font-weight: bold;display: inline-block;line-height: 1.2em;}#sk-container-id-3 div.sk-label-container {text-align: center;}#sk-container-id-3 div.sk-container {/* jupyter's `normalize.less` sets `[hidden] { display: none; }` but bootstrap.min.css set `[hidden] { display: none !important; }` so we also need the `!important` here to be able to override the default hidden behavior on the sphinx rendered scikit-learn.org. See: https://github.com/scikit-learn/scikit-learn/issues/21755 */display: inline-block !important;position: relative;}#sk-container-id-3 div.sk-text-repr-fallback {display: none;}</style><div id=\"sk-container-id-3\" class=\"sk-top-container\"><div class=\"sk-text-repr-fallback\"><pre>GridSearchCV(cv=3, estimator=KNeighborsClassifier(), n_jobs=-1,\n",
       "             param_grid={&#x27;algorithm&#x27;: [&#x27;auto&#x27;, &#x27;ball_tree&#x27;, &#x27;kd_tree&#x27;, &#x27;brute&#x27;],\n",
       "                         &#x27;metric&#x27;: [&#x27;euclidean&#x27;, &#x27;manhattan&#x27;, &#x27;chebyshev&#x27;,\n",
       "                                    &#x27;minkowski&#x27;],\n",
       "                         &#x27;n_neighbors&#x27;: [3, 5, 7, 9, 10],\n",
       "                         &#x27;weights&#x27;: [&#x27;uniform&#x27;, &#x27;distance&#x27;]},\n",
       "             verbose=3)</pre><b>In a Jupyter environment, please rerun this cell to show the HTML representation or trust the notebook. <br />On GitHub, the HTML representation is unable to render, please try loading this page with nbviewer.org.</b></div><div class=\"sk-container\" hidden><div class=\"sk-item sk-dashed-wrapped\"><div class=\"sk-label-container\"><div class=\"sk-label sk-toggleable\"><input class=\"sk-toggleable__control sk-hidden--visually\" id=\"sk-estimator-id-5\" type=\"checkbox\" ><label for=\"sk-estimator-id-5\" class=\"sk-toggleable__label sk-toggleable__label-arrow\">GridSearchCV</label><div class=\"sk-toggleable__content\"><pre>GridSearchCV(cv=3, estimator=KNeighborsClassifier(), n_jobs=-1,\n",
       "             param_grid={&#x27;algorithm&#x27;: [&#x27;auto&#x27;, &#x27;ball_tree&#x27;, &#x27;kd_tree&#x27;, &#x27;brute&#x27;],\n",
       "                         &#x27;metric&#x27;: [&#x27;euclidean&#x27;, &#x27;manhattan&#x27;, &#x27;chebyshev&#x27;,\n",
       "                                    &#x27;minkowski&#x27;],\n",
       "                         &#x27;n_neighbors&#x27;: [3, 5, 7, 9, 10],\n",
       "                         &#x27;weights&#x27;: [&#x27;uniform&#x27;, &#x27;distance&#x27;]},\n",
       "             verbose=3)</pre></div></div></div><div class=\"sk-parallel\"><div class=\"sk-parallel-item\"><div class=\"sk-item\"><div class=\"sk-label-container\"><div class=\"sk-label sk-toggleable\"><input class=\"sk-toggleable__control sk-hidden--visually\" id=\"sk-estimator-id-6\" type=\"checkbox\" ><label for=\"sk-estimator-id-6\" class=\"sk-toggleable__label sk-toggleable__label-arrow\">estimator: KNeighborsClassifier</label><div class=\"sk-toggleable__content\"><pre>KNeighborsClassifier()</pre></div></div></div><div class=\"sk-serial\"><div class=\"sk-item\"><div class=\"sk-estimator sk-toggleable\"><input class=\"sk-toggleable__control sk-hidden--visually\" id=\"sk-estimator-id-7\" type=\"checkbox\" ><label for=\"sk-estimator-id-7\" class=\"sk-toggleable__label sk-toggleable__label-arrow\">KNeighborsClassifier</label><div class=\"sk-toggleable__content\"><pre>KNeighborsClassifier()</pre></div></div></div></div></div></div></div></div></div></div>"
      ],
      "text/plain": [
       "GridSearchCV(cv=3, estimator=KNeighborsClassifier(), n_jobs=-1,\n",
       "             param_grid={'algorithm': ['auto', 'ball_tree', 'kd_tree', 'brute'],\n",
       "                         'metric': ['euclidean', 'manhattan', 'chebyshev',\n",
       "                                    'minkowski'],\n",
       "                         'n_neighbors': [3, 5, 7, 9, 10],\n",
       "                         'weights': ['uniform', 'distance']},\n",
       "             verbose=3)"
      ]
     },
     "execution_count": 14,
     "metadata": {},
     "output_type": "execute_result"
    }
   ],
   "source": [
    "grid2.fit(X,y)"
   ]
  },
  {
   "cell_type": "code",
   "execution_count": 15,
   "metadata": {},
   "outputs": [
    {
     "data": {
      "text/html": [
       "<div>\n",
       "<style scoped>\n",
       "    .dataframe tbody tr th:only-of-type {\n",
       "        vertical-align: middle;\n",
       "    }\n",
       "\n",
       "    .dataframe tbody tr th {\n",
       "        vertical-align: top;\n",
       "    }\n",
       "\n",
       "    .dataframe thead th {\n",
       "        text-align: right;\n",
       "    }\n",
       "</style>\n",
       "<table border=\"1\" class=\"dataframe\">\n",
       "  <thead>\n",
       "    <tr style=\"text-align: right;\">\n",
       "      <th></th>\n",
       "      <th>index</th>\n",
       "      <th>mean_fit_time</th>\n",
       "      <th>std_fit_time</th>\n",
       "      <th>mean_score_time</th>\n",
       "      <th>std_score_time</th>\n",
       "      <th>param_algorithm</th>\n",
       "      <th>param_metric</th>\n",
       "      <th>param_n_neighbors</th>\n",
       "      <th>param_weights</th>\n",
       "      <th>params</th>\n",
       "      <th>split0_test_score</th>\n",
       "      <th>split1_test_score</th>\n",
       "      <th>split2_test_score</th>\n",
       "      <th>mean_test_score</th>\n",
       "      <th>std_test_score</th>\n",
       "      <th>rank_test_score</th>\n",
       "    </tr>\n",
       "  </thead>\n",
       "  <tbody>\n",
       "    <tr>\n",
       "      <th>0</th>\n",
       "      <td>138</td>\n",
       "      <td>0.005338</td>\n",
       "      <td>0.003775</td>\n",
       "      <td>0.061622</td>\n",
       "      <td>0.007313</td>\n",
       "      <td>brute</td>\n",
       "      <td>manhattan</td>\n",
       "      <td>10</td>\n",
       "      <td>uniform</td>\n",
       "      <td>{'algorithm': 'brute', 'metric': 'manhattan', ...</td>\n",
       "      <td>0.841584</td>\n",
       "      <td>0.861386</td>\n",
       "      <td>0.782178</td>\n",
       "      <td>0.828383</td>\n",
       "      <td>0.033657</td>\n",
       "      <td>1</td>\n",
       "    </tr>\n",
       "    <tr>\n",
       "      <th>1</th>\n",
       "      <td>18</td>\n",
       "      <td>0.010845</td>\n",
       "      <td>0.003217</td>\n",
       "      <td>0.078432</td>\n",
       "      <td>0.039049</td>\n",
       "      <td>auto</td>\n",
       "      <td>manhattan</td>\n",
       "      <td>10</td>\n",
       "      <td>uniform</td>\n",
       "      <td>{'algorithm': 'auto', 'metric': 'manhattan', '...</td>\n",
       "      <td>0.841584</td>\n",
       "      <td>0.861386</td>\n",
       "      <td>0.782178</td>\n",
       "      <td>0.828383</td>\n",
       "      <td>0.033657</td>\n",
       "      <td>1</td>\n",
       "    </tr>\n",
       "    <tr>\n",
       "      <th>2</th>\n",
       "      <td>98</td>\n",
       "      <td>0.006847</td>\n",
       "      <td>0.001662</td>\n",
       "      <td>0.046355</td>\n",
       "      <td>0.009433</td>\n",
       "      <td>kd_tree</td>\n",
       "      <td>manhattan</td>\n",
       "      <td>10</td>\n",
       "      <td>uniform</td>\n",
       "      <td>{'algorithm': 'kd_tree', 'metric': 'manhattan'...</td>\n",
       "      <td>0.841584</td>\n",
       "      <td>0.861386</td>\n",
       "      <td>0.782178</td>\n",
       "      <td>0.828383</td>\n",
       "      <td>0.033657</td>\n",
       "      <td>1</td>\n",
       "    </tr>\n",
       "    <tr>\n",
       "      <th>3</th>\n",
       "      <td>58</td>\n",
       "      <td>0.006261</td>\n",
       "      <td>0.004438</td>\n",
       "      <td>0.113427</td>\n",
       "      <td>0.006880</td>\n",
       "      <td>ball_tree</td>\n",
       "      <td>manhattan</td>\n",
       "      <td>10</td>\n",
       "      <td>uniform</td>\n",
       "      <td>{'algorithm': 'ball_tree', 'metric': 'manhatta...</td>\n",
       "      <td>0.841584</td>\n",
       "      <td>0.861386</td>\n",
       "      <td>0.782178</td>\n",
       "      <td>0.828383</td>\n",
       "      <td>0.033657</td>\n",
       "      <td>1</td>\n",
       "    </tr>\n",
       "    <tr>\n",
       "      <th>4</th>\n",
       "      <td>114</td>\n",
       "      <td>0.008377</td>\n",
       "      <td>0.000538</td>\n",
       "      <td>0.069385</td>\n",
       "      <td>0.027500</td>\n",
       "      <td>kd_tree</td>\n",
       "      <td>minkowski</td>\n",
       "      <td>7</td>\n",
       "      <td>uniform</td>\n",
       "      <td>{'algorithm': 'kd_tree', 'metric': 'minkowski'...</td>\n",
       "      <td>0.851485</td>\n",
       "      <td>0.831683</td>\n",
       "      <td>0.762376</td>\n",
       "      <td>0.815182</td>\n",
       "      <td>0.038204</td>\n",
       "      <td>5</td>\n",
       "    </tr>\n",
       "    <tr>\n",
       "      <th>...</th>\n",
       "      <td>...</td>\n",
       "      <td>...</td>\n",
       "      <td>...</td>\n",
       "      <td>...</td>\n",
       "      <td>...</td>\n",
       "      <td>...</td>\n",
       "      <td>...</td>\n",
       "      <td>...</td>\n",
       "      <td>...</td>\n",
       "      <td>...</td>\n",
       "      <td>...</td>\n",
       "      <td>...</td>\n",
       "      <td>...</td>\n",
       "      <td>...</td>\n",
       "      <td>...</td>\n",
       "      <td>...</td>\n",
       "    </tr>\n",
       "    <tr>\n",
       "      <th>155</th>\n",
       "      <td>20</td>\n",
       "      <td>0.032295</td>\n",
       "      <td>0.039230</td>\n",
       "      <td>0.121705</td>\n",
       "      <td>0.011293</td>\n",
       "      <td>auto</td>\n",
       "      <td>chebyshev</td>\n",
       "      <td>3</td>\n",
       "      <td>uniform</td>\n",
       "      <td>{'algorithm': 'auto', 'metric': 'chebyshev', '...</td>\n",
       "      <td>0.722772</td>\n",
       "      <td>0.752475</td>\n",
       "      <td>0.673267</td>\n",
       "      <td>0.716172</td>\n",
       "      <td>0.032672</td>\n",
       "      <td>155</td>\n",
       "    </tr>\n",
       "    <tr>\n",
       "      <th>156</th>\n",
       "      <td>100</td>\n",
       "      <td>0.005331</td>\n",
       "      <td>0.003770</td>\n",
       "      <td>0.051164</td>\n",
       "      <td>0.003462</td>\n",
       "      <td>kd_tree</td>\n",
       "      <td>chebyshev</td>\n",
       "      <td>3</td>\n",
       "      <td>uniform</td>\n",
       "      <td>{'algorithm': 'kd_tree', 'metric': 'chebyshev'...</td>\n",
       "      <td>0.722772</td>\n",
       "      <td>0.752475</td>\n",
       "      <td>0.673267</td>\n",
       "      <td>0.716172</td>\n",
       "      <td>0.032672</td>\n",
       "      <td>155</td>\n",
       "    </tr>\n",
       "    <tr>\n",
       "      <th>157</th>\n",
       "      <td>140</td>\n",
       "      <td>0.000000</td>\n",
       "      <td>0.000000</td>\n",
       "      <td>0.061627</td>\n",
       "      <td>0.003316</td>\n",
       "      <td>brute</td>\n",
       "      <td>chebyshev</td>\n",
       "      <td>3</td>\n",
       "      <td>uniform</td>\n",
       "      <td>{'algorithm': 'brute', 'metric': 'chebyshev', ...</td>\n",
       "      <td>0.732673</td>\n",
       "      <td>0.732673</td>\n",
       "      <td>0.673267</td>\n",
       "      <td>0.712871</td>\n",
       "      <td>0.028004</td>\n",
       "      <td>158</td>\n",
       "    </tr>\n",
       "    <tr>\n",
       "      <th>158</th>\n",
       "      <td>61</td>\n",
       "      <td>0.010840</td>\n",
       "      <td>0.004215</td>\n",
       "      <td>0.024673</td>\n",
       "      <td>0.009772</td>\n",
       "      <td>ball_tree</td>\n",
       "      <td>chebyshev</td>\n",
       "      <td>3</td>\n",
       "      <td>distance</td>\n",
       "      <td>{'algorithm': 'ball_tree', 'metric': 'chebyshe...</td>\n",
       "      <td>0.722772</td>\n",
       "      <td>0.742574</td>\n",
       "      <td>0.673267</td>\n",
       "      <td>0.712871</td>\n",
       "      <td>0.029148</td>\n",
       "      <td>158</td>\n",
       "    </tr>\n",
       "    <tr>\n",
       "      <th>159</th>\n",
       "      <td>60</td>\n",
       "      <td>0.005713</td>\n",
       "      <td>0.004066</td>\n",
       "      <td>0.112203</td>\n",
       "      <td>0.043591</td>\n",
       "      <td>ball_tree</td>\n",
       "      <td>chebyshev</td>\n",
       "      <td>3</td>\n",
       "      <td>uniform</td>\n",
       "      <td>{'algorithm': 'ball_tree', 'metric': 'chebyshe...</td>\n",
       "      <td>0.722772</td>\n",
       "      <td>0.732673</td>\n",
       "      <td>0.663366</td>\n",
       "      <td>0.706271</td>\n",
       "      <td>0.030606</td>\n",
       "      <td>160</td>\n",
       "    </tr>\n",
       "  </tbody>\n",
       "</table>\n",
       "<p>160 rows × 16 columns</p>\n",
       "</div>"
      ],
      "text/plain": [
       "     index  mean_fit_time  std_fit_time  mean_score_time  std_score_time  \\\n",
       "0      138       0.005338      0.003775         0.061622        0.007313   \n",
       "1       18       0.010845      0.003217         0.078432        0.039049   \n",
       "2       98       0.006847      0.001662         0.046355        0.009433   \n",
       "3       58       0.006261      0.004438         0.113427        0.006880   \n",
       "4      114       0.008377      0.000538         0.069385        0.027500   \n",
       "..     ...            ...           ...              ...             ...   \n",
       "155     20       0.032295      0.039230         0.121705        0.011293   \n",
       "156    100       0.005331      0.003770         0.051164        0.003462   \n",
       "157    140       0.000000      0.000000         0.061627        0.003316   \n",
       "158     61       0.010840      0.004215         0.024673        0.009772   \n",
       "159     60       0.005713      0.004066         0.112203        0.043591   \n",
       "\n",
       "    param_algorithm param_metric param_n_neighbors param_weights  \\\n",
       "0             brute    manhattan                10       uniform   \n",
       "1              auto    manhattan                10       uniform   \n",
       "2           kd_tree    manhattan                10       uniform   \n",
       "3         ball_tree    manhattan                10       uniform   \n",
       "4           kd_tree    minkowski                 7       uniform   \n",
       "..              ...          ...               ...           ...   \n",
       "155            auto    chebyshev                 3       uniform   \n",
       "156         kd_tree    chebyshev                 3       uniform   \n",
       "157           brute    chebyshev                 3       uniform   \n",
       "158       ball_tree    chebyshev                 3      distance   \n",
       "159       ball_tree    chebyshev                 3       uniform   \n",
       "\n",
       "                                                params  split0_test_score  \\\n",
       "0    {'algorithm': 'brute', 'metric': 'manhattan', ...           0.841584   \n",
       "1    {'algorithm': 'auto', 'metric': 'manhattan', '...           0.841584   \n",
       "2    {'algorithm': 'kd_tree', 'metric': 'manhattan'...           0.841584   \n",
       "3    {'algorithm': 'ball_tree', 'metric': 'manhatta...           0.841584   \n",
       "4    {'algorithm': 'kd_tree', 'metric': 'minkowski'...           0.851485   \n",
       "..                                                 ...                ...   \n",
       "155  {'algorithm': 'auto', 'metric': 'chebyshev', '...           0.722772   \n",
       "156  {'algorithm': 'kd_tree', 'metric': 'chebyshev'...           0.722772   \n",
       "157  {'algorithm': 'brute', 'metric': 'chebyshev', ...           0.732673   \n",
       "158  {'algorithm': 'ball_tree', 'metric': 'chebyshe...           0.722772   \n",
       "159  {'algorithm': 'ball_tree', 'metric': 'chebyshe...           0.722772   \n",
       "\n",
       "     split1_test_score  split2_test_score  mean_test_score  std_test_score  \\\n",
       "0             0.861386           0.782178         0.828383        0.033657   \n",
       "1             0.861386           0.782178         0.828383        0.033657   \n",
       "2             0.861386           0.782178         0.828383        0.033657   \n",
       "3             0.861386           0.782178         0.828383        0.033657   \n",
       "4             0.831683           0.762376         0.815182        0.038204   \n",
       "..                 ...                ...              ...             ...   \n",
       "155           0.752475           0.673267         0.716172        0.032672   \n",
       "156           0.752475           0.673267         0.716172        0.032672   \n",
       "157           0.732673           0.673267         0.712871        0.028004   \n",
       "158           0.742574           0.673267         0.712871        0.029148   \n",
       "159           0.732673           0.663366         0.706271        0.030606   \n",
       "\n",
       "     rank_test_score  \n",
       "0                  1  \n",
       "1                  1  \n",
       "2                  1  \n",
       "3                  1  \n",
       "4                  5  \n",
       "..               ...  \n",
       "155              155  \n",
       "156              155  \n",
       "157              158  \n",
       "158              158  \n",
       "159              160  \n",
       "\n",
       "[160 rows x 16 columns]"
      ]
     },
     "execution_count": 15,
     "metadata": {},
     "output_type": "execute_result"
    }
   ],
   "source": [
    "grid_knn_results = pd.DataFrame(grid2.cv_results_)\n",
    "grid_knn_results.sort_values(by='rank_test_score', inplace=True)\n",
    "grid_knn_results.reset_index(inplace=True)\n",
    "grid_knn_results"
   ]
  },
  {
   "cell_type": "code",
   "execution_count": 16,
   "metadata": {},
   "outputs": [
    {
     "name": "stdout",
     "output_type": "stream",
     "text": [
      "['index', 'mean_fit_time', 'std_fit_time', 'mean_score_time', 'std_score_time', 'param_algorithm', 'param_metric', 'param_n_neighbors', 'param_weights', 'params', 'split0_test_score', 'split1_test_score', 'split2_test_score', 'mean_test_score', 'std_test_score', 'rank_test_score']\n"
     ]
    }
   ],
   "source": [
    "print(grid_knn_results.columns.tolist())"
   ]
  },
  {
   "cell_type": "code",
   "execution_count": 17,
   "metadata": {},
   "outputs": [
    {
     "data": {
      "application/vnd.plotly.v1+json": {
       "config": {
        "plotlyServerURL": "https://plot.ly"
       },
       "data": [
        {
         "customdata": [
          [
           10,
           "uniform",
           "brute",
           "manhattan"
          ],
          [
           10,
           "uniform",
           "auto",
           "manhattan"
          ],
          [
           10,
           "uniform",
           "kd_tree",
           "manhattan"
          ],
          [
           10,
           "uniform",
           "ball_tree",
           "manhattan"
          ],
          [
           7,
           "uniform",
           "kd_tree",
           "minkowski"
          ],
          [
           7,
           "distance",
           "brute",
           "euclidean"
          ],
          [
           7,
           "uniform",
           "brute",
           "euclidean"
          ],
          [
           7,
           "uniform",
           "brute",
           "minkowski"
          ],
          [
           7,
           "uniform",
           "auto",
           "minkowski"
          ],
          [
           7,
           "distance",
           "auto",
           "minkowski"
          ],
          [
           7,
           "distance",
           "kd_tree",
           "minkowski"
          ],
          [
           7,
           "uniform",
           "ball_tree",
           "minkowski"
          ],
          [
           7,
           "distance",
           "ball_tree",
           "minkowski"
          ],
          [
           7,
           "distance",
           "kd_tree",
           "euclidean"
          ],
          [
           7,
           "distance",
           "auto",
           "euclidean"
          ],
          [
           7,
           "uniform",
           "auto",
           "euclidean"
          ],
          [
           7,
           "uniform",
           "kd_tree",
           "euclidean"
          ],
          [
           7,
           "uniform",
           "ball_tree",
           "euclidean"
          ],
          [
           7,
           "distance",
           "ball_tree",
           "euclidean"
          ],
          [
           7,
           "distance",
           "brute",
           "minkowski"
          ],
          [
           10,
           "distance",
           "ball_tree",
           "manhattan"
          ],
          [
           10,
           "distance",
           "kd_tree",
           "manhattan"
          ],
          [
           10,
           "distance",
           "auto",
           "manhattan"
          ],
          [
           10,
           "distance",
           "brute",
           "manhattan"
          ],
          [
           5,
           "uniform",
           "auto",
           "minkowski"
          ],
          [
           5,
           "uniform",
           "ball_tree",
           "euclidean"
          ],
          [
           5,
           "uniform",
           "kd_tree",
           "euclidean"
          ],
          [
           5,
           "uniform",
           "brute",
           "minkowski"
          ],
          [
           5,
           "uniform",
           "kd_tree",
           "minkowski"
          ],
          [
           5,
           "uniform",
           "brute",
           "euclidean"
          ],
          [
           5,
           "uniform",
           "auto",
           "euclidean"
          ],
          [
           5,
           "uniform",
           "ball_tree",
           "minkowski"
          ],
          [
           9,
           "distance",
           "brute",
           "manhattan"
          ],
          [
           7,
           "distance",
           "ball_tree",
           "manhattan"
          ],
          [
           9,
           "distance",
           "ball_tree",
           "manhattan"
          ],
          [
           7,
           "distance",
           "kd_tree",
           "manhattan"
          ],
          [
           9,
           "distance",
           "kd_tree",
           "manhattan"
          ],
          [
           7,
           "distance",
           "auto",
           "manhattan"
          ],
          [
           9,
           "distance",
           "auto",
           "manhattan"
          ],
          [
           7,
           "distance",
           "brute",
           "manhattan"
          ],
          [
           9,
           "uniform",
           "kd_tree",
           "minkowski"
          ],
          [
           9,
           "uniform",
           "brute",
           "minkowski"
          ],
          [
           9,
           "uniform",
           "ball_tree",
           "minkowski"
          ],
          [
           9,
           "uniform",
           "kd_tree",
           "euclidean"
          ],
          [
           9,
           "uniform",
           "auto",
           "euclidean"
          ],
          [
           9,
           "uniform",
           "brute",
           "euclidean"
          ],
          [
           9,
           "uniform",
           "ball_tree",
           "euclidean"
          ],
          [
           9,
           "uniform",
           "auto",
           "minkowski"
          ],
          [
           7,
           "uniform",
           "ball_tree",
           "manhattan"
          ],
          [
           9,
           "uniform",
           "ball_tree",
           "manhattan"
          ],
          [
           5,
           "uniform",
           "kd_tree",
           "manhattan"
          ],
          [
           5,
           "uniform",
           "ball_tree",
           "manhattan"
          ],
          [
           5,
           "uniform",
           "brute",
           "manhattan"
          ],
          [
           5,
           "uniform",
           "auto",
           "manhattan"
          ],
          [
           7,
           "uniform",
           "auto",
           "manhattan"
          ],
          [
           9,
           "uniform",
           "brute",
           "manhattan"
          ],
          [
           7,
           "uniform",
           "brute",
           "manhattan"
          ],
          [
           9,
           "uniform",
           "auto",
           "manhattan"
          ],
          [
           9,
           "uniform",
           "kd_tree",
           "manhattan"
          ],
          [
           7,
           "uniform",
           "kd_tree",
           "manhattan"
          ],
          [
           5,
           "distance",
           "auto",
           "euclidean"
          ],
          [
           9,
           "distance",
           "auto",
           "euclidean"
          ],
          [
           9,
           "distance",
           "ball_tree",
           "minkowski"
          ],
          [
           5,
           "distance",
           "kd_tree",
           "minkowski"
          ],
          [
           9,
           "distance",
           "brute",
           "minkowski"
          ],
          [
           5,
           "distance",
           "ball_tree",
           "minkowski"
          ],
          [
           9,
           "distance",
           "kd_tree",
           "euclidean"
          ],
          [
           5,
           "distance",
           "ball_tree",
           "euclidean"
          ],
          [
           5,
           "distance",
           "kd_tree",
           "euclidean"
          ],
          [
           9,
           "distance",
           "kd_tree",
           "minkowski"
          ],
          [
           5,
           "distance",
           "brute",
           "euclidean"
          ],
          [
           5,
           "distance",
           "brute",
           "minkowski"
          ],
          [
           5,
           "distance",
           "auto",
           "minkowski"
          ],
          [
           9,
           "distance",
           "brute",
           "euclidean"
          ],
          [
           9,
           "distance",
           "auto",
           "minkowski"
          ],
          [
           9,
           "distance",
           "ball_tree",
           "euclidean"
          ],
          [
           5,
           "distance",
           "kd_tree",
           "manhattan"
          ],
          [
           5,
           "distance",
           "brute",
           "manhattan"
          ],
          [
           5,
           "distance",
           "auto",
           "manhattan"
          ],
          [
           5,
           "distance",
           "ball_tree",
           "manhattan"
          ],
          [
           10,
           "uniform",
           "kd_tree",
           "minkowski"
          ],
          [
           10,
           "uniform",
           "kd_tree",
           "euclidean"
          ],
          [
           3,
           "uniform",
           "auto",
           "euclidean"
          ],
          [
           3,
           "uniform",
           "kd_tree",
           "euclidean"
          ],
          [
           3,
           "distance",
           "auto",
           "euclidean"
          ],
          [
           10,
           "uniform",
           "auto",
           "euclidean"
          ],
          [
           3,
           "distance",
           "brute",
           "minkowski"
          ],
          [
           3,
           "uniform",
           "brute",
           "minkowski"
          ],
          [
           3,
           "uniform",
           "auto",
           "minkowski"
          ],
          [
           3,
           "distance",
           "auto",
           "minkowski"
          ],
          [
           10,
           "uniform",
           "auto",
           "minkowski"
          ],
          [
           3,
           "uniform",
           "ball_tree",
           "euclidean"
          ],
          [
           3,
           "distance",
           "ball_tree",
           "euclidean"
          ],
          [
           3,
           "distance",
           "kd_tree",
           "euclidean"
          ],
          [
           10,
           "uniform",
           "ball_tree",
           "euclidean"
          ],
          [
           3,
           "distance",
           "kd_tree",
           "minkowski"
          ],
          [
           10,
           "uniform",
           "brute",
           "euclidean"
          ],
          [
           3,
           "distance",
           "brute",
           "euclidean"
          ],
          [
           3,
           "uniform",
           "brute",
           "euclidean"
          ],
          [
           3,
           "uniform",
           "ball_tree",
           "minkowski"
          ],
          [
           3,
           "distance",
           "ball_tree",
           "minkowski"
          ],
          [
           10,
           "uniform",
           "ball_tree",
           "minkowski"
          ],
          [
           10,
           "uniform",
           "brute",
           "minkowski"
          ],
          [
           3,
           "uniform",
           "kd_tree",
           "minkowski"
          ],
          [
           10,
           "distance",
           "kd_tree",
           "minkowski"
          ],
          [
           10,
           "distance",
           "brute",
           "euclidean"
          ],
          [
           10,
           "distance",
           "ball_tree",
           "minkowski"
          ],
          [
           10,
           "distance",
           "ball_tree",
           "euclidean"
          ],
          [
           10,
           "distance",
           "auto",
           "euclidean"
          ],
          [
           10,
           "distance",
           "auto",
           "minkowski"
          ],
          [
           10,
           "distance",
           "kd_tree",
           "euclidean"
          ],
          [
           10,
           "distance",
           "brute",
           "minkowski"
          ],
          [
           3,
           "uniform",
           "auto",
           "manhattan"
          ],
          [
           3,
           "uniform",
           "kd_tree",
           "manhattan"
          ],
          [
           3,
           "uniform",
           "ball_tree",
           "manhattan"
          ],
          [
           3,
           "uniform",
           "brute",
           "manhattan"
          ],
          [
           3,
           "distance",
           "ball_tree",
           "manhattan"
          ],
          [
           3,
           "distance",
           "brute",
           "manhattan"
          ],
          [
           3,
           "distance",
           "auto",
           "manhattan"
          ],
          [
           3,
           "distance",
           "kd_tree",
           "manhattan"
          ],
          [
           10,
           "distance",
           "kd_tree",
           "chebyshev"
          ],
          [
           7,
           "uniform",
           "brute",
           "chebyshev"
          ],
          [
           10,
           "distance",
           "auto",
           "chebyshev"
          ],
          [
           10,
           "uniform",
           "ball_tree",
           "chebyshev"
          ],
          [
           10,
           "uniform",
           "brute",
           "chebyshev"
          ],
          [
           10,
           "uniform",
           "auto",
           "chebyshev"
          ],
          [
           10,
           "distance",
           "brute",
           "chebyshev"
          ],
          [
           5,
           "distance",
           "auto",
           "chebyshev"
          ],
          [
           10,
           "uniform",
           "kd_tree",
           "chebyshev"
          ],
          [
           7,
           "distance",
           "brute",
           "chebyshev"
          ],
          [
           5,
           "distance",
           "kd_tree",
           "chebyshev"
          ],
          [
           10,
           "distance",
           "ball_tree",
           "chebyshev"
          ],
          [
           9,
           "distance",
           "kd_tree",
           "chebyshev"
          ],
          [
           5,
           "uniform",
           "kd_tree",
           "chebyshev"
          ],
          [
           9,
           "uniform",
           "kd_tree",
           "chebyshev"
          ],
          [
           5,
           "uniform",
           "auto",
           "chebyshev"
          ],
          [
           9,
           "distance",
           "auto",
           "chebyshev"
          ],
          [
           9,
           "uniform",
           "auto",
           "chebyshev"
          ],
          [
           3,
           "distance",
           "kd_tree",
           "chebyshev"
          ],
          [
           3,
           "distance",
           "auto",
           "chebyshev"
          ],
          [
           7,
           "distance",
           "kd_tree",
           "chebyshev"
          ],
          [
           7,
           "uniform",
           "auto",
           "chebyshev"
          ],
          [
           9,
           "distance",
           "ball_tree",
           "chebyshev"
          ],
          [
           9,
           "distance",
           "brute",
           "chebyshev"
          ],
          [
           9,
           "uniform",
           "brute",
           "chebyshev"
          ],
          [
           9,
           "uniform",
           "ball_tree",
           "chebyshev"
          ],
          [
           5,
           "distance",
           "brute",
           "chebyshev"
          ],
          [
           7,
           "distance",
           "auto",
           "chebyshev"
          ],
          [
           7,
           "uniform",
           "kd_tree",
           "chebyshev"
          ],
          [
           5,
           "distance",
           "ball_tree",
           "chebyshev"
          ],
          [
           7,
           "distance",
           "ball_tree",
           "chebyshev"
          ],
          [
           3,
           "distance",
           "brute",
           "chebyshev"
          ],
          [
           7,
           "uniform",
           "ball_tree",
           "chebyshev"
          ],
          [
           5,
           "uniform",
           "ball_tree",
           "chebyshev"
          ],
          [
           5,
           "uniform",
           "brute",
           "chebyshev"
          ],
          [
           3,
           "uniform",
           "auto",
           "chebyshev"
          ],
          [
           3,
           "uniform",
           "kd_tree",
           "chebyshev"
          ],
          [
           3,
           "uniform",
           "brute",
           "chebyshev"
          ],
          [
           3,
           "distance",
           "ball_tree",
           "chebyshev"
          ],
          [
           3,
           "uniform",
           "ball_tree",
           "chebyshev"
          ]
         ],
         "hovertemplate": "_index=%{x}<br>mean_test_score=%{y}<br>param_n_neighbors=%{customdata[0]}<br>param_weights=%{customdata[1]}<br>param_algorithm=%{customdata[2]}<br>param_metric=%{customdata[3]}<extra></extra>",
         "legendgroup": "",
         "line": {
          "color": "#636efa",
          "dash": "solid"
         },
         "marker": {
          "symbol": "circle"
         },
         "mode": "lines",
         "name": "",
         "orientation": "v",
         "showlegend": false,
         "type": "scatter",
         "x": [
          0,
          1,
          2,
          3,
          4,
          5,
          6,
          7,
          8,
          9,
          10,
          11,
          12,
          13,
          14,
          15,
          16,
          17,
          18,
          19,
          20,
          21,
          22,
          23,
          24,
          25,
          26,
          27,
          28,
          29,
          30,
          31,
          32,
          33,
          34,
          35,
          36,
          37,
          38,
          39,
          40,
          41,
          42,
          43,
          44,
          45,
          46,
          47,
          48,
          49,
          50,
          51,
          52,
          53,
          54,
          55,
          56,
          57,
          58,
          59,
          60,
          61,
          62,
          63,
          64,
          65,
          66,
          67,
          68,
          69,
          70,
          71,
          72,
          73,
          74,
          75,
          76,
          77,
          78,
          79,
          80,
          81,
          82,
          83,
          84,
          85,
          86,
          87,
          88,
          89,
          90,
          91,
          92,
          93,
          94,
          95,
          96,
          97,
          98,
          99,
          100,
          101,
          102,
          103,
          104,
          105,
          106,
          107,
          108,
          109,
          110,
          111,
          112,
          113,
          114,
          115,
          116,
          117,
          118,
          119,
          120,
          121,
          122,
          123,
          124,
          125,
          126,
          127,
          128,
          129,
          130,
          131,
          132,
          133,
          134,
          135,
          136,
          137,
          138,
          139,
          140,
          141,
          142,
          143,
          144,
          145,
          146,
          147,
          148,
          149,
          150,
          151,
          152,
          153,
          154,
          155,
          156,
          157,
          158,
          159
         ],
         "xaxis": "x",
         "y": [
          0.8283828382838284,
          0.8283828382838284,
          0.8283828382838284,
          0.8283828382838284,
          0.8151815181518152,
          0.8151815181518152,
          0.8151815181518152,
          0.8151815181518152,
          0.8151815181518152,
          0.8151815181518152,
          0.8151815181518152,
          0.8151815181518152,
          0.8151815181518152,
          0.8151815181518152,
          0.8151815181518152,
          0.8151815181518152,
          0.8151815181518152,
          0.8151815181518152,
          0.8151815181518152,
          0.8151815181518152,
          0.811881188118812,
          0.811881188118812,
          0.811881188118812,
          0.811881188118812,
          0.8118811881188118,
          0.8118811881188118,
          0.8118811881188118,
          0.8118811881188118,
          0.8118811881188118,
          0.8118811881188118,
          0.8118811881188118,
          0.8118811881188118,
          0.8085808580858087,
          0.8085808580858087,
          0.8085808580858087,
          0.8085808580858087,
          0.8085808580858087,
          0.8085808580858087,
          0.8085808580858087,
          0.8085808580858087,
          0.8085808580858086,
          0.8085808580858086,
          0.8085808580858086,
          0.8085808580858086,
          0.8085808580858086,
          0.8085808580858086,
          0.8085808580858086,
          0.8085808580858086,
          0.8052805280528054,
          0.8052805280528054,
          0.8052805280528054,
          0.8052805280528054,
          0.8052805280528054,
          0.8052805280528054,
          0.8052805280528054,
          0.8052805280528054,
          0.8052805280528054,
          0.8052805280528054,
          0.8052805280528054,
          0.8052805280528054,
          0.8052805280528053,
          0.8052805280528053,
          0.8052805280528053,
          0.8052805280528053,
          0.8052805280528053,
          0.8052805280528053,
          0.8052805280528053,
          0.8052805280528053,
          0.8052805280528053,
          0.8052805280528053,
          0.8052805280528053,
          0.8052805280528053,
          0.8052805280528053,
          0.8052805280528053,
          0.8052805280528053,
          0.8052805280528053,
          0.8019801980198021,
          0.8019801980198021,
          0.8019801980198021,
          0.8019801980198021,
          0.7986798679867988,
          0.7986798679867988,
          0.7986798679867988,
          0.7986798679867988,
          0.7986798679867988,
          0.7986798679867988,
          0.7986798679867988,
          0.7986798679867988,
          0.7986798679867988,
          0.7986798679867988,
          0.7986798679867988,
          0.7986798679867988,
          0.7986798679867988,
          0.7986798679867988,
          0.7986798679867988,
          0.7986798679867988,
          0.7986798679867988,
          0.7986798679867988,
          0.7986798679867988,
          0.7986798679867988,
          0.7986798679867988,
          0.7986798679867988,
          0.7986798679867988,
          0.7986798679867988,
          0.7986798679867987,
          0.7986798679867987,
          0.7986798679867987,
          0.7986798679867987,
          0.7986798679867987,
          0.7986798679867987,
          0.7986798679867987,
          0.7986798679867987,
          0.7887788778877889,
          0.7887788778877889,
          0.7887788778877889,
          0.7887788778877889,
          0.7854785478547855,
          0.7854785478547855,
          0.7854785478547855,
          0.7854785478547855,
          0.7326732673267328,
          0.7326732673267328,
          0.7326732673267328,
          0.7326732673267328,
          0.7293729372937294,
          0.7293729372937294,
          0.7293729372937294,
          0.7293729372937294,
          0.7293729372937294,
          0.7293729372937294,
          0.7293729372937294,
          0.7293729372937294,
          0.7260726072607261,
          0.7260726072607261,
          0.7260726072607261,
          0.7260726072607261,
          0.7260726072607261,
          0.7260726072607261,
          0.7227722772277229,
          0.7227722772277229,
          0.7227722772277229,
          0.7227722772277229,
          0.7227722772277229,
          0.7227722772277229,
          0.7227722772277229,
          0.7227722772277229,
          0.7227722772277229,
          0.7227722772277229,
          0.7227722772277229,
          0.7227722772277229,
          0.7194719471947195,
          0.7194719471947195,
          0.7194719471947195,
          0.7194719471947195,
          0.7161716171617162,
          0.7161716171617162,
          0.7161716171617162,
          0.712871287128713,
          0.712871287128713,
          0.7062706270627063
         ],
         "yaxis": "y"
        }
       ],
       "layout": {
        "legend": {
         "tracegroupgap": 0
        },
        "template": {
         "data": {
          "bar": [
           {
            "error_x": {
             "color": "#2a3f5f"
            },
            "error_y": {
             "color": "#2a3f5f"
            },
            "marker": {
             "line": {
              "color": "#E5ECF6",
              "width": 0.5
             },
             "pattern": {
              "fillmode": "overlay",
              "size": 10,
              "solidity": 0.2
             }
            },
            "type": "bar"
           }
          ],
          "barpolar": [
           {
            "marker": {
             "line": {
              "color": "#E5ECF6",
              "width": 0.5
             },
             "pattern": {
              "fillmode": "overlay",
              "size": 10,
              "solidity": 0.2
             }
            },
            "type": "barpolar"
           }
          ],
          "carpet": [
           {
            "aaxis": {
             "endlinecolor": "#2a3f5f",
             "gridcolor": "white",
             "linecolor": "white",
             "minorgridcolor": "white",
             "startlinecolor": "#2a3f5f"
            },
            "baxis": {
             "endlinecolor": "#2a3f5f",
             "gridcolor": "white",
             "linecolor": "white",
             "minorgridcolor": "white",
             "startlinecolor": "#2a3f5f"
            },
            "type": "carpet"
           }
          ],
          "choropleth": [
           {
            "colorbar": {
             "outlinewidth": 0,
             "ticks": ""
            },
            "type": "choropleth"
           }
          ],
          "contour": [
           {
            "colorbar": {
             "outlinewidth": 0,
             "ticks": ""
            },
            "colorscale": [
             [
              0,
              "#0d0887"
             ],
             [
              0.1111111111111111,
              "#46039f"
             ],
             [
              0.2222222222222222,
              "#7201a8"
             ],
             [
              0.3333333333333333,
              "#9c179e"
             ],
             [
              0.4444444444444444,
              "#bd3786"
             ],
             [
              0.5555555555555556,
              "#d8576b"
             ],
             [
              0.6666666666666666,
              "#ed7953"
             ],
             [
              0.7777777777777778,
              "#fb9f3a"
             ],
             [
              0.8888888888888888,
              "#fdca26"
             ],
             [
              1,
              "#f0f921"
             ]
            ],
            "type": "contour"
           }
          ],
          "contourcarpet": [
           {
            "colorbar": {
             "outlinewidth": 0,
             "ticks": ""
            },
            "type": "contourcarpet"
           }
          ],
          "heatmap": [
           {
            "colorbar": {
             "outlinewidth": 0,
             "ticks": ""
            },
            "colorscale": [
             [
              0,
              "#0d0887"
             ],
             [
              0.1111111111111111,
              "#46039f"
             ],
             [
              0.2222222222222222,
              "#7201a8"
             ],
             [
              0.3333333333333333,
              "#9c179e"
             ],
             [
              0.4444444444444444,
              "#bd3786"
             ],
             [
              0.5555555555555556,
              "#d8576b"
             ],
             [
              0.6666666666666666,
              "#ed7953"
             ],
             [
              0.7777777777777778,
              "#fb9f3a"
             ],
             [
              0.8888888888888888,
              "#fdca26"
             ],
             [
              1,
              "#f0f921"
             ]
            ],
            "type": "heatmap"
           }
          ],
          "heatmapgl": [
           {
            "colorbar": {
             "outlinewidth": 0,
             "ticks": ""
            },
            "colorscale": [
             [
              0,
              "#0d0887"
             ],
             [
              0.1111111111111111,
              "#46039f"
             ],
             [
              0.2222222222222222,
              "#7201a8"
             ],
             [
              0.3333333333333333,
              "#9c179e"
             ],
             [
              0.4444444444444444,
              "#bd3786"
             ],
             [
              0.5555555555555556,
              "#d8576b"
             ],
             [
              0.6666666666666666,
              "#ed7953"
             ],
             [
              0.7777777777777778,
              "#fb9f3a"
             ],
             [
              0.8888888888888888,
              "#fdca26"
             ],
             [
              1,
              "#f0f921"
             ]
            ],
            "type": "heatmapgl"
           }
          ],
          "histogram": [
           {
            "marker": {
             "pattern": {
              "fillmode": "overlay",
              "size": 10,
              "solidity": 0.2
             }
            },
            "type": "histogram"
           }
          ],
          "histogram2d": [
           {
            "colorbar": {
             "outlinewidth": 0,
             "ticks": ""
            },
            "colorscale": [
             [
              0,
              "#0d0887"
             ],
             [
              0.1111111111111111,
              "#46039f"
             ],
             [
              0.2222222222222222,
              "#7201a8"
             ],
             [
              0.3333333333333333,
              "#9c179e"
             ],
             [
              0.4444444444444444,
              "#bd3786"
             ],
             [
              0.5555555555555556,
              "#d8576b"
             ],
             [
              0.6666666666666666,
              "#ed7953"
             ],
             [
              0.7777777777777778,
              "#fb9f3a"
             ],
             [
              0.8888888888888888,
              "#fdca26"
             ],
             [
              1,
              "#f0f921"
             ]
            ],
            "type": "histogram2d"
           }
          ],
          "histogram2dcontour": [
           {
            "colorbar": {
             "outlinewidth": 0,
             "ticks": ""
            },
            "colorscale": [
             [
              0,
              "#0d0887"
             ],
             [
              0.1111111111111111,
              "#46039f"
             ],
             [
              0.2222222222222222,
              "#7201a8"
             ],
             [
              0.3333333333333333,
              "#9c179e"
             ],
             [
              0.4444444444444444,
              "#bd3786"
             ],
             [
              0.5555555555555556,
              "#d8576b"
             ],
             [
              0.6666666666666666,
              "#ed7953"
             ],
             [
              0.7777777777777778,
              "#fb9f3a"
             ],
             [
              0.8888888888888888,
              "#fdca26"
             ],
             [
              1,
              "#f0f921"
             ]
            ],
            "type": "histogram2dcontour"
           }
          ],
          "mesh3d": [
           {
            "colorbar": {
             "outlinewidth": 0,
             "ticks": ""
            },
            "type": "mesh3d"
           }
          ],
          "parcoords": [
           {
            "line": {
             "colorbar": {
              "outlinewidth": 0,
              "ticks": ""
             }
            },
            "type": "parcoords"
           }
          ],
          "pie": [
           {
            "automargin": true,
            "type": "pie"
           }
          ],
          "scatter": [
           {
            "fillpattern": {
             "fillmode": "overlay",
             "size": 10,
             "solidity": 0.2
            },
            "type": "scatter"
           }
          ],
          "scatter3d": [
           {
            "line": {
             "colorbar": {
              "outlinewidth": 0,
              "ticks": ""
             }
            },
            "marker": {
             "colorbar": {
              "outlinewidth": 0,
              "ticks": ""
             }
            },
            "type": "scatter3d"
           }
          ],
          "scattercarpet": [
           {
            "marker": {
             "colorbar": {
              "outlinewidth": 0,
              "ticks": ""
             }
            },
            "type": "scattercarpet"
           }
          ],
          "scattergeo": [
           {
            "marker": {
             "colorbar": {
              "outlinewidth": 0,
              "ticks": ""
             }
            },
            "type": "scattergeo"
           }
          ],
          "scattergl": [
           {
            "marker": {
             "colorbar": {
              "outlinewidth": 0,
              "ticks": ""
             }
            },
            "type": "scattergl"
           }
          ],
          "scattermapbox": [
           {
            "marker": {
             "colorbar": {
              "outlinewidth": 0,
              "ticks": ""
             }
            },
            "type": "scattermapbox"
           }
          ],
          "scatterpolar": [
           {
            "marker": {
             "colorbar": {
              "outlinewidth": 0,
              "ticks": ""
             }
            },
            "type": "scatterpolar"
           }
          ],
          "scatterpolargl": [
           {
            "marker": {
             "colorbar": {
              "outlinewidth": 0,
              "ticks": ""
             }
            },
            "type": "scatterpolargl"
           }
          ],
          "scatterternary": [
           {
            "marker": {
             "colorbar": {
              "outlinewidth": 0,
              "ticks": ""
             }
            },
            "type": "scatterternary"
           }
          ],
          "surface": [
           {
            "colorbar": {
             "outlinewidth": 0,
             "ticks": ""
            },
            "colorscale": [
             [
              0,
              "#0d0887"
             ],
             [
              0.1111111111111111,
              "#46039f"
             ],
             [
              0.2222222222222222,
              "#7201a8"
             ],
             [
              0.3333333333333333,
              "#9c179e"
             ],
             [
              0.4444444444444444,
              "#bd3786"
             ],
             [
              0.5555555555555556,
              "#d8576b"
             ],
             [
              0.6666666666666666,
              "#ed7953"
             ],
             [
              0.7777777777777778,
              "#fb9f3a"
             ],
             [
              0.8888888888888888,
              "#fdca26"
             ],
             [
              1,
              "#f0f921"
             ]
            ],
            "type": "surface"
           }
          ],
          "table": [
           {
            "cells": {
             "fill": {
              "color": "#EBF0F8"
             },
             "line": {
              "color": "white"
             }
            },
            "header": {
             "fill": {
              "color": "#C8D4E3"
             },
             "line": {
              "color": "white"
             }
            },
            "type": "table"
           }
          ]
         },
         "layout": {
          "annotationdefaults": {
           "arrowcolor": "#2a3f5f",
           "arrowhead": 0,
           "arrowwidth": 1
          },
          "autotypenumbers": "strict",
          "coloraxis": {
           "colorbar": {
            "outlinewidth": 0,
            "ticks": ""
           }
          },
          "colorscale": {
           "diverging": [
            [
             0,
             "#8e0152"
            ],
            [
             0.1,
             "#c51b7d"
            ],
            [
             0.2,
             "#de77ae"
            ],
            [
             0.3,
             "#f1b6da"
            ],
            [
             0.4,
             "#fde0ef"
            ],
            [
             0.5,
             "#f7f7f7"
            ],
            [
             0.6,
             "#e6f5d0"
            ],
            [
             0.7,
             "#b8e186"
            ],
            [
             0.8,
             "#7fbc41"
            ],
            [
             0.9,
             "#4d9221"
            ],
            [
             1,
             "#276419"
            ]
           ],
           "sequential": [
            [
             0,
             "#0d0887"
            ],
            [
             0.1111111111111111,
             "#46039f"
            ],
            [
             0.2222222222222222,
             "#7201a8"
            ],
            [
             0.3333333333333333,
             "#9c179e"
            ],
            [
             0.4444444444444444,
             "#bd3786"
            ],
            [
             0.5555555555555556,
             "#d8576b"
            ],
            [
             0.6666666666666666,
             "#ed7953"
            ],
            [
             0.7777777777777778,
             "#fb9f3a"
            ],
            [
             0.8888888888888888,
             "#fdca26"
            ],
            [
             1,
             "#f0f921"
            ]
           ],
           "sequentialminus": [
            [
             0,
             "#0d0887"
            ],
            [
             0.1111111111111111,
             "#46039f"
            ],
            [
             0.2222222222222222,
             "#7201a8"
            ],
            [
             0.3333333333333333,
             "#9c179e"
            ],
            [
             0.4444444444444444,
             "#bd3786"
            ],
            [
             0.5555555555555556,
             "#d8576b"
            ],
            [
             0.6666666666666666,
             "#ed7953"
            ],
            [
             0.7777777777777778,
             "#fb9f3a"
            ],
            [
             0.8888888888888888,
             "#fdca26"
            ],
            [
             1,
             "#f0f921"
            ]
           ]
          },
          "colorway": [
           "#636efa",
           "#EF553B",
           "#00cc96",
           "#ab63fa",
           "#FFA15A",
           "#19d3f3",
           "#FF6692",
           "#B6E880",
           "#FF97FF",
           "#FECB52"
          ],
          "font": {
           "color": "#2a3f5f"
          },
          "geo": {
           "bgcolor": "white",
           "lakecolor": "white",
           "landcolor": "#E5ECF6",
           "showlakes": true,
           "showland": true,
           "subunitcolor": "white"
          },
          "hoverlabel": {
           "align": "left"
          },
          "hovermode": "closest",
          "mapbox": {
           "style": "light"
          },
          "paper_bgcolor": "white",
          "plot_bgcolor": "#E5ECF6",
          "polar": {
           "angularaxis": {
            "gridcolor": "white",
            "linecolor": "white",
            "ticks": ""
           },
           "bgcolor": "#E5ECF6",
           "radialaxis": {
            "gridcolor": "white",
            "linecolor": "white",
            "ticks": ""
           }
          },
          "scene": {
           "xaxis": {
            "backgroundcolor": "#E5ECF6",
            "gridcolor": "white",
            "gridwidth": 2,
            "linecolor": "white",
            "showbackground": true,
            "ticks": "",
            "zerolinecolor": "white"
           },
           "yaxis": {
            "backgroundcolor": "#E5ECF6",
            "gridcolor": "white",
            "gridwidth": 2,
            "linecolor": "white",
            "showbackground": true,
            "ticks": "",
            "zerolinecolor": "white"
           },
           "zaxis": {
            "backgroundcolor": "#E5ECF6",
            "gridcolor": "white",
            "gridwidth": 2,
            "linecolor": "white",
            "showbackground": true,
            "ticks": "",
            "zerolinecolor": "white"
           }
          },
          "shapedefaults": {
           "line": {
            "color": "#2a3f5f"
           }
          },
          "ternary": {
           "aaxis": {
            "gridcolor": "white",
            "linecolor": "white",
            "ticks": ""
           },
           "baxis": {
            "gridcolor": "white",
            "linecolor": "white",
            "ticks": ""
           },
           "bgcolor": "#E5ECF6",
           "caxis": {
            "gridcolor": "white",
            "linecolor": "white",
            "ticks": ""
           }
          },
          "title": {
           "x": 0.05
          },
          "xaxis": {
           "automargin": true,
           "gridcolor": "white",
           "linecolor": "white",
           "ticks": "",
           "title": {
            "standoff": 15
           },
           "zerolinecolor": "white",
           "zerolinewidth": 2
          },
          "yaxis": {
           "automargin": true,
           "gridcolor": "white",
           "linecolor": "white",
           "ticks": "",
           "title": {
            "standoff": 15
           },
           "zerolinecolor": "white",
           "zerolinewidth": 2
          }
         }
        },
        "title": {
         "text": "KNN Grid Search"
        },
        "xaxis": {
         "anchor": "y",
         "domain": [
          0,
          1
         ],
         "title": {
          "text": "_index"
         }
        },
        "yaxis": {
         "anchor": "x",
         "domain": [
          0,
          1
         ],
         "title": {
          "text": "mean_test_score"
         }
        }
       }
      }
     },
     "metadata": {},
     "output_type": "display_data"
    }
   ],
   "source": [
    "px.line(grid_knn_results,\n",
    "        y='mean_test_score',\n",
    "        title = 'KNN Grid Search',\n",
    "        hover_data=['param_n_neighbors', 'param_weights', 'param_algorithm', 'param_metric'],\n",
    "        )"
   ]
  },
  {
   "cell_type": "code",
   "execution_count": null,
   "metadata": {},
   "outputs": [],
   "source": []
  }
 ],
 "metadata": {
  "kernelspec": {
   "display_name": "Python 3.9.5 ('base')",
   "language": "python",
   "name": "python3"
  },
  "language_info": {
   "codemirror_mode": {
    "name": "ipython",
    "version": 3
   },
   "file_extension": ".py",
   "mimetype": "text/x-python",
   "name": "python",
   "nbconvert_exporter": "python",
   "pygments_lexer": "ipython3",
   "version": "3.9.5"
  },
  "orig_nbformat": 4,
  "vscode": {
   "interpreter": {
    "hash": "f02d14c92777b6146aa15550b7943a4c822d03a7b687e2ab3034dfd70b13a3a1"
   }
  }
 },
 "nbformat": 4,
 "nbformat_minor": 2
}
